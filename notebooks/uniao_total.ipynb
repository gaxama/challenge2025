{
 "cells": [
  {
   "cell_type": "code",
   "execution_count": 1,
   "id": "9b3c76c6",
   "metadata": {},
   "outputs": [],
   "source": [
    "import pandas as pd\n",
    "import numpy as np"
   ]
  },
  {
   "cell_type": "markdown",
   "id": "52581bbb",
   "metadata": {},
   "source": [
    "# Telemetria"
   ]
  },
  {
   "cell_type": "code",
   "execution_count": null,
   "id": "b226881f",
   "metadata": {},
   "outputs": [],
   "source": [
    "df_telemetria = pd.read_csv('../dados/dados_totvs/telemetria_1.csv')"
   ]
  },
  {
   "cell_type": "code",
   "execution_count": null,
   "id": "a56549bf",
   "metadata": {},
   "outputs": [],
   "source": [
    "for i in range(2, 12):\n",
    "    proximo_df = pd.read_csv(f'../dados/dados_totvs/telemetria_{i}.csv')\n",
    "    df_telemetria = pd.concat([df_telemetria, proximo_df], ignore_index=True)"
   ]
  },
  {
   "cell_type": "code",
   "execution_count": 9,
   "id": "b2d734a2",
   "metadata": {},
   "outputs": [],
   "source": [
    "# Conmvetendo o código da loja em código do cliente (removendo últiumos 2 dígitos)\n",
    "df_telemetria['clienteid'] = df_telemetria['clienteid'].str[:-2]"
   ]
  },
  {
   "cell_type": "code",
   "execution_count": 10,
   "id": "27d3a327",
   "metadata": {},
   "outputs": [],
   "source": [
    "# Definindo função de agregação pela moda\n",
    "\n",
    "def agg_moda(x):\n",
    "    m = x.dropna().mode()\n",
    "    if not m.empty:\n",
    "        return m.iloc[0]\n",
    "    return np.nan"
   ]
  },
  {
   "cell_type": "code",
   "execution_count": 11,
   "id": "64e580f6",
   "metadata": {},
   "outputs": [],
   "source": [
    "# Criando coluna para contagem de casos\n",
    "\n",
    "df_telemetria['contagem'] = 1"
   ]
  },
  {
   "cell_type": "code",
   "execution_count": 12,
   "id": "4a0092eb",
   "metadata": {},
   "outputs": [],
   "source": [
    "# Agrupando o df por cliente\n",
    "\n",
    "df_telemetria = df_telemetria.groupby('clienteid').agg({\n",
    "                             'moduloid': agg_moda,\n",
    "                             'productlineid': agg_moda,\n",
    "                             'slotid': agg_moda,\n",
    "                             'statuslicenca': agg_moda,\n",
    "                             'contagem': 'count'}).reset_index()"
   ]
  },
  {
   "cell_type": "code",
   "execution_count": 13,
   "id": "25e2fae8",
   "metadata": {},
   "outputs": [],
   "source": [
    "df_telemetria.columns = ['CD_CLIENTE',\n",
    "                       'telemetria_moduloid_moda',\n",
    "                       'telemetria_productlineid_moda',\n",
    "                       'telemetria_slotid_moda',\n",
    "                       'telemetria_statuslicenca_moda',\n",
    "                       'telemetria_contagem']"
   ]
  },
  {
   "cell_type": "markdown",
   "id": "8de9794d",
   "metadata": {},
   "source": [
    "# Dados Clientes"
   ]
  },
  {
   "cell_type": "code",
   "execution_count": null,
   "id": "4c4a3b3e",
   "metadata": {},
   "outputs": [],
   "source": [
    "df_dados_clientes = pd.read_csv('../dados/dados_totvs/dados_clientes.csv', sep=';')"
   ]
  },
  {
   "cell_type": "code",
   "execution_count": 16,
   "id": "7a5a36e7",
   "metadata": {},
   "outputs": [],
   "source": [
    "# Convertendo valores monetarios para floar/int\n",
    "\n",
    "df_dados_clientes[\"VL_TOTAL_CONTRATO\"] = df_dados_clientes[\"VL_TOTAL_CONTRATO\"].str.replace(\",\", \".\").astype(float)"
   ]
  },
  {
   "cell_type": "code",
   "execution_count": 17,
   "id": "fb7a0934",
   "metadata": {},
   "outputs": [],
   "source": [
    "# Transformando contratos de valor negativo em 0\n",
    "\n",
    "df_dados_clientes.loc[df_dados_clientes[\"VL_TOTAL_CONTRATO\"] < 0, \"VL_TOTAL_CONTRATO\"] = 0"
   ]
  },
  {
   "cell_type": "code",
   "execution_count": 18,
   "id": "575af3ea",
   "metadata": {},
   "outputs": [],
   "source": [
    "# Preenchendo valores nulos do segmento do cliente como \"Não Informado\"\n",
    "\n",
    "df_dados_clientes['DS_SUBSEGMENTO'] = df_dados_clientes['DS_SUBSEGMENTO'].fillna('NAO INFORMADO')"
   ]
  },
  {
   "cell_type": "code",
   "execution_count": 19,
   "id": "23ff12e7",
   "metadata": {},
   "outputs": [],
   "source": [
    "# Preenchendo valores nulos da amrca totvs como \"Não Informado\"\n",
    "\n",
    "df_dados_clientes['MARCA_TOTVS'] = df_dados_clientes['MARCA_TOTVS'].fillna('NAO INFORMADO')"
   ]
  },
  {
   "cell_type": "code",
   "execution_count": 20,
   "id": "b850a3e5",
   "metadata": {},
   "outputs": [],
   "source": [
    "# Preenchendo valores nulos do modal comercial como \"Não Informado\"\n",
    "\n",
    "df_dados_clientes['MODAL_COMERC'] = df_dados_clientes['MODAL_COMERC'].fillna('NAO INFORMADO')"
   ]
  },
  {
   "cell_type": "code",
   "execution_count": 21,
   "id": "2f9e4308",
   "metadata": {},
   "outputs": [],
   "source": [
    "# Preenchendo valores nulos da situação contratual como \"Não Informado\"\n",
    "\n",
    "df_dados_clientes['SITUACAO_CONTRATO'] = df_dados_clientes['SITUACAO_CONTRATO'].fillna('NAO INFORMADO')"
   ]
  },
  {
   "cell_type": "code",
   "execution_count": 22,
   "id": "e5535074",
   "metadata": {},
   "outputs": [],
   "source": [
    "def agg_moda_faixa(x):\n",
    "    # Conta as frequências\n",
    "    contagem = x.dropna().value_counts()\n",
    "    \n",
    "    if contagem.empty:\n",
    "        return np.nan\n",
    "    \n",
    "    # Pega o mais frequente\n",
    "    mais_frequente = contagem.index[0]\n",
    "    \n",
    "    # Se for \"Sem Informações de Faturamento\" e existir outro valor\n",
    "    if mais_frequente == \"Sem Informações de Faturamento\" and len(contagem) > 1:\n",
    "        return contagem.index[1]  # segundo valor mais frequente\n",
    "    \n",
    "    return mais_frequente"
   ]
  },
  {
   "cell_type": "code",
   "execution_count": 23,
   "id": "a4ae495e",
   "metadata": {},
   "outputs": [],
   "source": [
    "# Criando o dataframe agruapdo\n",
    "\n",
    "df_dados_clientes = df_dados_clientes.groupby('CD_CLIENTE').agg({'DS_PROD':agg_moda,\n",
    "                             'DS_LIN_REC':agg_moda,\n",
    "                             'CIDADE':agg_moda,\n",
    "                             'DS_CNAE':agg_moda,\n",
    "                             'DS_SEGMENTO':agg_moda,\n",
    "                             'DS_SUBSEGMENTO':agg_moda,\n",
    "                             'FAT_FAIXA':agg_moda_faixa,\n",
    "                             'MARCA_TOTVS':agg_moda,\n",
    "                             'MODAL_COMERC':agg_moda,\n",
    "                             'PAIS':agg_moda,\n",
    "                             'PERIODICIDADE':agg_moda,\n",
    "                             'UF':agg_moda,\n",
    "                             'VL_TOTAL_CONTRATO':'sum'}).reset_index()"
   ]
  },
  {
   "cell_type": "code",
   "execution_count": 24,
   "id": "2d05be53",
   "metadata": {},
   "outputs": [],
   "source": [
    "# Renomeando colunas\n",
    "\n",
    "df_dados_clientes.columns = ['CD_CLIENTE', 'dados_clientes_DS_PROD_moda', 'dados_clientes_DS_LIN_REC_moda', 'dados_clientes_CIDADE_moda',\n",
    "                             'dados_clientes_DS_CNAE_moda',\n",
    "       'dados_clientes_DS_SEGMENTO_moda', 'dados_clientes_DS_SUBSEGMENTO_moda', 'dados_clientes_FAT_FAIXA_moda',\n",
    "       'dados_clientes_MARCA_TOTVS_moda',\n",
    "       'dados_clientes_MODAL_COMERC_moda', 'dados_clientes_PAIS_moda', 'dados_clientes_PERIODICIDADE_moda', 'dados_clientes_UF_moda',\n",
    "       'dados_clientes_VL_TOTAL_CONTRATO_soma']"
   ]
  },
  {
   "cell_type": "code",
   "execution_count": 25,
   "id": "1af098b4",
   "metadata": {},
   "outputs": [],
   "source": [
    "# Dividindo os valores de contrato em faixas\n",
    "\n",
    "# Definir o tamanho da faixa (1 milhão)\n",
    "tamanho_faixa = 500_000\n",
    "\n",
    "# Determinar valor máximo da coluna\n",
    "max_valor = df_dados_clientes[\"dados_clientes_VL_TOTAL_CONTRATO_soma\"].max()\n",
    "\n",
    "# Criar limites automaticamente: de 0 até o próximo milhão acima do máximo\n",
    "limites = np.arange(0, max_valor + tamanho_faixa, tamanho_faixa)\n",
    "\n",
    "# Criar rótulos das faixas\n",
    "labels = [f\"{int(l/500_000)*0.5}-{int(limites[i+1]/500_000)*0.5}M\" for i, l in enumerate(limites[:-1])]\n",
    "\n",
    "# Criar a coluna com as faixas\n",
    "df_dados_clientes[\"dados_clientes_faixa_VL_TOTAL_CONTRATO_soma\"] = pd.cut(df_dados_clientes[\"dados_clientes_VL_TOTAL_CONTRATO_soma\"], bins=limites, labels=labels, include_lowest=True)"
   ]
  },
  {
   "cell_type": "markdown",
   "id": "77d8d9b9",
   "metadata": {},
   "source": [
    "# Clientes Desde"
   ]
  },
  {
   "cell_type": "code",
   "execution_count": null,
   "id": "3598b588",
   "metadata": {},
   "outputs": [],
   "source": [
    "df_clientes_desde = pd.read_csv('../dados/dados_totvs/clientes_desde.csv', sep=';')"
   ]
  },
  {
   "cell_type": "code",
   "execution_count": 27,
   "id": "54c27a8e",
   "metadata": {},
   "outputs": [],
   "source": [
    "# Converter string -> datetime\n",
    "df_clientes_desde[\"CLIENTE_DESDE\"] = pd.to_datetime(\n",
    "    df_clientes_desde[\"CLIENTE_DESDE\"], format=\"%Y-%m-%d\", errors=\"coerce\"\n",
    ")"
   ]
  },
  {
   "cell_type": "code",
   "execution_count": 28,
   "id": "7d45eb73",
   "metadata": {},
   "outputs": [],
   "source": [
    "# Calcular diferença em dias até hoje\n",
    "df_clientes_desde[\"CLIENTE_DESDE\"] = (\n",
    "    pd.Timestamp.today().normalize() - df_clientes_desde[\"CLIENTE_DESDE\"]\n",
    ").dt.days.astype(\"Int64\")  # Int64 aceita nulos"
   ]
  },
  {
   "cell_type": "code",
   "execution_count": 29,
   "id": "c2e9e081",
   "metadata": {},
   "outputs": [],
   "source": [
    "# Renomeando coluna de cliente para fazer o merge\n",
    "df_clientes_desde.rename(columns={\"CLIENTE\": \"CD_CLIENTE\"}, inplace=True)"
   ]
  },
  {
   "cell_type": "code",
   "execution_count": 33,
   "id": "04ac225f",
   "metadata": {},
   "outputs": [
    {
     "name": "stdout",
     "output_type": "stream",
     "text": [
      "<class 'pandas.core.frame.DataFrame'>\n",
      "RangeIndex: 10615 entries, 0 to 10614\n",
      "Data columns (total 2 columns):\n",
      " #   Column         Non-Null Count  Dtype \n",
      "---  ------         --------------  ----- \n",
      " 0   CD_CLIENTE     10615 non-null  object\n",
      " 1   CLIENTE_DESDE  10615 non-null  Int64 \n",
      "dtypes: Int64(1), object(1)\n",
      "memory usage: 176.4+ KB\n"
     ]
    }
   ],
   "source": [
    "df_clientes_desde.info()"
   ]
  },
  {
   "cell_type": "code",
   "execution_count": 34,
   "id": "8a6aab23",
   "metadata": {},
   "outputs": [
    {
     "data": {
      "text/plain": [
       "10615"
      ]
     },
     "execution_count": 34,
     "metadata": {},
     "output_type": "execute_result"
    }
   ],
   "source": [
    "df_clientes_desde['CD_CLIENTE'].nunique()"
   ]
  },
  {
   "cell_type": "markdown",
   "id": "87f83c5b",
   "metadata": {},
   "source": [
    "# Contratações Últimos 12 Meses"
   ]
  },
  {
   "cell_type": "code",
   "execution_count": null,
   "id": "424ae90c",
   "metadata": {},
   "outputs": [],
   "source": [
    "df_contratacoes_ultimos_12_meses = pd.read_csv('../dados/dados_totvs/contratacoes_ultimos_12_meses.csv', sep=';')"
   ]
  },
  {
   "cell_type": "code",
   "execution_count": 31,
   "id": "96fa2776",
   "metadata": {},
   "outputs": [],
   "source": [
    "# Convertendo valores monetarios para floar/int\n",
    "df_contratacoes_ultimos_12_meses['VLR_CONTRATACOES_12M'] = df_contratacoes_ultimos_12_meses['VLR_CONTRATACOES_12M'].str.replace(\",\", \".\").astype(float)"
   ]
  },
  {
   "cell_type": "code",
   "execution_count": 35,
   "id": "f2d6ddd1",
   "metadata": {},
   "outputs": [
    {
     "name": "stdout",
     "output_type": "stream",
     "text": [
      "<class 'pandas.core.frame.DataFrame'>\n",
      "RangeIndex: 4314 entries, 0 to 4313\n",
      "Data columns (total 3 columns):\n",
      " #   Column                Non-Null Count  Dtype  \n",
      "---  ------                --------------  -----  \n",
      " 0   CD_CLIENTE            4314 non-null   object \n",
      " 1   QTD_CONTRATACOES_12M  4314 non-null   int64  \n",
      " 2   VLR_CONTRATACOES_12M  4314 non-null   float64\n",
      "dtypes: float64(1), int64(1), object(1)\n",
      "memory usage: 101.2+ KB\n"
     ]
    }
   ],
   "source": [
    "df_contratacoes_ultimos_12_meses.info()"
   ]
  },
  {
   "cell_type": "code",
   "execution_count": 36,
   "id": "d2e8e060",
   "metadata": {},
   "outputs": [
    {
     "data": {
      "text/plain": [
       "4314"
      ]
     },
     "execution_count": 36,
     "metadata": {},
     "output_type": "execute_result"
    }
   ],
   "source": [
    "df_contratacoes_ultimos_12_meses['CD_CLIENTE'].nunique()"
   ]
  },
  {
   "cell_type": "markdown",
   "id": "7fc91551",
   "metadata": {},
   "source": [
    "# MRR"
   ]
  },
  {
   "cell_type": "code",
   "execution_count": null,
   "id": "cad6a3c5",
   "metadata": {},
   "outputs": [],
   "source": [
    "df_mrr = pd.read_csv('../dados/dados_totvs/mrr.csv', sep=';')"
   ]
  },
  {
   "cell_type": "code",
   "execution_count": 38,
   "id": "17e6b981",
   "metadata": {},
   "outputs": [],
   "source": [
    "# Renomeando coluna de cliente para fazer o merge\n",
    "df_mrr.rename(columns={\"CLIENTE\": \"CD_CLIENTE\"}, inplace=True)"
   ]
  },
  {
   "cell_type": "code",
   "execution_count": 39,
   "id": "690e3549",
   "metadata": {},
   "outputs": [
    {
     "name": "stdout",
     "output_type": "stream",
     "text": [
      "<class 'pandas.core.frame.DataFrame'>\n",
      "RangeIndex: 7309 entries, 0 to 7308\n",
      "Data columns (total 2 columns):\n",
      " #   Column      Non-Null Count  Dtype  \n",
      "---  ------      --------------  -----  \n",
      " 0   CD_CLIENTE  7309 non-null   object \n",
      " 1   MRR_12M     7309 non-null   float64\n",
      "dtypes: float64(1), object(1)\n",
      "memory usage: 114.3+ KB\n"
     ]
    }
   ],
   "source": [
    "df_mrr.info()"
   ]
  },
  {
   "cell_type": "code",
   "execution_count": 40,
   "id": "831e9654",
   "metadata": {},
   "outputs": [
    {
     "data": {
      "text/plain": [
       "7309"
      ]
     },
     "execution_count": 40,
     "metadata": {},
     "output_type": "execute_result"
    }
   ],
   "source": [
    "df_mrr['CD_CLIENTE'].nunique()"
   ]
  },
  {
   "cell_type": "markdown",
   "id": "3e570ecb",
   "metadata": {},
   "source": [
    "# NPS Relacional"
   ]
  },
  {
   "cell_type": "code",
   "execution_count": null,
   "id": "6c5b75ce",
   "metadata": {},
   "outputs": [],
   "source": [
    "df_nps_relacional = pd.read_csv('../dados/dados_totvs/nps_relacional.csv', sep=';')"
   ]
  },
  {
   "cell_type": "code",
   "execution_count": 42,
   "id": "2b013fb2",
   "metadata": {},
   "outputs": [
    {
     "name": "stdout",
     "output_type": "stream",
     "text": [
      "<class 'pandas.core.frame.DataFrame'>\n",
      "RangeIndex: 14143 entries, 0 to 14142\n",
      "Data columns (total 11 columns):\n",
      " #   Column                     Non-Null Count  Dtype  \n",
      "---  ------                     --------------  -----  \n",
      " 0   respondedAt                14143 non-null  object \n",
      " 1   metadata_codcliente        14143 non-null  object \n",
      " 2   resposta_NPS               14143 non-null  int64  \n",
      " 3   resposta_unidade           11311 non-null  float64\n",
      " 4   Nota_SupTec_Agilidade      8067 non-null   float64\n",
      " 5   Nota_SupTec_Atendimento    7161 non-null   float64\n",
      " 6   Nota_Comercial             6907 non-null   float64\n",
      " 7   Nota_Custos                7504 non-null   float64\n",
      " 8   Nota_AdmFin_Atendimento    6494 non-null   float64\n",
      " 9   Nota_Software              5821 non-null   float64\n",
      " 10  Nota_Software_Atualizacao  7435 non-null   float64\n",
      "dtypes: float64(8), int64(1), object(2)\n",
      "memory usage: 1.2+ MB\n"
     ]
    }
   ],
   "source": [
    "df_nps_relacional.info()"
   ]
  },
  {
   "cell_type": "code",
   "execution_count": 44,
   "id": "7d7e680d",
   "metadata": {},
   "outputs": [],
   "source": [
    "# Renomeando coluna de cliente para fazer o merge\n",
    "df_nps_relacional.rename(columns={\"metadata_codcliente\": \"CD_CLIENTE\"}, inplace=True)"
   ]
  },
  {
   "cell_type": "code",
   "execution_count": 45,
   "id": "6f7ebe7e",
   "metadata": {},
   "outputs": [
    {
     "data": {
      "text/plain": [
       "4862"
      ]
     },
     "execution_count": 45,
     "metadata": {},
     "output_type": "execute_result"
    }
   ],
   "source": [
    "df_nps_relacional['CD_CLIENTE'].nunique()"
   ]
  },
  {
   "cell_type": "code",
   "execution_count": 46,
   "id": "d0af7fb2",
   "metadata": {},
   "outputs": [],
   "source": [
    "# Removendo data de resposta (sem importancia para a clusterização)\n",
    "df_nps_relacional = df_nps_relacional.drop('respondedAt', axis=1)"
   ]
  },
  {
   "cell_type": "code",
   "execution_count": 47,
   "id": "98163cad",
   "metadata": {},
   "outputs": [],
   "source": [
    "# agrupando por cliente e pegando a mediana (mais robusta que a média)\n",
    "df_nps_relacional = df_nps_relacional.groupby('CD_CLIENTE').agg('median').reset_index()"
   ]
  },
  {
   "cell_type": "code",
   "execution_count": 48,
   "id": "ea068b5d",
   "metadata": {},
   "outputs": [
    {
     "data": {
      "text/plain": [
       "Index(['CD_CLIENTE', 'resposta_NPS', 'resposta_unidade',\n",
       "       'Nota_SupTec_Agilidade', 'Nota_SupTec_Atendimento', 'Nota_Comercial',\n",
       "       'Nota_Custos', 'Nota_AdmFin_Atendimento', 'Nota_Software',\n",
       "       'Nota_Software_Atualizacao'],\n",
       "      dtype='object')"
      ]
     },
     "execution_count": 48,
     "metadata": {},
     "output_type": "execute_result"
    }
   ],
   "source": [
    "df_nps_relacional.columns"
   ]
  },
  {
   "cell_type": "code",
   "execution_count": 49,
   "id": "0f93a24f",
   "metadata": {},
   "outputs": [],
   "source": [
    "df_nps_relacional.columns = ['CD_CLIENTE', 'nps_relacional_resposta_NPS', 'nps_relacional_resposta_unidade',\n",
    "       'nps_relacional_Nota_SupTec_Agilidade', 'nps_relacional_Nota_SupTec_Atendimento', 'nps_relacional_Nota_Comercial',\n",
    "       'nps_relacional_Nota_Custos', 'nps_relacional_Nota_AdmFin_Atendimento', 'nps_relacional_Nota_Software',\n",
    "       'nps_relacional_Nota_Software_Atualizacao']"
   ]
  },
  {
   "cell_type": "code",
   "execution_count": 77,
   "id": "eb6874a0",
   "metadata": {},
   "outputs": [],
   "source": [
    "# Preenchendo os valores nulos com a mediana da resposta NPS\n",
    "\n",
    "colunas_para_preencher = df_nps_relacional.columns.drop(['CD_CLIENTE', 'nps_relacional_resposta_NPS']).tolist()\n",
    "\n",
    "for coluna in colunas_para_preencher:\n",
    "    df_nps_relacional[coluna] = df_nps_relacional[coluna].fillna(df_nps_relacional[\"nps_relacional_resposta_NPS\"])"
   ]
  },
  {
   "cell_type": "markdown",
   "id": "c067dfc2",
   "metadata": {},
   "source": [
    "# Histórico"
   ]
  },
  {
   "cell_type": "code",
   "execution_count": null,
   "id": "3413870e",
   "metadata": {},
   "outputs": [],
   "source": [
    "df_historico = pd.read_csv('../dados/dados_totvs/historico.csv', sep=';')"
   ]
  },
  {
   "cell_type": "code",
   "execution_count": 65,
   "id": "02e7de73",
   "metadata": {},
   "outputs": [
    {
     "name": "stdout",
     "output_type": "stream",
     "text": [
      "<class 'pandas.core.frame.DataFrame'>\n",
      "RangeIndex: 22740 entries, 0 to 22739\n",
      "Data columns (total 16 columns):\n",
      " #   Column                  Non-Null Count  Dtype \n",
      "---  ------                  --------------  ----- \n",
      " 0   NR_PROPOSTA             22740 non-null  object\n",
      " 1   ITEM_PROPOSTA           22740 non-null  int64 \n",
      " 2   DT_UPLOAD               22740 non-null  object\n",
      " 3   HOSPEDAGEM              22740 non-null  object\n",
      " 4   CD_CLI                  22740 non-null  object\n",
      " 5   FAT_FAIXA               22740 non-null  object\n",
      " 6   CD_PROD                 22740 non-null  object\n",
      " 7   QTD                     22740 non-null  object\n",
      " 8   MESES_BONIF             22740 non-null  int64 \n",
      " 9   VL_PCT_DESC_TEMP        22740 non-null  object\n",
      " 10  VL_PCT_DESCONTO         22740 non-null  object\n",
      " 11  PRC_UNITARIO            22740 non-null  object\n",
      " 12  VL_DESCONTO_TEMPORARIO  22740 non-null  object\n",
      " 13  VL_TOTAL                22740 non-null  object\n",
      " 14  VL_FULL                 22740 non-null  object\n",
      " 15  VL_DESCONTO             22740 non-null  object\n",
      "dtypes: int64(2), object(14)\n",
      "memory usage: 2.8+ MB\n"
     ]
    }
   ],
   "source": [
    "df_historico.info()"
   ]
  },
  {
   "cell_type": "code",
   "execution_count": 66,
   "id": "a12323ce",
   "metadata": {},
   "outputs": [
    {
     "data": {
      "text/plain": [
       "Index(['NR_PROPOSTA', 'ITEM_PROPOSTA', 'DT_UPLOAD', 'HOSPEDAGEM', 'CD_CLI',\n",
       "       'FAT_FAIXA', 'CD_PROD', 'QTD', 'MESES_BONIF', 'VL_PCT_DESC_TEMP',\n",
       "       'VL_PCT_DESCONTO', 'PRC_UNITARIO', 'VL_DESCONTO_TEMPORARIO', 'VL_TOTAL',\n",
       "       'VL_FULL', 'VL_DESCONTO'],\n",
       "      dtype='object')"
      ]
     },
     "execution_count": 66,
     "metadata": {},
     "output_type": "execute_result"
    }
   ],
   "source": [
    "df_historico.columns"
   ]
  },
  {
   "cell_type": "code",
   "execution_count": 67,
   "id": "ef2ab57f",
   "metadata": {},
   "outputs": [],
   "source": [
    "# faça o mesmo para as colunas de valores monetários, se necessário\n",
    "cols_numericas = [\n",
    "    'QTD', 'VL_PCT_DESC_TEMP',\n",
    "       'VL_PCT_DESCONTO', 'PRC_UNITARIO', 'VL_DESCONTO_TEMPORARIO', 'VL_TOTAL',\n",
    "       'VL_FULL', 'VL_DESCONTO'\n",
    "]\n",
    "\n",
    "for col in cols_numericas:\n",
    "    df_historico[col] = pd.to_numeric(df_historico[col], errors='coerce')"
   ]
  },
  {
   "cell_type": "code",
   "execution_count": 69,
   "id": "6e968f9f",
   "metadata": {},
   "outputs": [],
   "source": [
    "df_historico = df_historico.groupby('CD_CLI').agg({\n",
    "    'NR_PROPOSTA': 'count',\n",
    "    'ITEM_PROPOSTA': agg_moda,\n",
    "    'HOSPEDAGEM': agg_moda,\n",
    "    'CD_PROD': agg_moda,\n",
    "    'QTD': 'mean',\n",
    "    'MESES_BONIF': agg_moda,\n",
    "    'VL_PCT_DESC_TEMP': ['median', 'sum'],\n",
    "    'VL_PCT_DESCONTO': ['median', 'sum'],\n",
    "    'PRC_UNITARIO': ['median', 'sum'],\n",
    "    'VL_DESCONTO_TEMPORARIO': ['median', 'sum'],\n",
    "    'VL_TOTAL': ['median', 'sum'],\n",
    "    'VL_FULL': ['median', 'sum'],\n",
    "    'VL_DESCONTO': ['median', 'sum'],\n",
    "}).reset_index()"
   ]
  },
  {
   "cell_type": "code",
   "execution_count": 70,
   "id": "f467e4a8",
   "metadata": {},
   "outputs": [
    {
     "data": {
      "text/plain": [
       "MultiIndex([(                'CD_CLI',         ''),\n",
       "            (           'NR_PROPOSTA',    'count'),\n",
       "            (         'ITEM_PROPOSTA', 'agg_moda'),\n",
       "            (            'HOSPEDAGEM', 'agg_moda'),\n",
       "            (               'CD_PROD', 'agg_moda'),\n",
       "            (                   'QTD',     'mean'),\n",
       "            (           'MESES_BONIF', 'agg_moda'),\n",
       "            (      'VL_PCT_DESC_TEMP',   'median'),\n",
       "            (      'VL_PCT_DESC_TEMP',      'sum'),\n",
       "            (       'VL_PCT_DESCONTO',   'median'),\n",
       "            (       'VL_PCT_DESCONTO',      'sum'),\n",
       "            (          'PRC_UNITARIO',   'median'),\n",
       "            (          'PRC_UNITARIO',      'sum'),\n",
       "            ('VL_DESCONTO_TEMPORARIO',   'median'),\n",
       "            ('VL_DESCONTO_TEMPORARIO',      'sum'),\n",
       "            (              'VL_TOTAL',   'median'),\n",
       "            (              'VL_TOTAL',      'sum'),\n",
       "            (               'VL_FULL',   'median'),\n",
       "            (               'VL_FULL',      'sum'),\n",
       "            (           'VL_DESCONTO',   'median'),\n",
       "            (           'VL_DESCONTO',      'sum')],\n",
       "           )"
      ]
     },
     "execution_count": 70,
     "metadata": {},
     "output_type": "execute_result"
    }
   ],
   "source": [
    "df_historico.columns"
   ]
  },
  {
   "cell_type": "code",
   "execution_count": 71,
   "id": "6c2708eb",
   "metadata": {},
   "outputs": [],
   "source": [
    "df_historico.columns = [\n",
    " 'CD_CLIENTE',\n",
    " 'historico_NR_PROPOSTA_count',\n",
    " 'historico_ITEM_PROPOSTA_agg_moda',\n",
    " 'historico_HOSPEDAGEM_agg_moda',\n",
    " 'historico_CD_PROD_agg_moda',\n",
    " 'historico_QTD_mean',\n",
    " 'historico_MESES_BONIF_agg_moda',\n",
    " 'historico_VL_PCT_DESC_TEMP_median',\n",
    " 'historico_VL_PCT_DESC_TEMP_sum',\n",
    " 'historico_VL_PCT_DESCONTO_median',\n",
    " 'historico_VL_PCT_DESCONTO_sum',\n",
    " 'historico_PRC_UNITARIO_median',\n",
    " 'historico_PRC_UNITARIO_sum',\n",
    " 'historico_VL_DESCONTO_TEMPORARIO_median',\n",
    " 'historico_VL_DESCONTO_TEMPORARIO_sum',\n",
    " 'historico_VL_TOTAL_median',\n",
    " 'historico_VL_TOTAL_sum',\n",
    " 'historico_VL_FULL_median',\n",
    " 'historico_VL_FULL_sum',\n",
    " 'historico_VL_DESCONTO_median',\n",
    " 'historico_VL_DESCONTO_sum'\n",
    "]\n"
   ]
  },
  {
   "cell_type": "markdown",
   "id": "c6ed5302",
   "metadata": {},
   "source": [
    "# NPS Transacional"
   ]
  },
  {
   "cell_type": "code",
   "execution_count": null,
   "id": "aba9aa74",
   "metadata": {},
   "outputs": [],
   "source": [
    "df_nps_transacional_aquisicao = pd.read_csv('../dados/dados_totvs/nps_transacional_aquisicao.csv', sep=';', encoding='latin1')"
   ]
  },
  {
   "cell_type": "code",
   "execution_count": 100,
   "id": "bac92ba4",
   "metadata": {},
   "outputs": [
    {
     "name": "stdout",
     "output_type": "stream",
     "text": [
      "<class 'pandas.core.frame.DataFrame'>\n",
      "RangeIndex: 165 entries, 0 to 164\n",
      "Data columns (total 7 columns):\n",
      " #   Column                                         Non-Null Count  Dtype  \n",
      "---  ------                                         --------------  -----  \n",
      " 0   CD_CLIENTE                                     165 non-null    object \n",
      " 1   nps_transacional_aquisicao_Nota_NPS            165 non-null    float64\n",
      " 2   nps_transacional_aquisicao_Nota_Agilidade      165 non-null    float64\n",
      " 3   nps_transacional_aquisicao_Nota_Conhecimento   165 non-null    float64\n",
      " 4   nps_transacional_aquisicao_Nota_Custo          165 non-null    float64\n",
      " 5   nps_transacional_aquisicao_Nota_Facilidade     165 non-null    float64\n",
      " 6   nps_transacional_aquisicao_Nota_Flexibilidade  165 non-null    float64\n",
      "dtypes: float64(6), object(1)\n",
      "memory usage: 9.2+ KB\n"
     ]
    }
   ],
   "source": [
    "df_nps_transacional_aquisicao.info()"
   ]
  },
  {
   "cell_type": "code",
   "execution_count": 95,
   "id": "b59b2d67",
   "metadata": {},
   "outputs": [],
   "source": [
    "df_nps_transacional_implantacao = pd.read_csv('nps_transacional_implantacao.csv', sep=';', encoding='latin1')"
   ]
  },
  {
   "cell_type": "code",
   "execution_count": 99,
   "id": "85b6cf0a",
   "metadata": {},
   "outputs": [
    {
     "name": "stdout",
     "output_type": "stream",
     "text": [
      "<class 'pandas.core.frame.DataFrame'>\n",
      "RangeIndex: 662 entries, 0 to 661\n",
      "Data columns (total 9 columns):\n",
      " #   Column             Non-Null Count  Dtype  \n",
      "---  ------             --------------  -----  \n",
      " 0   Cód. Cliente       661 non-null    object \n",
      " 1   Data da Resposta   662 non-null    object \n",
      " 2   Nota NPS           662 non-null    int64  \n",
      " 3   Nota Metodologia   417 non-null    float64\n",
      " 4   Nota Gestao        417 non-null    float64\n",
      " 5   Nota Conhecimento  417 non-null    float64\n",
      " 6   Nota Qualidade     417 non-null    float64\n",
      " 7   Nota Comunicacao   417 non-null    float64\n",
      " 8   Nota Prazos        417 non-null    float64\n",
      "dtypes: float64(6), int64(1), object(2)\n",
      "memory usage: 46.7+ KB\n"
     ]
    }
   ],
   "source": [
    "df_nps_transacional_implantacao.info()"
   ]
  },
  {
   "cell_type": "code",
   "execution_count": null,
   "id": "c97a0805",
   "metadata": {},
   "outputs": [],
   "source": [
    "df_nps_transacional_onboarding = pd.read_csv('../dados/dados_totvs/nps_transacional_onboarding.csv', sep=';', encoding='latin1')"
   ]
  },
  {
   "cell_type": "code",
   "execution_count": 98,
   "id": "158cf706",
   "metadata": {},
   "outputs": [
    {
     "name": "stdout",
     "output_type": "stream",
     "text": [
      "<class 'pandas.core.frame.DataFrame'>\n",
      "RangeIndex: 208 entries, 0 to 207\n",
      "Data columns (total 8 columns):\n",
      " #   Column                                                                                                                           Non-Null Count  Dtype  \n",
      "---  ------                                                                                                                           --------------  -----  \n",
      " 0   Data de resposta                                                                                                                 208 non-null    object \n",
      " 1   Cod Cliente                                                                                                                      207 non-null    object \n",
      " 2   Em uma escala de 0 a 10, quanto você recomenda o Onboarding da TOTVS para um amigo ou colega?.                                   208 non-null    int64  \n",
      " 3   Em uma escala de 0 a 10, o quanto você acredita que o atendimento CS Onboarding ajudou no início da sua trajetória com a TOTVS?  178 non-null    float64\n",
      " 4   - Duração do tempo na realização da reunião de Onboarding;                                                                       129 non-null    float64\n",
      " 5   - Clareza no acesso aos canais de comunicação da TOTVS;                                                                          129 non-null    float64\n",
      " 6   - Clareza nas informações em geral transmitidas pelo CS que lhe atendeu no Onboarding;                                           129 non-null    float64\n",
      " 7   - Expectativas atendidas no Onboarding da TOTVS.                                                                                 129 non-null    float64\n",
      "dtypes: float64(5), int64(1), object(2)\n",
      "memory usage: 13.1+ KB\n"
     ]
    }
   ],
   "source": [
    "df_nps_transacional_onboarding.info()"
   ]
  },
  {
   "cell_type": "code",
   "execution_count": null,
   "id": "bf317c85",
   "metadata": {},
   "outputs": [],
   "source": [
    "# Dataset relacional já basta"
   ]
  },
  {
   "cell_type": "markdown",
   "id": "5f110257",
   "metadata": {},
   "source": [
    "# Merge"
   ]
  },
  {
   "cell_type": "code",
   "execution_count": 101,
   "id": "c15e5ee4",
   "metadata": {},
   "outputs": [],
   "source": [
    "df = pd.merge(\n",
    "    df_telemetria, \n",
    "    df_dados_clientes, \n",
    "    on=\"CD_CLIENTE\",\n",
    "    how=\"outer\"\n",
    ")"
   ]
  },
  {
   "cell_type": "code",
   "execution_count": 102,
   "id": "30abf478",
   "metadata": {},
   "outputs": [],
   "source": [
    "df = pd.merge(\n",
    "    df, \n",
    "    df_clientes_desde, \n",
    "    on=\"CD_CLIENTE\",\n",
    "    how=\"outer\"\n",
    ")"
   ]
  },
  {
   "cell_type": "code",
   "execution_count": 103,
   "id": "54882970",
   "metadata": {},
   "outputs": [],
   "source": [
    "df = pd.merge(\n",
    "    df, \n",
    "    df_contratacoes_ultimos_12_meses, \n",
    "    on=\"CD_CLIENTE\",\n",
    "    how=\"outer\"\n",
    ")"
   ]
  },
  {
   "cell_type": "code",
   "execution_count": 104,
   "id": "ebade33d",
   "metadata": {},
   "outputs": [],
   "source": [
    "df = pd.merge(\n",
    "    df, \n",
    "    df_mrr, \n",
    "    on=\"CD_CLIENTE\",\n",
    "    how=\"outer\"\n",
    ")"
   ]
  },
  {
   "cell_type": "code",
   "execution_count": 105,
   "id": "3ce94242",
   "metadata": {},
   "outputs": [],
   "source": [
    "df = pd.merge(\n",
    "    df, \n",
    "    df_nps_relacional, \n",
    "    on=\"CD_CLIENTE\",\n",
    "    how=\"outer\"\n",
    ")"
   ]
  },
  {
   "cell_type": "code",
   "execution_count": 106,
   "id": "267f16ad",
   "metadata": {},
   "outputs": [],
   "source": [
    "df = pd.merge(\n",
    "    df, \n",
    "    df_historico, \n",
    "    on=\"CD_CLIENTE\",\n",
    "    how=\"outer\"\n",
    ")"
   ]
  },
  {
   "cell_type": "markdown",
   "id": "8291682f",
   "metadata": {},
   "source": [
    "# Análise"
   ]
  },
  {
   "cell_type": "code",
   "execution_count": 107,
   "id": "2eb258ac",
   "metadata": {},
   "outputs": [
    {
     "name": "stdout",
     "output_type": "stream",
     "text": [
      "<class 'pandas.core.frame.DataFrame'>\n",
      "RangeIndex: 10616 entries, 0 to 10615\n",
      "Data columns (total 53 columns):\n",
      " #   Column                                       Non-Null Count  Dtype   \n",
      "---  ------                                       --------------  -----   \n",
      " 0   CD_CLIENTE                                   10616 non-null  object  \n",
      " 1   telemetria_moduloid_moda                     4465 non-null   float64 \n",
      " 2   telemetria_productlineid_moda                4465 non-null   float64 \n",
      " 3   telemetria_slotid_moda                       4465 non-null   float64 \n",
      " 4   telemetria_statuslicenca_moda                4393 non-null   object  \n",
      " 5   telemetria_contagem                          4465 non-null   float64 \n",
      " 6   dados_clientes_DS_PROD_moda                  10615 non-null  object  \n",
      " 7   dados_clientes_DS_LIN_REC_moda               10615 non-null  object  \n",
      " 8   dados_clientes_CIDADE_moda                   10615 non-null  object  \n",
      " 9   dados_clientes_DS_CNAE_moda                  10615 non-null  object  \n",
      " 10  dados_clientes_DS_SEGMENTO_moda              10615 non-null  object  \n",
      " 11  dados_clientes_DS_SUBSEGMENTO_moda           10615 non-null  object  \n",
      " 12  dados_clientes_FAT_FAIXA_moda                10615 non-null  object  \n",
      " 13  dados_clientes_MARCA_TOTVS_moda              10615 non-null  object  \n",
      " 14  dados_clientes_MODAL_COMERC_moda             10615 non-null  object  \n",
      " 15  dados_clientes_PAIS_moda                     10615 non-null  float64 \n",
      " 16  dados_clientes_PERIODICIDADE_moda            10615 non-null  object  \n",
      " 17  dados_clientes_UF_moda                       10615 non-null  object  \n",
      " 18  dados_clientes_VL_TOTAL_CONTRATO_soma        10615 non-null  float64 \n",
      " 19  dados_clientes_faixa_VL_TOTAL_CONTRATO_soma  10615 non-null  category\n",
      " 20  CLIENTE_DESDE                                10615 non-null  Int64   \n",
      " 21  QTD_CONTRATACOES_12M                         4314 non-null   float64 \n",
      " 22  VLR_CONTRATACOES_12M                         4314 non-null   float64 \n",
      " 23  MRR_12M                                      7309 non-null   float64 \n",
      " 24  nps_relacional_resposta_NPS                  4862 non-null   float64 \n",
      " 25  nps_relacional_resposta_unidade              4862 non-null   float64 \n",
      " 26  nps_relacional_Nota_SupTec_Agilidade         4862 non-null   float64 \n",
      " 27  nps_relacional_Nota_SupTec_Atendimento       4862 non-null   float64 \n",
      " 28  nps_relacional_Nota_Comercial                4862 non-null   float64 \n",
      " 29  nps_relacional_Nota_Custos                   4862 non-null   float64 \n",
      " 30  nps_relacional_Nota_AdmFin_Atendimento       4862 non-null   float64 \n",
      " 31  nps_relacional_Nota_Software                 4862 non-null   float64 \n",
      " 32  nps_relacional_Nota_Software_Atualizacao     4862 non-null   float64 \n",
      " 33  historico_NR_PROPOSTA_count                  4053 non-null   float64 \n",
      " 34  historico_ITEM_PROPOSTA_agg_moda             4053 non-null   float64 \n",
      " 35  historico_HOSPEDAGEM_agg_moda                4053 non-null   object  \n",
      " 36  historico_CD_PROD_agg_moda                   4053 non-null   object  \n",
      " 37  historico_QTD_mean                           4040 non-null   float64 \n",
      " 38  historico_MESES_BONIF_agg_moda               4053 non-null   float64 \n",
      " 39  historico_VL_PCT_DESC_TEMP_median            3909 non-null   float64 \n",
      " 40  historico_VL_PCT_DESC_TEMP_sum               4053 non-null   float64 \n",
      " 41  historico_VL_PCT_DESCONTO_median             3580 non-null   float64 \n",
      " 42  historico_VL_PCT_DESCONTO_sum                4053 non-null   float64 \n",
      " 43  historico_PRC_UNITARIO_median                0 non-null      float64 \n",
      " 44  historico_PRC_UNITARIO_sum                   4053 non-null   float64 \n",
      " 45  historico_VL_DESCONTO_TEMPORARIO_median      3909 non-null   float64 \n",
      " 46  historico_VL_DESCONTO_TEMPORARIO_sum         4053 non-null   float64 \n",
      " 47  historico_VL_TOTAL_median                    0 non-null      float64 \n",
      " 48  historico_VL_TOTAL_sum                       4053 non-null   float64 \n",
      " 49  historico_VL_FULL_median                     123 non-null    float64 \n",
      " 50  historico_VL_FULL_sum                        4053 non-null   float64 \n",
      " 51  historico_VL_DESCONTO_median                 3579 non-null   float64 \n",
      " 52  historico_VL_DESCONTO_sum                    4053 non-null   float64 \n",
      "dtypes: Int64(1), category(1), float64(36), object(15)\n",
      "memory usage: 4.2+ MB\n"
     ]
    }
   ],
   "source": [
    "df.info()"
   ]
  },
  {
   "cell_type": "code",
   "execution_count": 108,
   "id": "160e706b",
   "metadata": {},
   "outputs": [
    {
     "data": {
      "application/vnd.microsoft.datawrangler.viewer.v0+json": {
       "columns": [
        {
         "name": "index",
         "rawType": "object",
         "type": "string"
        },
        {
         "name": "0",
         "rawType": "float64",
         "type": "float"
        }
       ],
       "ref": "8e8807fd-4383-4056-8f1d-9e1749a6be72",
       "rows": [
        [
         "CD_CLIENTE",
         "0.0"
        ],
        [
         "telemetria_moduloid_moda",
         "57.940844009042955"
        ],
        [
         "telemetria_productlineid_moda",
         "57.940844009042955"
        ],
        [
         "telemetria_slotid_moda",
         "57.940844009042955"
        ],
        [
         "telemetria_statuslicenca_moda",
         "58.619065561416726"
        ],
        [
         "telemetria_contagem",
         "57.940844009042955"
        ],
        [
         "dados_clientes_DS_PROD_moda",
         "0.009419743782969104"
        ],
        [
         "dados_clientes_DS_LIN_REC_moda",
         "0.009419743782969104"
        ],
        [
         "dados_clientes_CIDADE_moda",
         "0.009419743782969104"
        ],
        [
         "dados_clientes_DS_CNAE_moda",
         "0.009419743782969104"
        ],
        [
         "dados_clientes_DS_SEGMENTO_moda",
         "0.009419743782969104"
        ],
        [
         "dados_clientes_DS_SUBSEGMENTO_moda",
         "0.009419743782969104"
        ],
        [
         "dados_clientes_FAT_FAIXA_moda",
         "0.009419743782969104"
        ],
        [
         "dados_clientes_MARCA_TOTVS_moda",
         "0.009419743782969104"
        ],
        [
         "dados_clientes_MODAL_COMERC_moda",
         "0.009419743782969104"
        ],
        [
         "dados_clientes_PAIS_moda",
         "0.009419743782969104"
        ],
        [
         "dados_clientes_PERIODICIDADE_moda",
         "0.009419743782969104"
        ],
        [
         "dados_clientes_UF_moda",
         "0.009419743782969104"
        ],
        [
         "dados_clientes_VL_TOTAL_CONTRATO_soma",
         "0.009419743782969104"
        ],
        [
         "dados_clientes_faixa_VL_TOTAL_CONTRATO_soma",
         "0.009419743782969104"
        ],
        [
         "CLIENTE_DESDE",
         "0.009419743782969104"
        ],
        [
         "QTD_CONTRATACOES_12M",
         "59.36322532027128"
        ],
        [
         "VLR_CONTRATACOES_12M",
         "59.36322532027128"
        ],
        [
         "MRR_12M",
         "31.151092690278826"
        ],
        [
         "nps_relacional_resposta_NPS",
         "54.20120572720422"
        ],
        [
         "nps_relacional_resposta_unidade",
         "54.20120572720422"
        ],
        [
         "nps_relacional_Nota_SupTec_Agilidade",
         "54.20120572720422"
        ],
        [
         "nps_relacional_Nota_SupTec_Atendimento",
         "54.20120572720422"
        ],
        [
         "nps_relacional_Nota_Comercial",
         "54.20120572720422"
        ],
        [
         "nps_relacional_Nota_Custos",
         "54.20120572720422"
        ],
        [
         "nps_relacional_Nota_AdmFin_Atendimento",
         "54.20120572720422"
        ],
        [
         "nps_relacional_Nota_Software",
         "54.20120572720422"
        ],
        [
         "nps_relacional_Nota_Software_Atualizacao",
         "54.20120572720422"
        ],
        [
         "historico_NR_PROPOSTA_count",
         "61.82177844762623"
        ],
        [
         "historico_ITEM_PROPOSTA_agg_moda",
         "61.82177844762623"
        ],
        [
         "historico_HOSPEDAGEM_agg_moda",
         "61.82177844762623"
        ],
        [
         "historico_CD_PROD_agg_moda",
         "61.82177844762623"
        ],
        [
         "historico_QTD_mean",
         "61.944235116804826"
        ],
        [
         "historico_MESES_BONIF_agg_moda",
         "61.82177844762623"
        ],
        [
         "historico_VL_PCT_DESC_TEMP_median",
         "63.17822155237377"
        ],
        [
         "historico_VL_PCT_DESC_TEMP_sum",
         "61.82177844762623"
        ],
        [
         "historico_VL_PCT_DESCONTO_median",
         "66.27731725697062"
        ],
        [
         "historico_VL_PCT_DESCONTO_sum",
         "61.82177844762623"
        ],
        [
         "historico_PRC_UNITARIO_median",
         "100.0"
        ],
        [
         "historico_PRC_UNITARIO_sum",
         "61.82177844762623"
        ],
        [
         "historico_VL_DESCONTO_TEMPORARIO_median",
         "63.17822155237377"
        ],
        [
         "historico_VL_DESCONTO_TEMPORARIO_sum",
         "61.82177844762623"
        ],
        [
         "historico_VL_TOTAL_median",
         "100.0"
        ],
        [
         "historico_VL_TOTAL_sum",
         "61.82177844762623"
        ],
        [
         "historico_VL_FULL_median",
         "98.8413715146948"
        ]
       ],
       "shape": {
        "columns": 1,
        "rows": 53
       }
      },
      "text/plain": [
       "CD_CLIENTE                                       0.000000\n",
       "telemetria_moduloid_moda                        57.940844\n",
       "telemetria_productlineid_moda                   57.940844\n",
       "telemetria_slotid_moda                          57.940844\n",
       "telemetria_statuslicenca_moda                   58.619066\n",
       "telemetria_contagem                             57.940844\n",
       "dados_clientes_DS_PROD_moda                      0.009420\n",
       "dados_clientes_DS_LIN_REC_moda                   0.009420\n",
       "dados_clientes_CIDADE_moda                       0.009420\n",
       "dados_clientes_DS_CNAE_moda                      0.009420\n",
       "dados_clientes_DS_SEGMENTO_moda                  0.009420\n",
       "dados_clientes_DS_SUBSEGMENTO_moda               0.009420\n",
       "dados_clientes_FAT_FAIXA_moda                    0.009420\n",
       "dados_clientes_MARCA_TOTVS_moda                  0.009420\n",
       "dados_clientes_MODAL_COMERC_moda                 0.009420\n",
       "dados_clientes_PAIS_moda                         0.009420\n",
       "dados_clientes_PERIODICIDADE_moda                0.009420\n",
       "dados_clientes_UF_moda                           0.009420\n",
       "dados_clientes_VL_TOTAL_CONTRATO_soma            0.009420\n",
       "dados_clientes_faixa_VL_TOTAL_CONTRATO_soma      0.009420\n",
       "CLIENTE_DESDE                                    0.009420\n",
       "QTD_CONTRATACOES_12M                            59.363225\n",
       "VLR_CONTRATACOES_12M                            59.363225\n",
       "MRR_12M                                         31.151093\n",
       "nps_relacional_resposta_NPS                     54.201206\n",
       "nps_relacional_resposta_unidade                 54.201206\n",
       "nps_relacional_Nota_SupTec_Agilidade            54.201206\n",
       "nps_relacional_Nota_SupTec_Atendimento          54.201206\n",
       "nps_relacional_Nota_Comercial                   54.201206\n",
       "nps_relacional_Nota_Custos                      54.201206\n",
       "nps_relacional_Nota_AdmFin_Atendimento          54.201206\n",
       "nps_relacional_Nota_Software                    54.201206\n",
       "nps_relacional_Nota_Software_Atualizacao        54.201206\n",
       "historico_NR_PROPOSTA_count                     61.821778\n",
       "historico_ITEM_PROPOSTA_agg_moda                61.821778\n",
       "historico_HOSPEDAGEM_agg_moda                   61.821778\n",
       "historico_CD_PROD_agg_moda                      61.821778\n",
       "historico_QTD_mean                              61.944235\n",
       "historico_MESES_BONIF_agg_moda                  61.821778\n",
       "historico_VL_PCT_DESC_TEMP_median               63.178222\n",
       "historico_VL_PCT_DESC_TEMP_sum                  61.821778\n",
       "historico_VL_PCT_DESCONTO_median                66.277317\n",
       "historico_VL_PCT_DESCONTO_sum                   61.821778\n",
       "historico_PRC_UNITARIO_median                  100.000000\n",
       "historico_PRC_UNITARIO_sum                      61.821778\n",
       "historico_VL_DESCONTO_TEMPORARIO_median         63.178222\n",
       "historico_VL_DESCONTO_TEMPORARIO_sum            61.821778\n",
       "historico_VL_TOTAL_median                      100.000000\n",
       "historico_VL_TOTAL_sum                          61.821778\n",
       "historico_VL_FULL_median                        98.841372\n",
       "historico_VL_FULL_sum                           61.821778\n",
       "historico_VL_DESCONTO_median                    66.286737\n",
       "historico_VL_DESCONTO_sum                       61.821778\n",
       "dtype: float64"
      ]
     },
     "execution_count": 108,
     "metadata": {},
     "output_type": "execute_result"
    }
   ],
   "source": [
    "# nulos\n",
    "df.isnull().sum()/len(df) * 100"
   ]
  },
  {
   "cell_type": "code",
   "execution_count": null,
   "id": "b2a3d8f8",
   "metadata": {},
   "outputs": [],
   "source": []
  }
 ],
 "metadata": {
  "kernelspec": {
   "display_name": "Python 3",
   "language": "python",
   "name": "python3"
  },
  "language_info": {
   "codemirror_mode": {
    "name": "ipython",
    "version": 3
   },
   "file_extension": ".py",
   "mimetype": "text/x-python",
   "name": "python",
   "nbconvert_exporter": "python",
   "pygments_lexer": "ipython3",
   "version": "3.11.7"
  }
 },
 "nbformat": 4,
 "nbformat_minor": 5
}
