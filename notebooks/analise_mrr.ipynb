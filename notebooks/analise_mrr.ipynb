{
 "cells": [
  {
   "cell_type": "code",
   "execution_count": 1,
   "id": "3fe411a3",
   "metadata": {},
   "outputs": [],
   "source": [
    "import pandas as pd\n",
    "import numpy as np\n",
    "\n",
    "from sklearn.cluster import KMeans\n",
    "from sklearn.metrics import silhouette_score, davies_bouldin_score, calinski_harabasz_score\n",
    "from sklearn.preprocessing import MinMaxScaler\n",
    "from sklearn.decomposition import PCA\n",
    "from sklearn.manifold import TSNE\n",
    "\n",
    "from yellowbrick.cluster import KElbowVisualizer\n",
    "\n",
    "import matplotlib.pyplot as plt"
   ]
  },
  {
   "cell_type": "code",
   "execution_count": 2,
   "id": "1ed8efb3",
   "metadata": {},
   "outputs": [],
   "source": [
    "df = pd.read_csv('../dados/dados_totvs/mrr.csv', sep=';')"
   ]
  },
  {
   "cell_type": "code",
   "execution_count": 3,
   "id": "240a5ded",
   "metadata": {},
   "outputs": [
    {
     "data": {
      "application/vnd.microsoft.datawrangler.viewer.v0+json": {
       "columns": [
        {
         "name": "index",
         "rawType": "int64",
         "type": "integer"
        },
        {
         "name": "CLIENTE",
         "rawType": "object",
         "type": "string"
        },
        {
         "name": "MRR_12M",
         "rawType": "float64",
         "type": "float"
        }
       ],
       "ref": "b221bbd2-c9f4-4dcf-9f14-cc1038a5da1b",
       "rows": [
        [
         "0",
         "T03360",
         "485.24525"
        ],
        [
         "1",
         "T01872",
         "287.070309"
        ],
        [
         "2",
         "T01899",
         "628.717296"
        ],
        [
         "3",
         "T01670",
         "207.503636"
        ],
        [
         "4",
         "T02817",
         "890.027855"
        ],
        [
         "5",
         "T00788",
         "671.421159"
        ],
        [
         "6",
         "T00931",
         "306.840149"
        ],
        [
         "7",
         "T04867",
         "17.536157"
        ],
        [
         "8",
         "T02413",
         "117.362319"
        ],
        [
         "9",
         "T01356",
         "699.314675"
        ],
        [
         "10",
         "T01254",
         "438.545686"
        ],
        [
         "11",
         "T02776",
         "2730.543276"
        ],
        [
         "12",
         "T00336",
         "2501.36139"
        ],
        [
         "13",
         "T00673",
         "399.78675"
        ],
        [
         "14",
         "T00082",
         "772.966671"
        ],
        [
         "15",
         "T02523",
         "731.220243"
        ],
        [
         "16",
         "T05435",
         "2247.749085"
        ],
        [
         "17",
         "T00292",
         "181.294905"
        ],
        [
         "18",
         "T02076",
         "656.081455"
        ],
        [
         "19",
         "T00546",
         "147.877167"
        ],
        [
         "20",
         "CARAMU",
         "2070.736708"
        ],
        [
         "21",
         "T03378",
         "2035.830738"
        ],
        [
         "22",
         "T01008",
         "3024.915438"
        ],
        [
         "23",
         "T03524",
         "261.81542"
        ],
        [
         "24",
         "T02553",
         "2319.282222"
        ],
        [
         "25",
         "T01205",
         "746.432901"
        ],
        [
         "26",
         "T02434",
         "1060.076484"
        ],
        [
         "27",
         "T00151",
         "175.290512"
        ],
        [
         "28",
         "T01440",
         "273.288823"
        ],
        [
         "29",
         "T01759",
         "917.30645"
        ],
        [
         "30",
         "T03268",
         "1191.057421"
        ],
        [
         "31",
         "T00686",
         "2981.30592"
        ],
        [
         "32",
         "T01901",
         "885.21165"
        ],
        [
         "33",
         "T00390",
         "2950.072429"
        ],
        [
         "34",
         "T01384",
         "2994.304206"
        ],
        [
         "35",
         "T01526",
         "188.544604"
        ],
        [
         "36",
         "T00971",
         "449.457622"
        ],
        [
         "37",
         "T02963",
         "1374.245237"
        ],
        [
         "38",
         "T03650",
         "443.675753"
        ],
        [
         "39",
         "T01346",
         "470.222816"
        ],
        [
         "40",
         "T00538",
         "1186.829461"
        ],
        [
         "41",
         "T02725",
         "407.17948"
        ],
        [
         "42",
         "T04870",
         "999.581198"
        ],
        [
         "43",
         "T02727",
         "358.468433"
        ],
        [
         "44",
         "T01487",
         "852.942941"
        ],
        [
         "45",
         "T02424",
         "317.682081"
        ],
        [
         "46",
         "T01846",
         "749.130844"
        ],
        [
         "47",
         "T03491",
         "4333.035165"
        ],
        [
         "48",
         "T05049",
         "640.229334"
        ],
        [
         "49",
         "T05809",
         "718.931569"
        ]
       ],
       "shape": {
        "columns": 2,
        "rows": 7309
       }
      },
      "text/html": [
       "<div>\n",
       "<style scoped>\n",
       "    .dataframe tbody tr th:only-of-type {\n",
       "        vertical-align: middle;\n",
       "    }\n",
       "\n",
       "    .dataframe tbody tr th {\n",
       "        vertical-align: top;\n",
       "    }\n",
       "\n",
       "    .dataframe thead th {\n",
       "        text-align: right;\n",
       "    }\n",
       "</style>\n",
       "<table border=\"1\" class=\"dataframe\">\n",
       "  <thead>\n",
       "    <tr style=\"text-align: right;\">\n",
       "      <th></th>\n",
       "      <th>CLIENTE</th>\n",
       "      <th>MRR_12M</th>\n",
       "    </tr>\n",
       "  </thead>\n",
       "  <tbody>\n",
       "    <tr>\n",
       "      <th>0</th>\n",
       "      <td>T03360</td>\n",
       "      <td>485.245250</td>\n",
       "    </tr>\n",
       "    <tr>\n",
       "      <th>1</th>\n",
       "      <td>T01872</td>\n",
       "      <td>287.070309</td>\n",
       "    </tr>\n",
       "    <tr>\n",
       "      <th>2</th>\n",
       "      <td>T01899</td>\n",
       "      <td>628.717296</td>\n",
       "    </tr>\n",
       "    <tr>\n",
       "      <th>3</th>\n",
       "      <td>T01670</td>\n",
       "      <td>207.503636</td>\n",
       "    </tr>\n",
       "    <tr>\n",
       "      <th>4</th>\n",
       "      <td>T02817</td>\n",
       "      <td>890.027855</td>\n",
       "    </tr>\n",
       "    <tr>\n",
       "      <th>...</th>\n",
       "      <td>...</td>\n",
       "      <td>...</td>\n",
       "    </tr>\n",
       "    <tr>\n",
       "      <th>7304</th>\n",
       "      <td>TFEC42</td>\n",
       "      <td>25.538433</td>\n",
       "    </tr>\n",
       "    <tr>\n",
       "      <th>7305</th>\n",
       "      <td>TFECQ0</td>\n",
       "      <td>168.658757</td>\n",
       "    </tr>\n",
       "    <tr>\n",
       "      <th>7306</th>\n",
       "      <td>TFECSZ</td>\n",
       "      <td>446.790164</td>\n",
       "    </tr>\n",
       "    <tr>\n",
       "      <th>7307</th>\n",
       "      <td>TFEDLO</td>\n",
       "      <td>892.024902</td>\n",
       "    </tr>\n",
       "    <tr>\n",
       "      <th>7308</th>\n",
       "      <td>TFEE28</td>\n",
       "      <td>2089.950843</td>\n",
       "    </tr>\n",
       "  </tbody>\n",
       "</table>\n",
       "<p>7309 rows × 2 columns</p>\n",
       "</div>"
      ],
      "text/plain": [
       "     CLIENTE      MRR_12M\n",
       "0     T03360   485.245250\n",
       "1     T01872   287.070309\n",
       "2     T01899   628.717296\n",
       "3     T01670   207.503636\n",
       "4     T02817   890.027855\n",
       "...      ...          ...\n",
       "7304  TFEC42    25.538433\n",
       "7305  TFECQ0   168.658757\n",
       "7306  TFECSZ   446.790164\n",
       "7307  TFEDLO   892.024902\n",
       "7308  TFEE28  2089.950843\n",
       "\n",
       "[7309 rows x 2 columns]"
      ]
     },
     "execution_count": 3,
     "metadata": {},
     "output_type": "execute_result"
    }
   ],
   "source": [
    "df"
   ]
  },
  {
   "cell_type": "code",
   "execution_count": 4,
   "id": "a1ca2b57",
   "metadata": {},
   "outputs": [
    {
     "name": "stdout",
     "output_type": "stream",
     "text": [
      "<class 'pandas.core.frame.DataFrame'>\n",
      "RangeIndex: 7309 entries, 0 to 7308\n",
      "Data columns (total 2 columns):\n",
      " #   Column   Non-Null Count  Dtype  \n",
      "---  ------   --------------  -----  \n",
      " 0   CLIENTE  7309 non-null   object \n",
      " 1   MRR_12M  7309 non-null   float64\n",
      "dtypes: float64(1), object(1)\n",
      "memory usage: 114.3+ KB\n"
     ]
    }
   ],
   "source": [
    "df.info()"
   ]
  },
  {
   "cell_type": "code",
   "execution_count": 5,
   "id": "52d6b56f",
   "metadata": {},
   "outputs": [],
   "source": [
    "# Definindo função de agregação pela moda\n",
    "\n",
    "def agg_moda(x):\n",
    "    m = x.dropna().mode()\n",
    "    if not m.empty:\n",
    "        return m.iloc[0]\n",
    "    return np.nan"
   ]
  },
  {
   "cell_type": "code",
   "execution_count": 7,
   "id": "4bf731f4",
   "metadata": {},
   "outputs": [],
   "source": [
    "df = df.rename(columns={\"CLIENTE\": \"CD_CLIENTE\"})"
   ]
  },
  {
   "cell_type": "code",
   "execution_count": 6,
   "id": "2bb2d358",
   "metadata": {},
   "outputs": [
    {
     "data": {
      "text/plain": [
       "Index(['CLIENTE', 'MRR_12M'], dtype='object')"
      ]
     },
     "execution_count": 6,
     "metadata": {},
     "output_type": "execute_result"
    }
   ],
   "source": [
    "df.columns"
   ]
  },
  {
   "cell_type": "code",
   "execution_count": 8,
   "id": "244b68dd",
   "metadata": {},
   "outputs": [],
   "source": [
    "df_agrupado = df.groupby('CD_CLIENTE').agg('median').reset_index()"
   ]
  },
  {
   "cell_type": "code",
   "execution_count": 14,
   "id": "149b64f5",
   "metadata": {},
   "outputs": [],
   "source": [
    "df_agrupado = df_agrupado.rename(columns={\"MRR_12M\": \"MRR_12M_median\"})"
   ]
  },
  {
   "cell_type": "code",
   "execution_count": 15,
   "id": "bb858d7c",
   "metadata": {},
   "outputs": [
    {
     "data": {
      "application/vnd.microsoft.datawrangler.viewer.v0+json": {
       "columns": [
        {
         "name": "index",
         "rawType": "int64",
         "type": "integer"
        },
        {
         "name": "CD_CLIENTE",
         "rawType": "object",
         "type": "string"
        },
        {
         "name": "MRR_12M_median",
         "rawType": "float64",
         "type": "float"
        }
       ],
       "ref": "5bbec420-b9fc-4c97-8270-687078f17b09",
       "rows": [
        [
         "0",
         "CARAMU",
         "2070.736708"
        ],
        [
         "1",
         "T00053",
         "448.951788"
        ],
        [
         "2",
         "T00082",
         "772.966671"
        ],
        [
         "3",
         "T00145",
         "222.549913"
        ],
        [
         "4",
         "T00151",
         "175.290512"
        ],
        [
         "5",
         "T00255",
         "688.874163"
        ],
        [
         "6",
         "T00292",
         "181.294905"
        ],
        [
         "7",
         "T00336",
         "2501.36139"
        ],
        [
         "8",
         "T00361",
         "41.8169"
        ],
        [
         "9",
         "T00390",
         "2950.072429"
        ],
        [
         "10",
         "T00538",
         "1186.829461"
        ],
        [
         "11",
         "T00546",
         "147.877167"
        ],
        [
         "12",
         "T00631",
         "307.979817"
        ],
        [
         "13",
         "T00673",
         "399.78675"
        ],
        [
         "14",
         "T00686",
         "2981.30592"
        ],
        [
         "15",
         "T00788",
         "671.421159"
        ],
        [
         "16",
         "T00931",
         "306.840149"
        ],
        [
         "17",
         "T00971",
         "449.457622"
        ],
        [
         "18",
         "T01008",
         "3024.915438"
        ],
        [
         "19",
         "T01060",
         "260.956643"
        ],
        [
         "20",
         "T01085",
         "186.573018"
        ],
        [
         "21",
         "T01104",
         "189.4974"
        ],
        [
         "22",
         "T01127",
         "302.746529"
        ],
        [
         "23",
         "T01134",
         "699.806588"
        ],
        [
         "24",
         "T01173",
         "621.733492"
        ],
        [
         "25",
         "T01205",
         "746.432901"
        ],
        [
         "26",
         "T01254",
         "438.545686"
        ],
        [
         "27",
         "T01259",
         "636.044604"
        ],
        [
         "28",
         "T01346",
         "470.222816"
        ],
        [
         "29",
         "T01351",
         "613.506632"
        ],
        [
         "30",
         "T01356",
         "699.314675"
        ],
        [
         "31",
         "T01384",
         "2994.304206"
        ],
        [
         "32",
         "T01436",
         "22.160555"
        ],
        [
         "33",
         "T01440",
         "273.288823"
        ],
        [
         "34",
         "T01487",
         "852.942941"
        ],
        [
         "35",
         "T01502",
         "875.923"
        ],
        [
         "36",
         "T01526",
         "188.544604"
        ],
        [
         "37",
         "T01567",
         "426.619264"
        ],
        [
         "38",
         "T01667",
         "495.937339"
        ],
        [
         "39",
         "T01670",
         "207.503636"
        ],
        [
         "40",
         "T01690",
         "1137.111606"
        ],
        [
         "41",
         "T01695",
         "49.103317"
        ],
        [
         "42",
         "T01702",
         "1839.326325"
        ],
        [
         "43",
         "T01724",
         "339.01745"
        ],
        [
         "44",
         "T01726",
         "366.438964"
        ],
        [
         "45",
         "T01743",
         "106.835654"
        ],
        [
         "46",
         "T01759",
         "917.30645"
        ],
        [
         "47",
         "T01777",
         "340.306701"
        ],
        [
         "48",
         "T01846",
         "749.130844"
        ],
        [
         "49",
         "T01872",
         "287.070309"
        ]
       ],
       "shape": {
        "columns": 2,
        "rows": 7309
       }
      },
      "text/html": [
       "<div>\n",
       "<style scoped>\n",
       "    .dataframe tbody tr th:only-of-type {\n",
       "        vertical-align: middle;\n",
       "    }\n",
       "\n",
       "    .dataframe tbody tr th {\n",
       "        vertical-align: top;\n",
       "    }\n",
       "\n",
       "    .dataframe thead th {\n",
       "        text-align: right;\n",
       "    }\n",
       "</style>\n",
       "<table border=\"1\" class=\"dataframe\">\n",
       "  <thead>\n",
       "    <tr style=\"text-align: right;\">\n",
       "      <th></th>\n",
       "      <th>CD_CLIENTE</th>\n",
       "      <th>MRR_12M_median</th>\n",
       "    </tr>\n",
       "  </thead>\n",
       "  <tbody>\n",
       "    <tr>\n",
       "      <th>0</th>\n",
       "      <td>CARAMU</td>\n",
       "      <td>2070.736708</td>\n",
       "    </tr>\n",
       "    <tr>\n",
       "      <th>1</th>\n",
       "      <td>T00053</td>\n",
       "      <td>448.951788</td>\n",
       "    </tr>\n",
       "    <tr>\n",
       "      <th>2</th>\n",
       "      <td>T00082</td>\n",
       "      <td>772.966671</td>\n",
       "    </tr>\n",
       "    <tr>\n",
       "      <th>3</th>\n",
       "      <td>T00145</td>\n",
       "      <td>222.549913</td>\n",
       "    </tr>\n",
       "    <tr>\n",
       "      <th>4</th>\n",
       "      <td>T00151</td>\n",
       "      <td>175.290512</td>\n",
       "    </tr>\n",
       "    <tr>\n",
       "      <th>...</th>\n",
       "      <td>...</td>\n",
       "      <td>...</td>\n",
       "    </tr>\n",
       "    <tr>\n",
       "      <th>7304</th>\n",
       "      <td>TFEE25</td>\n",
       "      <td>36.062790</td>\n",
       "    </tr>\n",
       "    <tr>\n",
       "      <th>7305</th>\n",
       "      <td>TFEE28</td>\n",
       "      <td>2089.950843</td>\n",
       "    </tr>\n",
       "    <tr>\n",
       "      <th>7306</th>\n",
       "      <td>TFEE29</td>\n",
       "      <td>1599.489256</td>\n",
       "    </tr>\n",
       "    <tr>\n",
       "      <th>7307</th>\n",
       "      <td>TFEE30</td>\n",
       "      <td>796.740271</td>\n",
       "    </tr>\n",
       "    <tr>\n",
       "      <th>7308</th>\n",
       "      <td>TFEE35</td>\n",
       "      <td>1681.542947</td>\n",
       "    </tr>\n",
       "  </tbody>\n",
       "</table>\n",
       "<p>7309 rows × 2 columns</p>\n",
       "</div>"
      ],
      "text/plain": [
       "     CD_CLIENTE  MRR_12M_median\n",
       "0        CARAMU     2070.736708\n",
       "1        T00053      448.951788\n",
       "2        T00082      772.966671\n",
       "3        T00145      222.549913\n",
       "4        T00151      175.290512\n",
       "...         ...             ...\n",
       "7304     TFEE25       36.062790\n",
       "7305     TFEE28     2089.950843\n",
       "7306     TFEE29     1599.489256\n",
       "7307     TFEE30      796.740271\n",
       "7308     TFEE35     1681.542947\n",
       "\n",
       "[7309 rows x 2 columns]"
      ]
     },
     "execution_count": 15,
     "metadata": {},
     "output_type": "execute_result"
    }
   ],
   "source": [
    "df_agrupado"
   ]
  }
 ],
 "metadata": {
  "kernelspec": {
   "display_name": ".venv (3.11.7)",
   "language": "python",
   "name": "python3"
  },
  "language_info": {
   "codemirror_mode": {
    "name": "ipython",
    "version": 3
   },
   "file_extension": ".py",
   "mimetype": "text/x-python",
   "name": "python",
   "nbconvert_exporter": "python",
   "pygments_lexer": "ipython3",
   "version": "3.11.7"
  }
 },
 "nbformat": 4,
 "nbformat_minor": 5
}
