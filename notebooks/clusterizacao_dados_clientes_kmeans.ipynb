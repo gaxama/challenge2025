{
 "cells": [
  {
   "cell_type": "markdown",
   "id": "e56694eb",
   "metadata": {},
   "source": [
    "FIAP - Challenge TOTVS 2025\n",
    "\n",
    "Sprint 3 - Deep Learning\n",
    "\n",
    "Grupo Cluster Vision\n",
    "\n",
    "\n",
    "Anna Paula Carbone\n",
    "RM: 558152\n",
    "\n",
    "Eduardo Ferreira\n",
    "RM: 555610\n",
    "\n",
    "Gabriel Mariotto\n",
    "RM: 557816\n",
    "\n",
    "Gabriel Moretim\n",
    "RM: 557740\n",
    "\n",
    "Guilherme Panfiete\n",
    "RM: 557758"
   ]
  },
  {
   "cell_type": "code",
   "execution_count": 1,
   "id": "9cec06bd",
   "metadata": {},
   "outputs": [],
   "source": [
    "import pandas as pd\n",
    "import numpy as np\n",
    "\n",
    "from sklearn.cluster import KMeans\n",
    "\n",
    "from sklearn.metrics import silhouette_score, davies_bouldin_score, calinski_harabasz_score\n",
    "from sklearn.preprocessing import MinMaxScaler\n",
    "from sklearn.decomposition import PCA\n",
    "from sklearn.manifold import TSNE\n",
    "\n",
    "from yellowbrick.cluster import KElbowVisualizer\n",
    "\n",
    "import matplotlib.pyplot as plt"
   ]
  },
  {
   "cell_type": "code",
   "execution_count": null,
   "id": "771578fa",
   "metadata": {},
   "outputs": [],
   "source": [
    "df = pd.read_csv('../dados/dados_totvs/dados_clientes.csv', sep=';')"
   ]
  },
  {
   "cell_type": "code",
   "execution_count": 3,
   "id": "5285fc88",
   "metadata": {},
   "outputs": [
    {
     "data": {
      "application/vnd.microsoft.datawrangler.viewer.v0+json": {
       "columns": [
        {
         "name": "index",
         "rawType": "int64",
         "type": "integer"
        },
        {
         "name": "CD_CLIENTE",
         "rawType": "object",
         "type": "string"
        },
        {
         "name": "DS_PROD",
         "rawType": "object",
         "type": "string"
        },
        {
         "name": "DS_LIN_REC",
         "rawType": "object",
         "type": "string"
        },
        {
         "name": "CIDADE",
         "rawType": "object",
         "type": "string"
        },
        {
         "name": "DS_CNAE",
         "rawType": "object",
         "type": "string"
        },
        {
         "name": "DS_SEGMENTO",
         "rawType": "object",
         "type": "string"
        },
        {
         "name": "DS_SUBSEGMENTO",
         "rawType": "object",
         "type": "unknown"
        },
        {
         "name": "FAT_FAIXA",
         "rawType": "object",
         "type": "string"
        },
        {
         "name": "MARCA_TOTVS",
         "rawType": "object",
         "type": "unknown"
        },
        {
         "name": "MODAL_COMERC",
         "rawType": "object",
         "type": "unknown"
        },
        {
         "name": "PAIS",
         "rawType": "int64",
         "type": "integer"
        },
        {
         "name": "PERIODICIDADE",
         "rawType": "object",
         "type": "unknown"
        },
        {
         "name": "SITUACAO_CONTRATO",
         "rawType": "object",
         "type": "unknown"
        },
        {
         "name": "UF",
         "rawType": "object",
         "type": "string"
        },
        {
         "name": "VL_TOTAL_CONTRATO",
         "rawType": "object",
         "type": "string"
        },
        {
         "name": "DT_ASSINATURA_CONTRATO",
         "rawType": "object",
         "type": "string"
        }
       ],
       "ref": "a558c9ff-71ed-48c9-89ba-82a0520763ee",
       "rows": [
        [
         "0",
         "99958",
         "SMS FULL TOTVS TRAD",
         "SMS TOTVS SERIE T",
         "JOINVILLE",
         "PESSOA FISICA (SEM CNAE)",
         "SERVICOS",
         "PROVEDOR SERVICOS",
         "Faixa 09 - De 300 M ate 500 M",
         "CROSS - TRADICIONAL",
         "MODALIDADE TRADICIONAL",
         "105",
         "00 - Mensal",
         "GRATUITO",
         "SC",
         "1633817,36581438",
         "2016-04-07"
        ],
        [
         "1",
         "T00053",
         "SMS COLAB NEO  2500 DOC",
         "SMS TOTVS SERIE T",
         "RIODEJANEIRO",
         "Fabricacao de preparacoes farmaceuticas",
         "MANUFATURA",
         "BENS DURAVEIS",
         "Faixa 05 - De 35 M ate 50 M",
         "MANUFATURA - PARCEIRO",
         "MODALIDADE TRADICIONAL",
         "105",
         "00 - Mensal",
         "ATIVO",
         "RJ",
         "341,155636978792",
         "2015-02-27"
        ],
        [
         "2",
         "T00053",
         "HORA SUPORTE",
         "CONSULTORIA TRADICIONAL",
         "RIODEJANEIRO",
         "Fabricacao de preparacoes farmaceuticas",
         "MANUFATURA",
         "BENS DURAVEIS",
         "Faixa 05 - De 35 M ate 50 M",
         "SERVICOS DE IMPLANTACAO",
         "MODALIDADE SERVICOS NÃO RECORRENTES",
         "105",
         "00 - Mensal",
         "CANCELADO",
         "RJ",
         "45,3386017130146",
         "1997-11-28"
        ],
        [
         "3",
         "99958",
         "CDU FULL TOTVS TRAD",
         "CDU TOTVS SERIE T",
         "JOINVILLE",
         "PESSOA FISICA (SEM CNAE)",
         "SERVICOS",
         "PROVEDOR SERVICOS",
         "Faixa 09 - De 300 M ate 500 M",
         "CROSS - TRADICIONAL",
         "MODALIDADE TRADICIONAL",
         "105",
         "00 - Mensal",
         "GRATUITO",
         "SC",
         "42,0343698218297",
         "2016-04-07"
        ],
        [
         "4",
         "T00053",
         "PROGRESS USER 11 CDU",
         "CDU TOTVS SERIE T",
         "RIODEJANEIRO",
         "Fabricacao de preparacoes farmaceuticas",
         "MANUFATURA",
         "BENS DURAVEIS",
         "Faixa 05 - De 35 M ate 50 M",
         "PROGRESS",
         "MODALIDADE TRADICIONAL",
         "105",
         "00 - Mensal",
         "TROCADO",
         "RJ",
         "0,117708006301753",
         "2017-11-22"
        ],
        [
         "5",
         "99069",
         "TOTVS RH ATS PACK 3 VAGAS",
         "SAAS SERIE T",
         "SAOPAULO",
         "COMERCIO VAREJISTA ESPECIALIZADO DE EQUIPAMENTOS E SUPRIMENTOS DE INFORMATICA",
         "VAREJO",
         "VAREJO",
         "Sem Informações de Faturamento",
         "RH - CORE",
         "MODALIDADE ASSINATURA COMPLEMENTAR",
         "105",
         "00 - Mensal",
         "GRATUITO",
         "SP",
         "0,00420385736791976",
         "2023-01-11"
        ],
        [
         "6",
         "T00053",
         "PROGRESS USER 11 CDU",
         "CDU TOTVS SERIE T",
         "RIODEJANEIRO",
         "Fabricacao de preparacoes farmaceuticas",
         "MANUFATURA",
         "BENS DURAVEIS",
         "Faixa 05 - De 35 M ate 50 M",
         "PROGRESS",
         "MODALIDADE TRADICIONAL",
         "105",
         "00 - Mensal",
         "TROCADO",
         "RJ",
         "5278,00598328378",
         "2010-12-20"
        ],
        [
         "7",
         "T00053",
         "CDU LGT GCH ON-DEMAND 10 ALG",
         "SAAS CDU ALUGUEL",
         "RIODEJANEIRO",
         "Fabricacao de preparacoes farmaceuticas",
         "MANUFATURA",
         "BENS DURAVEIS",
         "Faixa 05 - De 35 M ate 50 M",
         "RH - CORE",
         "MODALIDADE ALUGUEL (LEGADO)",
         "105",
         "00 - Mensal",
         "CANCELADO",
         "RJ",
         "370,048748668505",
         "2010-08-31"
        ],
        [
         "8",
         "T00053",
         "CDU TOTVS I ALUG",
         "SAAS CDU ALUGUEL",
         "RIODEJANEIRO",
         "Fabricacao de preparacoes farmaceuticas",
         "MANUFATURA",
         "BENS DURAVEIS",
         "Faixa 05 - De 35 M ate 50 M",
         "CROSS - TRADICIONAL",
         "MODALIDADE ALUGUEL (LEGADO)",
         "105",
         "00 - Mensal",
         "CANCELADO",
         "RJ",
         "413,155102119154",
         "2010-08-31"
        ],
        [
         "9",
         "T00053",
         "4GL DEVELOPMENT SYSTEMUSER-LIC",
         "SOFTWARE COMPLEMENTAR",
         "RIODEJANEIRO",
         "Fabricacao de preparacoes farmaceuticas",
         "MANUFATURA",
         "BENS DURAVEIS",
         "Faixa 05 - De 35 M ate 50 M",
         "SOFTWARE COMPLEMENTAR",
         "MODALIDADE SERVICOS NÃO RECORRENTES",
         "105",
         "00 - Mensal",
         "ATIVO",
         "RJ",
         "5803,18127268589",
         "2014-02-27"
        ],
        [
         "10",
         "T00336",
         "SMS TOTVS TEC PROCESSOR X86 MU",
         "SMS TOTVS SERIE T",
         "SAOPAULO",
         "Fabricacao de cronometros e relogios",
         "MANUFATURA",
         "BENS DURAVEIS",
         "Faixa 08 - De 150 M ate 300 M",
         "FLUIG - CORE",
         "MODALIDADE TRADICIONAL",
         "105",
         "00 - Mensal",
         "ATIVO",
         "SP",
         "87,0324590880428",
         "2014-07-17"
        ],
        [
         "11",
         "T00018",
         "FEE - GDS INTERNACIONAL",
         "RECEITA TRANSACIONAL",
         "SAOPAULO",
         "Hoteis",
         "SERVICOS",
         "VIAGENS",
         "Faixa 02 - De 7,5 M ate 15 M",
         "HOSPITALIDADE - CORE",
         "MODALIDADE SERVICOS RECORRENTES",
         "105",
         "00 - Mensal",
         "CANCELADO",
         "SP",
         "0,420385736791976",
         "2002-01-01"
        ],
        [
         "12",
         "99999",
         "AG.WN01.Mnt",
         "SMS TOTVS SERIE T",
         "SAOPAULO",
         "Desenvolvimento de programas de computador sob encomenda",
         "TOTVS",
         "TOTVS",
         "Sem Informações de Faturamento",
         "CROSS - TRADICIONAL",
         "MODALIDADE TRADICIONAL",
         "105",
         "00 - Mensal",
         "CANCELADO",
         "SP",
         "0,00840771473583952",
         "2007-05-03"
        ],
        [
         "13",
         "T00145",
         "CDU TOTVS I TRAD",
         "CDU TOTVS SERIE T",
         "SANTOANDRE",
         "Comercio atacadista de maquinas e equipamentos para uso industrial, partes e pecas",
         "LOGISTICA",
         "ATACADISTA E DISTRIBUIDOR",
         "Faixa 03 - De 15 M ate 25 M",
         "CROSS - TRADICIONAL",
         "MODALIDADE TRADICIONAL",
         "105",
         "00 - Mensal",
         "ATIVO",
         "SP",
         "1383,0690740456",
         "2015-05-29"
        ],
        [
         "14",
         "T00053",
         "CON.MAN.CELERINA-DBF-EVOLUCAO",
         "SMS TOTVS SERIE T",
         "RIODEJANEIRO",
         "Fabricacao de preparacoes farmaceuticas",
         "MANUFATURA",
         "BENS DURAVEIS",
         "Faixa 05 - De 35 M ate 50 M",
         "CROSS - TRADICIONAL",
         "MODALIDADE TRADICIONAL",
         "105",
         "00 - Mensal",
         "CANCELADO",
         "RJ",
         "320,090107708146",
         "1997-11-28"
        ],
        [
         "15",
         "T00082",
         "ID PROGR DATASUL APP MINH PROD",
         "SAAS INTERA SOFTWARE",
         "CAJAMAR",
         "Servicos de engenharia",
         "CONSTRUCAO E PROJETOS",
         "ENGENHARIA & DESIGN",
         "Faixa 04 - De 25 M ate 35 M",
         "MANUFATURA - CORE",
         "MODALIDADE ASSINATURA COMPLEMENTAR",
         "105",
         "00 - Mensal",
         "CANCELADO",
         "SP",
         "62,9569679419663",
         "2023-12-27"
        ],
        [
         "16",
         "99069",
         "CLOUD IAAS 36M",
         "CLOUD COMPUTING.",
         "SAOPAULO",
         "COMERCIO VAREJISTA ESPECIALIZADO DE EQUIPAMENTOS E SUPRIMENTOS DE INFORMATICA",
         "VAREJO",
         "VAREJO",
         "Sem Informações de Faturamento",
         "CLOUD",
         "MODALIDADE SERVICOS RECORRENTES",
         "105",
         "00 - Mensal",
         "CANCELADO",
         "SP",
         "725,661451135573",
         "2017-08-31"
        ],
        [
         "17",
         "T00082",
         "CDU LIGHT ERP TRAD",
         "CDU TOTVS SERIE T",
         "CAJAMAR",
         "Servicos de engenharia",
         "CONSTRUCAO E PROJETOS",
         "ENGENHARIA & DESIGN",
         "Faixa 04 - De 25 M ate 35 M",
         "CROSS - TRADICIONAL",
         "MODALIDADE TRADICIONAL",
         "105",
         "00 - Mensal",
         "GRATUITO",
         "SP",
         "0,0420385736791976",
         "2010-06-07"
        ],
        [
         "18",
         "T00082",
         "PACK TOTVS AUDITOR NFE 1000",
         "SAAS SERIE T",
         "CAJAMAR",
         "Servicos de engenharia",
         "CONSTRUCAO E PROJETOS",
         "ENGENHARIA & DESIGN",
         "Faixa 04 - De 25 M ate 35 M",
         "MANUFATURA - PARCEIRO",
         "MODALIDADE ASSINATURA COMPLEMENTAR",
         "105",
         "00 - Mensal",
         "ATIVO",
         "SP",
         "510,835931920138",
         "2018-05-08"
        ],
        [
         "19",
         "T00145",
         "IAAS-IP PUBLICO-M",
         "CLOUD COMPUTING.",
         "SANTOANDRE",
         "Comercio atacadista de maquinas e equipamentos para uso industrial, partes e pecas",
         "LOGISTICA",
         "ATACADISTA E DISTRIBUIDOR",
         "Faixa 03 - De 15 M ate 25 M",
         "CLOUD",
         "MODALIDADE SERVICOS RECORRENTES",
         "105",
         "00 - Mensal",
         "ATIVO",
         "SP",
         "2,67785714336489",
         "2023-09-29"
        ],
        [
         "20",
         "T00145",
         "TOTVS A ELETRONICA 10 PACK",
         "SAAS SERIE T",
         "SANTOANDRE",
         "Comercio atacadista de maquinas e equipamentos para uso industrial, partes e pecas",
         "LOGISTICA",
         "ATACADISTA E DISTRIBUIDOR",
         "Faixa 03 - De 15 M ate 25 M",
         "SERVICOS - CORE",
         "MODALIDADE ASSINATURA COMPLEMENTAR",
         "105",
         "00 - Mensal",
         "ATIVO",
         "SP",
         "33,1516192034152",
         "2023-10-24"
        ],
        [
         "21",
         "T00053",
         "SMS FULL TOTVS TRAD",
         "SMS TOTVS SERIE T",
         "RIODEJANEIRO",
         "Fabricacao de preparacoes farmaceuticas",
         "MANUFATURA",
         "BENS DURAVEIS",
         "Faixa 05 - De 35 M ate 50 M",
         "CROSS - TRADICIONAL",
         "MODALIDADE TRADICIONAL",
         "105",
         "00 - Mensal",
         "CANCELADO",
         "RJ",
         "5930,35216192283",
         "2013-04-29"
        ],
        [
         "22",
         "T00082",
         "SMS LIGHT ERP TRAD",
         "SMS TOTVS SERIE T",
         "CAJAMAR",
         "Servicos de engenharia",
         "CONSTRUCAO E PROJETOS",
         "ENGENHARIA & DESIGN",
         "Faixa 04 - De 25 M ate 35 M",
         "CROSS - TRADICIONAL",
         "MODALIDADE TRADICIONAL",
         "105",
         "00 - Mensal",
         "ATIVO",
         "SP",
         "2655,38752573336",
         "2010-06-07"
        ],
        [
         "23",
         "99069",
         "SETUP",
         "CLOUD SETUP",
         "SAOPAULO",
         "COMERCIO VAREJISTA ESPECIALIZADO DE EQUIPAMENTOS E SUPRIMENTOS DE INFORMATICA",
         "VAREJO",
         "VAREJO",
         "Sem Informações de Faturamento",
         "CLOUD",
         "MODALIDADE SERVICOS NÃO RECORRENTES",
         "105",
         "00 - Mensal",
         "ATIVO",
         "SP",
         "504,462884150371",
         "2017-08-31"
        ],
        [
         "24",
         "99069",
         "PANDAADTV DFNSE 360100130001Y",
         "SOFTWARE COMPLEMENTAR",
         "SAOPAULO",
         "COMERCIO VAREJISTA ESPECIALIZADO DE EQUIPAMENTOS E SUPRIMENTOS DE INFORMATICA",
         "VAREJO",
         "VAREJO",
         "Sem Informações de Faturamento",
         "SOFTWARE COMPLEMENTAR",
         "MODALIDADE SERVICOS NÃO RECORRENTES",
         "105",
         "00 - Mensal",
         "ATIVO",
         "SP",
         "147,135007877192",
         "2019-07-18"
        ],
        [
         "25",
         "T00053",
         "CESSAO SIGA CELERINA DOC (DBF)",
         "CDU TOTVS SERIE T",
         "RIODEJANEIRO",
         "Fabricacao de preparacoes farmaceuticas",
         "MANUFATURA",
         "BENS DURAVEIS",
         "Faixa 05 - De 35 M ate 50 M",
         "MODALIDADE TRADICIONAL",
         "MODALIDADE TRADICIONAL",
         "105",
         "00 - Mensal",
         "CANCELADO",
         "RJ",
         "948,718123077396",
         "1997-11-28"
        ],
        [
         "26",
         "T00673",
         "CDU FULL TOTVS TRAD",
         "CDU TOTVS SERIE T",
         "SAOBERNARDODOCAMPO",
         "Fabricacao de outros produtos quimicos inorganicos nao especificados anteriormente",
         "MANUFATURA",
         "QUIMICA & RECICLAGEM",
         "Faixa 03 - De 15 M ate 25 M",
         "CROSS - TRADICIONAL",
         "MODALIDADE TRADICIONAL",
         "105",
         "00 - Mensal",
         "GRATUITO",
         "SP",
         "0,0336308589433581",
         "2010-07-16"
        ],
        [
         "27",
         "T00082",
         "PROGRESS ENT RDBMS MNT UC1Y",
         "SOFTWARE COMPLEMENTAR",
         "CAJAMAR",
         "Servicos de engenharia",
         "CONSTRUCAO E PROJETOS",
         "ENGENHARIA & DESIGN",
         "Faixa 04 - De 25 M ate 35 M",
         "SOFTWARE COMPLEMENTAR",
         "MODALIDADE TRADICIONAL",
         "105",
         "00 - Mensal",
         "ATIVO",
         "SP",
         "7194,47309174314",
         "2025-02-13"
        ],
        [
         "28",
         "99999",
         "HORA SUPORTE",
         "CONSULTORIA TRADICIONAL",
         "SAOPAULO",
         "Desenvolvimento de programas de computador sob encomenda",
         "TOTVS",
         "TOTVS",
         "Sem Informações de Faturamento",
         "SERVICOS DE IMPLANTACAO",
         "MODALIDADE SERVICOS NÃO RECORRENTES",
         "105",
         "00 - Mensal",
         "CANCELADO",
         "SP",
         "41,1305404877269",
         "2006-06-16"
        ],
        [
         "29",
         "CARAMU",
         "ADESAO OT LOG PLA 500 VIAGENS",
         "CDU TOTVS SERIE T",
         "ITUMBIARA",
         "Fabricacao de oleos vegetais refinados, exceto oleo de milho",
         "MANUFATURA",
         "BENS DE CONSUMO",
         "Sem Informações de Faturamento",
         "OTIMIZACAO LOGISTICA",
         "MODALIDADE ASSINATURA COMPLEMENTAR",
         "105",
         "00 - Mensal",
         "ATIVO",
         "GO",
         "82940,8447118465",
         "2022-06-17"
        ],
        [
         "30",
         "T00018",
         "ASSINATURA MENSAL INTERNET CMN",
         "SERVICOS CMNET RESERVAS",
         "SAOPAULO",
         "Hoteis",
         "SERVICOS",
         "VIAGENS",
         "Faixa 02 - De 7,5 M ate 15 M",
         "HOSPITALIDADE - CORE",
         "MODALIDADE SERVICOS RECORRENTES",
         "105",
         "00 - Mensal",
         "CANCELADO",
         "SP",
         "0,739878896753878",
         "2002-01-01"
        ],
        [
         "31",
         "T00053",
         "CDU FULL TOTVS ALUG",
         "SAAS CDU ALUGUEL",
         "RIODEJANEIRO",
         "Fabricacao de preparacoes farmaceuticas",
         "MANUFATURA",
         "BENS DURAVEIS",
         "Faixa 05 - De 35 M ate 50 M",
         "CROSS - TRADICIONAL",
         "MODALIDADE ALUGUEL (LEGADO)",
         "105",
         "00 - Mensal",
         "CANCELADO",
         "RJ",
         "6475,33602724258",
         "2010-08-31"
        ],
        [
         "32",
         "T00053",
         "CDU FULL TOTVS TRAD",
         "CDU TOTVS SERIE T",
         "RIODEJANEIRO",
         "Fabricacao de preparacoes farmaceuticas",
         "MANUFATURA",
         "BENS DURAVEIS",
         "Faixa 05 - De 35 M ate 50 M",
         "CROSS - TRADICIONAL",
         "MODALIDADE TRADICIONAL",
         "105",
         "00 - Mensal",
         "CANCELADO",
         "RJ",
         "81722,9872323601",
         "2013-06-13"
        ],
        [
         "33",
         "T00145",
         "IAAS-DSO-50GB-2KIOPS-LEVE-M",
         "CLOUD COMPUTING.",
         "SANTOANDRE",
         "Comercio atacadista de maquinas e equipamentos para uso industrial, partes e pecas",
         "LOGISTICA",
         "ATACADISTA E DISTRIBUIDOR",
         "Faixa 03 - De 15 M ate 25 M",
         "CLOUD",
         "MODALIDADE SERVICOS RECORRENTES",
         "105",
         "00 - Mensal",
         "ATIVO",
         "SP",
         "31,0580982341912",
         "2023-09-29"
        ],
        [
         "34",
         "T00053",
         "FO.DN02.CsU",
         "CDU TOTVS SERIE T",
         "RIODEJANEIRO",
         "Fabricacao de preparacoes farmaceuticas",
         "MANUFATURA",
         "BENS DURAVEIS",
         "Faixa 05 - De 35 M ate 50 M",
         "MODALIDADE TRADICIONAL",
         "MODALIDADE TRADICIONAL",
         "105",
         "00 - Mensal",
         "CANCELADO",
         "RJ",
         "684379,571782601",
         "1992-02-26"
        ],
        [
         "35",
         "T00018",
         "SMS LGT G. CAP HUMANO TRAD",
         "SMS TOTVS SERIE T",
         "SAOPAULO",
         "Hoteis",
         "SERVICOS",
         "VIAGENS",
         "Faixa 02 - De 7,5 M ate 15 M",
         "RH - CORE",
         "MODALIDADE TRADICIONAL",
         "105",
         "00 - Mensal",
         "ATIVO",
         "SP",
         "203,063126299996",
         "2015-09-02"
        ],
        [
         "36",
         "T00053",
         "CDU LGT COMEX ALUG",
         "SAAS CDU ALUGUEL",
         "RIODEJANEIRO",
         "Fabricacao de preparacoes farmaceuticas",
         "MANUFATURA",
         "BENS DURAVEIS",
         "Faixa 05 - De 35 M ate 50 M",
         "BACKOFFICE - CORE",
         "MODALIDADE ALUGUEL (LEGADO)",
         "105",
         "00 - Mensal",
         "CANCELADO",
         "RJ",
         "359,917452411818",
         "2010-08-31"
        ],
        [
         "37",
         "CARAMU",
         "TOTVS OT LOG PLA 500 VIAGENS",
         "SAAS SERIE T",
         "ITUMBIARA",
         "Fabricacao de oleos vegetais refinados, exceto oleo de milho",
         "MANUFATURA",
         "BENS DE CONSUMO",
         "Sem Informações de Faturamento",
         "OTIMIZACAO LOGISTICA",
         "MODALIDADE ASSINATURA COMPLEMENTAR",
         "105",
         "00 - Mensal",
         "ATIVO",
         "GO",
         "2373,72908208273",
         "2022-06-17"
        ],
        [
         "38",
         "T00082",
         "CLOUD EXCEDENTE TRAD",
         "CLOUD COMPUTING.",
         "CAJAMAR",
         "Servicos de engenharia",
         "CONSTRUCAO E PROJETOS",
         "ENGENHARIA & DESIGN",
         "Faixa 04 - De 25 M ate 35 M",
         "CLOUD",
         "MODALIDADE SERVICOS RECORRENTES",
         "105",
         "00 - Mensal",
         "ATIVO",
         "SP",
         "0,424589594159896",
         "2022-03-24"
        ],
        [
         "39",
         "T00082",
         "PLATAFORMA TOTVS ANALYTICS - M",
         "SAAS INFORMACAO EMPRESARI",
         "CAJAMAR",
         "Servicos de engenharia",
         "CONSTRUCAO E PROJETOS",
         "ENGENHARIA & DESIGN",
         "Faixa 04 - De 25 M ate 35 M",
         "GOODDATA",
         "MODALIDADE ASSINATURA COMPLEMENTAR",
         "105",
         "00 - Mensal",
         "ATIVO",
         "SP",
         "972,381636201416",
         "2024-01-02"
        ],
        [
         "40",
         "T00053",
         "HORA PROGRAMACAO",
         "CONSULTORIA TRADICIONAL",
         "RIODEJANEIRO",
         "Fabricacao de preparacoes farmaceuticas",
         "MANUFATURA",
         "BENS DURAVEIS",
         "Faixa 05 - De 35 M ate 50 M",
         "SERVICOS DE IMPLANTACAO",
         "MODALIDADE SERVICOS NÃO RECORRENTES",
         "105",
         "00 - Mensal",
         "CANCELADO",
         "RJ",
         "50,3790266971504",
         "1997-11-28"
        ],
        [
         "41",
         "T00053",
         "PROG OPED STUDIO ND USR MNT",
         "SOFTWARE COMPLEMENTAR",
         "RIODEJANEIRO",
         "Fabricacao de preparacoes farmaceuticas",
         "MANUFATURA",
         "BENS DURAVEIS",
         "Faixa 05 - De 35 M ate 50 M",
         "SOFTWARE COMPLEMENTAR",
         "MODALIDADE SERVICOS NÃO RECORRENTES",
         "105",
         "00 - Mensal",
         "ATIVO",
         "RJ",
         "1312,61242455927",
         "2024-05-24"
        ],
        [
         "42",
         "T00145",
         "HORA COORD.DE IMPLANTACAO",
         "CONSULTORIA TRADICIONAL",
         "SANTOANDRE",
         "Comercio atacadista de maquinas e equipamentos para uso industrial, partes e pecas",
         "LOGISTICA",
         "ATACADISTA E DISTRIBUIDOR",
         "Faixa 03 - De 15 M ate 25 M",
         "SERVICOS DE IMPLANTACAO",
         "MODALIDADE SERVICOS NÃO RECORRENTES",
         "105",
         "00 - Mensal",
         "ATIVO",
         "SP",
         "70,7719387889291",
         "2005-04-12"
        ],
        [
         "43",
         "T00053",
         "4GL DEVELOPMENT SYSTEMUSER-MNT",
         "SOFTWARE COMPLEMENTAR",
         "RIODEJANEIRO",
         "Fabricacao de preparacoes farmaceuticas",
         "MANUFATURA",
         "BENS DURAVEIS",
         "Faixa 05 - De 35 M ate 50 M",
         "SOFTWARE COMPLEMENTAR",
         "MODALIDADE SERVICOS NÃO RECORRENTES",
         "105",
         "00 - Mensal",
         "ATIVO",
         "RJ",
         "785,314187186355",
         "2014-02-27"
        ],
        [
         "44",
         "T00053",
         "PROG OPED REPL PLUS ENT MNT",
         "SOFTWARE COMPLEMENTAR",
         "RIODEJANEIRO",
         "Fabricacao de preparacoes farmaceuticas",
         "MANUFATURA",
         "BENS DURAVEIS",
         "Faixa 05 - De 35 M ate 50 M",
         "SOFTWARE COMPLEMENTAR",
         "MODALIDADE SERVICOS NÃO RECORRENTES",
         "105",
         "00 - Mensal",
         "ATIVO",
         "RJ",
         "2786,31666345722",
         "2023-05-05"
        ],
        [
         "45",
         "T00018",
         "SMS LGT G. CAP HUMANO TRAD",
         "SMS TOTVS SERIE T",
         "SAOPAULO",
         "Hoteis",
         "SERVICOS",
         "VIAGENS",
         "Faixa 02 - De 7,5 M ate 15 M",
         "RH - CORE",
         "MODALIDADE TRADICIONAL",
         "105",
         "00 - Mensal",
         "GRATUITO",
         "SP",
         "0,0126115721037593",
         "2015-09-02"
        ],
        [
         "46",
         "T00053",
         "4GL DEVELOPMENT SYSTEMUSER-MNT",
         "SOFTWARE COMPLEMENTAR",
         "RIODEJANEIRO",
         "Fabricacao de preparacoes farmaceuticas",
         "MANUFATURA",
         "BENS DURAVEIS",
         "Faixa 05 - De 35 M ate 50 M",
         "SOFTWARE COMPLEMENTAR",
         "MODALIDADE SERVICOS NÃO RECORRENTES",
         "105",
         "00 - Mensal",
         "ATIVO",
         "RJ",
         "840,288029986641",
         "2015-03-30"
        ],
        [
         "47",
         "T00145",
         "E-LEARNING CENTER",
         "SAAS EDUCACAO CORPORATIVA",
         "SANTOANDRE",
         "Comercio atacadista de maquinas e equipamentos para uso industrial, partes e pecas",
         "LOGISTICA",
         "ATACADISTA E DISTRIBUIDOR",
         "Faixa 03 - De 15 M ate 25 M",
         "EDUCACIONAL - CORE",
         "MODALIDADE SERVICOS RECORRENTES",
         "105",
         "00 - Mensal",
         "CANCELADO",
         "SP",
         "16,2563164417457",
         "2015-05-29"
        ],
        [
         "48",
         "T00053",
         "CLOUD COLAB NEO 2500 DOC",
         "ASP COLABORACAO",
         "RIODEJANEIRO",
         "Fabricacao de preparacoes farmaceuticas",
         "MANUFATURA",
         "BENS DURAVEIS",
         "Faixa 05 - De 35 M ate 50 M",
         "MANUFATURA - PARCEIRO",
         "MODALIDADE SERVICOS RECORRENTES",
         "105",
         "00 - Mensal",
         "ATIVO",
         "RJ",
         "373,365592131793",
         "2015-02-27"
        ],
        [
         "49",
         "T00053",
         "CDU LGT GCH ON-DEMAND 100 TRA",
         "CDU TOTVS SERIE T",
         "RIODEJANEIRO",
         "Fabricacao de preparacoes farmaceuticas",
         "MANUFATURA",
         "BENS DURAVEIS",
         "Faixa 05 - De 35 M ate 50 M",
         "RH - CORE",
         "MODALIDADE TRADICIONAL",
         "105",
         "00 - Mensal",
         "ATIVO",
         "RJ",
         "189,173581556389",
         "2013-06-13"
        ]
       ],
       "shape": {
        "columns": 16,
        "rows": 238597
       }
      },
      "text/html": [
       "<div>\n",
       "<style scoped>\n",
       "    .dataframe tbody tr th:only-of-type {\n",
       "        vertical-align: middle;\n",
       "    }\n",
       "\n",
       "    .dataframe tbody tr th {\n",
       "        vertical-align: top;\n",
       "    }\n",
       "\n",
       "    .dataframe thead th {\n",
       "        text-align: right;\n",
       "    }\n",
       "</style>\n",
       "<table border=\"1\" class=\"dataframe\">\n",
       "  <thead>\n",
       "    <tr style=\"text-align: right;\">\n",
       "      <th></th>\n",
       "      <th>CD_CLIENTE</th>\n",
       "      <th>DS_PROD</th>\n",
       "      <th>DS_LIN_REC</th>\n",
       "      <th>CIDADE</th>\n",
       "      <th>DS_CNAE</th>\n",
       "      <th>DS_SEGMENTO</th>\n",
       "      <th>DS_SUBSEGMENTO</th>\n",
       "      <th>FAT_FAIXA</th>\n",
       "      <th>MARCA_TOTVS</th>\n",
       "      <th>MODAL_COMERC</th>\n",
       "      <th>PAIS</th>\n",
       "      <th>PERIODICIDADE</th>\n",
       "      <th>SITUACAO_CONTRATO</th>\n",
       "      <th>UF</th>\n",
       "      <th>VL_TOTAL_CONTRATO</th>\n",
       "      <th>DT_ASSINATURA_CONTRATO</th>\n",
       "    </tr>\n",
       "  </thead>\n",
       "  <tbody>\n",
       "    <tr>\n",
       "      <th>0</th>\n",
       "      <td>99958</td>\n",
       "      <td>SMS FULL TOTVS TRAD</td>\n",
       "      <td>SMS TOTVS SERIE T</td>\n",
       "      <td>JOINVILLE</td>\n",
       "      <td>PESSOA FISICA (SEM CNAE)</td>\n",
       "      <td>SERVICOS</td>\n",
       "      <td>PROVEDOR SERVICOS</td>\n",
       "      <td>Faixa 09 - De 300 M ate 500 M</td>\n",
       "      <td>CROSS - TRADICIONAL</td>\n",
       "      <td>MODALIDADE TRADICIONAL</td>\n",
       "      <td>105</td>\n",
       "      <td>00 - Mensal</td>\n",
       "      <td>GRATUITO</td>\n",
       "      <td>SC</td>\n",
       "      <td>1633817,36581438</td>\n",
       "      <td>2016-04-07</td>\n",
       "    </tr>\n",
       "    <tr>\n",
       "      <th>1</th>\n",
       "      <td>T00053</td>\n",
       "      <td>SMS COLAB NEO  2500 DOC</td>\n",
       "      <td>SMS TOTVS SERIE T</td>\n",
       "      <td>RIODEJANEIRO</td>\n",
       "      <td>Fabricacao de preparacoes farmaceuticas</td>\n",
       "      <td>MANUFATURA</td>\n",
       "      <td>BENS DURAVEIS</td>\n",
       "      <td>Faixa 05 - De 35 M ate 50 M</td>\n",
       "      <td>MANUFATURA - PARCEIRO</td>\n",
       "      <td>MODALIDADE TRADICIONAL</td>\n",
       "      <td>105</td>\n",
       "      <td>00 - Mensal</td>\n",
       "      <td>ATIVO</td>\n",
       "      <td>RJ</td>\n",
       "      <td>341,155636978792</td>\n",
       "      <td>2015-02-27</td>\n",
       "    </tr>\n",
       "    <tr>\n",
       "      <th>2</th>\n",
       "      <td>T00053</td>\n",
       "      <td>HORA SUPORTE</td>\n",
       "      <td>CONSULTORIA TRADICIONAL</td>\n",
       "      <td>RIODEJANEIRO</td>\n",
       "      <td>Fabricacao de preparacoes farmaceuticas</td>\n",
       "      <td>MANUFATURA</td>\n",
       "      <td>BENS DURAVEIS</td>\n",
       "      <td>Faixa 05 - De 35 M ate 50 M</td>\n",
       "      <td>SERVICOS DE IMPLANTACAO</td>\n",
       "      <td>MODALIDADE SERVICOS NÃO RECORRENTES</td>\n",
       "      <td>105</td>\n",
       "      <td>00 - Mensal</td>\n",
       "      <td>CANCELADO</td>\n",
       "      <td>RJ</td>\n",
       "      <td>45,3386017130146</td>\n",
       "      <td>1997-11-28</td>\n",
       "    </tr>\n",
       "    <tr>\n",
       "      <th>3</th>\n",
       "      <td>99958</td>\n",
       "      <td>CDU FULL TOTVS TRAD</td>\n",
       "      <td>CDU TOTVS SERIE T</td>\n",
       "      <td>JOINVILLE</td>\n",
       "      <td>PESSOA FISICA (SEM CNAE)</td>\n",
       "      <td>SERVICOS</td>\n",
       "      <td>PROVEDOR SERVICOS</td>\n",
       "      <td>Faixa 09 - De 300 M ate 500 M</td>\n",
       "      <td>CROSS - TRADICIONAL</td>\n",
       "      <td>MODALIDADE TRADICIONAL</td>\n",
       "      <td>105</td>\n",
       "      <td>00 - Mensal</td>\n",
       "      <td>GRATUITO</td>\n",
       "      <td>SC</td>\n",
       "      <td>42,0343698218297</td>\n",
       "      <td>2016-04-07</td>\n",
       "    </tr>\n",
       "    <tr>\n",
       "      <th>4</th>\n",
       "      <td>T00053</td>\n",
       "      <td>PROGRESS USER 11 CDU</td>\n",
       "      <td>CDU TOTVS SERIE T</td>\n",
       "      <td>RIODEJANEIRO</td>\n",
       "      <td>Fabricacao de preparacoes farmaceuticas</td>\n",
       "      <td>MANUFATURA</td>\n",
       "      <td>BENS DURAVEIS</td>\n",
       "      <td>Faixa 05 - De 35 M ate 50 M</td>\n",
       "      <td>PROGRESS</td>\n",
       "      <td>MODALIDADE TRADICIONAL</td>\n",
       "      <td>105</td>\n",
       "      <td>00 - Mensal</td>\n",
       "      <td>TROCADO</td>\n",
       "      <td>RJ</td>\n",
       "      <td>0,117708006301753</td>\n",
       "      <td>2017-11-22</td>\n",
       "    </tr>\n",
       "    <tr>\n",
       "      <th>...</th>\n",
       "      <td>...</td>\n",
       "      <td>...</td>\n",
       "      <td>...</td>\n",
       "      <td>...</td>\n",
       "      <td>...</td>\n",
       "      <td>...</td>\n",
       "      <td>...</td>\n",
       "      <td>...</td>\n",
       "      <td>...</td>\n",
       "      <td>...</td>\n",
       "      <td>...</td>\n",
       "      <td>...</td>\n",
       "      <td>...</td>\n",
       "      <td>...</td>\n",
       "      <td>...</td>\n",
       "      <td>...</td>\n",
       "    </tr>\n",
       "    <tr>\n",
       "      <th>238592</th>\n",
       "      <td>TFEEYP</td>\n",
       "      <td>EMISSOR FISCAL NFC-E</td>\n",
       "      <td>SAAS CMNET HOTAL</td>\n",
       "      <td>CANELA</td>\n",
       "      <td>Hoteis</td>\n",
       "      <td>HOSPITALITY</td>\n",
       "      <td>HOSPEDAGEM</td>\n",
       "      <td>Sem Informações de Faturamento</td>\n",
       "      <td>HOSPITALIDADE - CORE</td>\n",
       "      <td>MODALIDADE ASSINATURA COMPLEMENTAR</td>\n",
       "      <td>105</td>\n",
       "      <td>00 - Mensal</td>\n",
       "      <td>GRATUITO</td>\n",
       "      <td>RS</td>\n",
       "      <td>0,00420385736791976</td>\n",
       "      <td>2025-03-24</td>\n",
       "    </tr>\n",
       "    <tr>\n",
       "      <th>238593</th>\n",
       "      <td>TFEEYP</td>\n",
       "      <td>HIGS - INTEGRACOES</td>\n",
       "      <td>SAAS CMNET HOTAL</td>\n",
       "      <td>CANELA</td>\n",
       "      <td>Hoteis</td>\n",
       "      <td>HOSPITALITY</td>\n",
       "      <td>HOSPEDAGEM</td>\n",
       "      <td>Sem Informações de Faturamento</td>\n",
       "      <td>HOSPITALIDADE - CORE</td>\n",
       "      <td>MODALIDADE ASSINATURA COMPLEMENTAR</td>\n",
       "      <td>105</td>\n",
       "      <td>00 - Mensal</td>\n",
       "      <td>GRATUITO</td>\n",
       "      <td>RS</td>\n",
       "      <td>0,00420385736791976</td>\n",
       "      <td>2025-03-24</td>\n",
       "    </tr>\n",
       "    <tr>\n",
       "      <th>238594</th>\n",
       "      <td>TFEEYQ</td>\n",
       "      <td>CLOUD EXCEDENTE TRAD</td>\n",
       "      <td>CLOUD COMPUTING.</td>\n",
       "      <td>SAOPAULO</td>\n",
       "      <td>Servicos advocaticios</td>\n",
       "      <td>JURIDICO</td>\n",
       "      <td>ESCRITORIO DE ADVOCACIA</td>\n",
       "      <td>Sem Informações de Faturamento</td>\n",
       "      <td>CLOUD</td>\n",
       "      <td>MODALIDADE SERVICOS RECORRENTES</td>\n",
       "      <td>105</td>\n",
       "      <td>00 - Mensal</td>\n",
       "      <td>ATIVO</td>\n",
       "      <td>SP</td>\n",
       "      <td>0,00420385736791976</td>\n",
       "      <td>2025-03-24</td>\n",
       "    </tr>\n",
       "    <tr>\n",
       "      <th>238595</th>\n",
       "      <td>TFEEYQ</td>\n",
       "      <td>IAAS-DDADO-50GB-2KIOPS-LEVE-M</td>\n",
       "      <td>CLOUD COMPUTING.</td>\n",
       "      <td>SAOPAULO</td>\n",
       "      <td>Servicos advocaticios</td>\n",
       "      <td>JURIDICO</td>\n",
       "      <td>ESCRITORIO DE ADVOCACIA</td>\n",
       "      <td>Sem Informações de Faturamento</td>\n",
       "      <td>CLOUD</td>\n",
       "      <td>MODALIDADE SERVICOS RECORRENTES</td>\n",
       "      <td>105</td>\n",
       "      <td>00 - Mensal</td>\n",
       "      <td>ATIVO</td>\n",
       "      <td>SP</td>\n",
       "      <td>65,5801749395483</td>\n",
       "      <td>2025-03-24</td>\n",
       "    </tr>\n",
       "    <tr>\n",
       "      <th>238596</th>\n",
       "      <td>TFEEYQ</td>\n",
       "      <td>IAAS-DSO-50GB-2KIOPS-LEVE-M</td>\n",
       "      <td>CLOUD COMPUTING.</td>\n",
       "      <td>SAOPAULO</td>\n",
       "      <td>Servicos advocaticios</td>\n",
       "      <td>JURIDICO</td>\n",
       "      <td>ESCRITORIO DE ADVOCACIA</td>\n",
       "      <td>Sem Informações de Faturamento</td>\n",
       "      <td>CLOUD</td>\n",
       "      <td>MODALIDADE SERVICOS RECORRENTES</td>\n",
       "      <td>105</td>\n",
       "      <td>00 - Mensal</td>\n",
       "      <td>ATIVO</td>\n",
       "      <td>SP</td>\n",
       "      <td>65,5801749395483</td>\n",
       "      <td>2025-03-24</td>\n",
       "    </tr>\n",
       "  </tbody>\n",
       "</table>\n",
       "<p>238597 rows × 16 columns</p>\n",
       "</div>"
      ],
      "text/plain": [
       "       CD_CLIENTE                        DS_PROD               DS_LIN_REC  \\\n",
       "0           99958            SMS FULL TOTVS TRAD        SMS TOTVS SERIE T   \n",
       "1          T00053        SMS COLAB NEO  2500 DOC        SMS TOTVS SERIE T   \n",
       "2          T00053                   HORA SUPORTE  CONSULTORIA TRADICIONAL   \n",
       "3           99958            CDU FULL TOTVS TRAD        CDU TOTVS SERIE T   \n",
       "4          T00053           PROGRESS USER 11 CDU        CDU TOTVS SERIE T   \n",
       "...           ...                            ...                      ...   \n",
       "238592     TFEEYP           EMISSOR FISCAL NFC-E         SAAS CMNET HOTAL   \n",
       "238593     TFEEYP             HIGS - INTEGRACOES         SAAS CMNET HOTAL   \n",
       "238594     TFEEYQ           CLOUD EXCEDENTE TRAD         CLOUD COMPUTING.   \n",
       "238595     TFEEYQ  IAAS-DDADO-50GB-2KIOPS-LEVE-M         CLOUD COMPUTING.   \n",
       "238596     TFEEYQ    IAAS-DSO-50GB-2KIOPS-LEVE-M         CLOUD COMPUTING.   \n",
       "\n",
       "              CIDADE                                  DS_CNAE  DS_SEGMENTO  \\\n",
       "0          JOINVILLE                 PESSOA FISICA (SEM CNAE)     SERVICOS   \n",
       "1       RIODEJANEIRO  Fabricacao de preparacoes farmaceuticas   MANUFATURA   \n",
       "2       RIODEJANEIRO  Fabricacao de preparacoes farmaceuticas   MANUFATURA   \n",
       "3          JOINVILLE                 PESSOA FISICA (SEM CNAE)     SERVICOS   \n",
       "4       RIODEJANEIRO  Fabricacao de preparacoes farmaceuticas   MANUFATURA   \n",
       "...              ...                                      ...          ...   \n",
       "238592        CANELA                                   Hoteis  HOSPITALITY   \n",
       "238593        CANELA                                   Hoteis  HOSPITALITY   \n",
       "238594      SAOPAULO                    Servicos advocaticios     JURIDICO   \n",
       "238595      SAOPAULO                    Servicos advocaticios     JURIDICO   \n",
       "238596      SAOPAULO                    Servicos advocaticios     JURIDICO   \n",
       "\n",
       "                 DS_SUBSEGMENTO                       FAT_FAIXA  \\\n",
       "0             PROVEDOR SERVICOS   Faixa 09 - De 300 M ate 500 M   \n",
       "1                 BENS DURAVEIS     Faixa 05 - De 35 M ate 50 M   \n",
       "2                 BENS DURAVEIS     Faixa 05 - De 35 M ate 50 M   \n",
       "3             PROVEDOR SERVICOS   Faixa 09 - De 300 M ate 500 M   \n",
       "4                 BENS DURAVEIS     Faixa 05 - De 35 M ate 50 M   \n",
       "...                         ...                             ...   \n",
       "238592               HOSPEDAGEM  Sem Informações de Faturamento   \n",
       "238593               HOSPEDAGEM  Sem Informações de Faturamento   \n",
       "238594  ESCRITORIO DE ADVOCACIA  Sem Informações de Faturamento   \n",
       "238595  ESCRITORIO DE ADVOCACIA  Sem Informações de Faturamento   \n",
       "238596  ESCRITORIO DE ADVOCACIA  Sem Informações de Faturamento   \n",
       "\n",
       "                    MARCA_TOTVS                         MODAL_COMERC  PAIS  \\\n",
       "0           CROSS - TRADICIONAL               MODALIDADE TRADICIONAL   105   \n",
       "1         MANUFATURA - PARCEIRO               MODALIDADE TRADICIONAL   105   \n",
       "2       SERVICOS DE IMPLANTACAO  MODALIDADE SERVICOS NÃO RECORRENTES   105   \n",
       "3           CROSS - TRADICIONAL               MODALIDADE TRADICIONAL   105   \n",
       "4                      PROGRESS               MODALIDADE TRADICIONAL   105   \n",
       "...                         ...                                  ...   ...   \n",
       "238592     HOSPITALIDADE - CORE   MODALIDADE ASSINATURA COMPLEMENTAR   105   \n",
       "238593     HOSPITALIDADE - CORE   MODALIDADE ASSINATURA COMPLEMENTAR   105   \n",
       "238594                    CLOUD      MODALIDADE SERVICOS RECORRENTES   105   \n",
       "238595                    CLOUD      MODALIDADE SERVICOS RECORRENTES   105   \n",
       "238596                    CLOUD      MODALIDADE SERVICOS RECORRENTES   105   \n",
       "\n",
       "       PERIODICIDADE SITUACAO_CONTRATO  UF    VL_TOTAL_CONTRATO  \\\n",
       "0        00 - Mensal          GRATUITO  SC     1633817,36581438   \n",
       "1        00 - Mensal             ATIVO  RJ     341,155636978792   \n",
       "2        00 - Mensal         CANCELADO  RJ     45,3386017130146   \n",
       "3        00 - Mensal          GRATUITO  SC     42,0343698218297   \n",
       "4        00 - Mensal           TROCADO  RJ    0,117708006301753   \n",
       "...              ...               ...  ..                  ...   \n",
       "238592   00 - Mensal          GRATUITO  RS  0,00420385736791976   \n",
       "238593   00 - Mensal          GRATUITO  RS  0,00420385736791976   \n",
       "238594   00 - Mensal             ATIVO  SP  0,00420385736791976   \n",
       "238595   00 - Mensal             ATIVO  SP     65,5801749395483   \n",
       "238596   00 - Mensal             ATIVO  SP     65,5801749395483   \n",
       "\n",
       "       DT_ASSINATURA_CONTRATO  \n",
       "0                  2016-04-07  \n",
       "1                  2015-02-27  \n",
       "2                  1997-11-28  \n",
       "3                  2016-04-07  \n",
       "4                  2017-11-22  \n",
       "...                       ...  \n",
       "238592             2025-03-24  \n",
       "238593             2025-03-24  \n",
       "238594             2025-03-24  \n",
       "238595             2025-03-24  \n",
       "238596             2025-03-24  \n",
       "\n",
       "[238597 rows x 16 columns]"
      ]
     },
     "execution_count": 3,
     "metadata": {},
     "output_type": "execute_result"
    }
   ],
   "source": [
    "df"
   ]
  },
  {
   "cell_type": "code",
   "execution_count": 4,
   "id": "77da75fa",
   "metadata": {},
   "outputs": [
    {
     "data": {
      "text/plain": [
       "10615"
      ]
     },
     "execution_count": 4,
     "metadata": {},
     "output_type": "execute_result"
    }
   ],
   "source": [
    "df['CD_CLIENTE'].nunique()"
   ]
  },
  {
   "cell_type": "code",
   "execution_count": 5,
   "id": "22e3eb9e",
   "metadata": {},
   "outputs": [
    {
     "name": "stdout",
     "output_type": "stream",
     "text": [
      "<class 'pandas.core.frame.DataFrame'>\n",
      "RangeIndex: 238597 entries, 0 to 238596\n",
      "Data columns (total 16 columns):\n",
      " #   Column                  Non-Null Count   Dtype \n",
      "---  ------                  --------------   ----- \n",
      " 0   CD_CLIENTE              238597 non-null  object\n",
      " 1   DS_PROD                 238597 non-null  object\n",
      " 2   DS_LIN_REC              238597 non-null  object\n",
      " 3   CIDADE                  238597 non-null  object\n",
      " 4   DS_CNAE                 238597 non-null  object\n",
      " 5   DS_SEGMENTO             238597 non-null  object\n",
      " 6   DS_SUBSEGMENTO          238553 non-null  object\n",
      " 7   FAT_FAIXA               238597 non-null  object\n",
      " 8   MARCA_TOTVS             237693 non-null  object\n",
      " 9   MODAL_COMERC            226965 non-null  object\n",
      " 10  PAIS                    238597 non-null  int64 \n",
      " 11  PERIODICIDADE           238531 non-null  object\n",
      " 12  SITUACAO_CONTRATO       238096 non-null  object\n",
      " 13  UF                      238597 non-null  object\n",
      " 14  VL_TOTAL_CONTRATO       238597 non-null  object\n",
      " 15  DT_ASSINATURA_CONTRATO  238597 non-null  object\n",
      "dtypes: int64(1), object(15)\n",
      "memory usage: 29.1+ MB\n"
     ]
    }
   ],
   "source": [
    "df.info()"
   ]
  },
  {
   "cell_type": "code",
   "execution_count": 6,
   "id": "f028687a",
   "metadata": {},
   "outputs": [],
   "source": [
    "# Convertendo valores monetarios para floar/int\n",
    "\n",
    "df[\"VL_TOTAL_CONTRATO\"] = df[\"VL_TOTAL_CONTRATO\"].str.replace(\",\", \".\").astype(float)"
   ]
  },
  {
   "cell_type": "code",
   "execution_count": 7,
   "id": "c7de1ed4",
   "metadata": {},
   "outputs": [],
   "source": [
    "# convertendo data para valor inteiro\n",
    "\n",
    "df[\"DT_ASSINATURA_CONTRATO\"] = df[\"DT_ASSINATURA_CONTRATO\"].str.replace(\"-\", \"\").astype(int)"
   ]
  },
  {
   "cell_type": "code",
   "execution_count": 8,
   "id": "ec7eb2ea",
   "metadata": {},
   "outputs": [
    {
     "data": {
      "application/vnd.microsoft.datawrangler.viewer.v0+json": {
       "columns": [
        {
         "name": "index",
         "rawType": "object",
         "type": "string"
        },
        {
         "name": "PAIS",
         "rawType": "float64",
         "type": "float"
        },
        {
         "name": "VL_TOTAL_CONTRATO",
         "rawType": "float64",
         "type": "float"
        },
        {
         "name": "DT_ASSINATURA_CONTRATO",
         "rawType": "float64",
         "type": "float"
        }
       ],
       "ref": "3b893c0d-54ce-4809-90c4-33ba0f2682d0",
       "rows": [
        [
         "count",
         "238597.0",
         "238597.0",
         "238597.0"
        ],
        [
         "mean",
         "105.91071974920054",
         "3120.107529823631",
         "20173873.501410328"
        ],
        [
         "std",
         "23.695716019344914",
         "135950.27766383064",
         "57371.59765418876"
        ],
        [
         "min",
         "40.0",
         "-0.130319578405513",
         "19710419.0"
        ],
        [
         "25%",
         "105.0",
         "5.2127831362205",
         "20130515.0"
        ],
        [
         "50%",
         "105.0",
         "177.301888349384",
         "20190131.0"
        ],
        [
         "75%",
         "105.0",
         "1050.96434197994",
         "20220930.0"
        ],
        [
         "max",
         "845.0",
         "35587878.9823028",
         "20250324.0"
        ]
       ],
       "shape": {
        "columns": 3,
        "rows": 8
       }
      },
      "text/html": [
       "<div>\n",
       "<style scoped>\n",
       "    .dataframe tbody tr th:only-of-type {\n",
       "        vertical-align: middle;\n",
       "    }\n",
       "\n",
       "    .dataframe tbody tr th {\n",
       "        vertical-align: top;\n",
       "    }\n",
       "\n",
       "    .dataframe thead th {\n",
       "        text-align: right;\n",
       "    }\n",
       "</style>\n",
       "<table border=\"1\" class=\"dataframe\">\n",
       "  <thead>\n",
       "    <tr style=\"text-align: right;\">\n",
       "      <th></th>\n",
       "      <th>PAIS</th>\n",
       "      <th>VL_TOTAL_CONTRATO</th>\n",
       "      <th>DT_ASSINATURA_CONTRATO</th>\n",
       "    </tr>\n",
       "  </thead>\n",
       "  <tbody>\n",
       "    <tr>\n",
       "      <th>count</th>\n",
       "      <td>238597.000000</td>\n",
       "      <td>2.385970e+05</td>\n",
       "      <td>2.385970e+05</td>\n",
       "    </tr>\n",
       "    <tr>\n",
       "      <th>mean</th>\n",
       "      <td>105.910720</td>\n",
       "      <td>3.120108e+03</td>\n",
       "      <td>2.017387e+07</td>\n",
       "    </tr>\n",
       "    <tr>\n",
       "      <th>std</th>\n",
       "      <td>23.695716</td>\n",
       "      <td>1.359503e+05</td>\n",
       "      <td>5.737160e+04</td>\n",
       "    </tr>\n",
       "    <tr>\n",
       "      <th>min</th>\n",
       "      <td>40.000000</td>\n",
       "      <td>-1.303196e-01</td>\n",
       "      <td>1.971042e+07</td>\n",
       "    </tr>\n",
       "    <tr>\n",
       "      <th>25%</th>\n",
       "      <td>105.000000</td>\n",
       "      <td>5.212783e+00</td>\n",
       "      <td>2.013052e+07</td>\n",
       "    </tr>\n",
       "    <tr>\n",
       "      <th>50%</th>\n",
       "      <td>105.000000</td>\n",
       "      <td>1.773019e+02</td>\n",
       "      <td>2.019013e+07</td>\n",
       "    </tr>\n",
       "    <tr>\n",
       "      <th>75%</th>\n",
       "      <td>105.000000</td>\n",
       "      <td>1.050964e+03</td>\n",
       "      <td>2.022093e+07</td>\n",
       "    </tr>\n",
       "    <tr>\n",
       "      <th>max</th>\n",
       "      <td>845.000000</td>\n",
       "      <td>3.558788e+07</td>\n",
       "      <td>2.025032e+07</td>\n",
       "    </tr>\n",
       "  </tbody>\n",
       "</table>\n",
       "</div>"
      ],
      "text/plain": [
       "                PAIS  VL_TOTAL_CONTRATO  DT_ASSINATURA_CONTRATO\n",
       "count  238597.000000       2.385970e+05            2.385970e+05\n",
       "mean      105.910720       3.120108e+03            2.017387e+07\n",
       "std        23.695716       1.359503e+05            5.737160e+04\n",
       "min        40.000000      -1.303196e-01            1.971042e+07\n",
       "25%       105.000000       5.212783e+00            2.013052e+07\n",
       "50%       105.000000       1.773019e+02            2.019013e+07\n",
       "75%       105.000000       1.050964e+03            2.022093e+07\n",
       "max       845.000000       3.558788e+07            2.025032e+07"
      ]
     },
     "execution_count": 8,
     "metadata": {},
     "output_type": "execute_result"
    }
   ],
   "source": [
    "df.describe()"
   ]
  },
  {
   "cell_type": "code",
   "execution_count": 9,
   "id": "203696f5",
   "metadata": {},
   "outputs": [],
   "source": [
    "df.loc[df[\"VL_TOTAL_CONTRATO\"] < 0, \"VL_TOTAL_CONTRATO\"] = 0"
   ]
  },
  {
   "cell_type": "code",
   "execution_count": 10,
   "id": "60b2ece2",
   "metadata": {},
   "outputs": [
    {
     "data": {
      "application/vnd.microsoft.datawrangler.viewer.v0+json": {
       "columns": [
        {
         "name": "index",
         "rawType": "int64",
         "type": "integer"
        },
        {
         "name": "VL_TOTAL_CONTRATO",
         "rawType": "float64",
         "type": "float"
        }
       ],
       "ref": "0bbeb371-5085-44eb-b2c1-283703350e7f",
       "rows": [
        [
         "0",
         "0.00420385736791976"
        ]
       ],
       "shape": {
        "columns": 1,
        "rows": 1
       }
      },
      "text/plain": [
       "0    0.004204\n",
       "Name: VL_TOTAL_CONTRATO, dtype: float64"
      ]
     },
     "execution_count": 10,
     "metadata": {},
     "output_type": "execute_result"
    }
   ],
   "source": [
    "df[\"VL_TOTAL_CONTRATO\"].mode()"
   ]
  },
  {
   "cell_type": "code",
   "execution_count": 11,
   "id": "7e24fac3",
   "metadata": {},
   "outputs": [
    {
     "data": {
      "application/vnd.microsoft.datawrangler.viewer.v0+json": {
       "columns": [
        {
         "name": "index",
         "rawType": "object",
         "type": "string"
        },
        {
         "name": "CD_CLIENTE",
         "rawType": "object",
         "type": "unknown"
        },
        {
         "name": "DS_PROD",
         "rawType": "object",
         "type": "unknown"
        },
        {
         "name": "DS_LIN_REC",
         "rawType": "object",
         "type": "unknown"
        },
        {
         "name": "CIDADE",
         "rawType": "object",
         "type": "unknown"
        },
        {
         "name": "DS_CNAE",
         "rawType": "object",
         "type": "unknown"
        },
        {
         "name": "DS_SEGMENTO",
         "rawType": "object",
         "type": "unknown"
        },
        {
         "name": "DS_SUBSEGMENTO",
         "rawType": "object",
         "type": "unknown"
        },
        {
         "name": "FAT_FAIXA",
         "rawType": "object",
         "type": "unknown"
        },
        {
         "name": "MARCA_TOTVS",
         "rawType": "object",
         "type": "unknown"
        },
        {
         "name": "MODAL_COMERC",
         "rawType": "object",
         "type": "unknown"
        },
        {
         "name": "PERIODICIDADE",
         "rawType": "object",
         "type": "unknown"
        },
        {
         "name": "SITUACAO_CONTRATO",
         "rawType": "object",
         "type": "unknown"
        },
        {
         "name": "UF",
         "rawType": "object",
         "type": "unknown"
        }
       ],
       "ref": "9bd4d953-9b84-4022-8e70-bc802a22510e",
       "rows": [
        [
         "count",
         "238597",
         "238597",
         "238597",
         "238597",
         "238597",
         "238597",
         "238553",
         "238597",
         "237693",
         "226965",
         "238531",
         "238096",
         "238597"
        ],
        [
         "unique",
         "10615",
         "7372",
         "88",
         "1252",
         "895",
         "14",
         "65",
         "13",
         "94",
         "13",
         "6",
         "7",
         "39"
        ],
        [
         "top",
         "TFBZNE",
         "SMS TOTVS TEC USER",
         "CDU TOTVS SERIE T",
         "SAOPAULO",
         "Hoteis",
         "MANUFATURA",
         "ATACADISTA E DISTRIBUIDOR",
         "Sem Informações de Faturamento",
         "DISTRIBUICAO & VAREJO - CORE",
         "MODALIDADE TRADICIONAL",
         "00 - Mensal",
         "ATIVO",
         "SP"
        ],
        [
         "freq",
         "641",
         "7557",
         "67646",
         "37226",
         "9364",
         "67360",
         "28989",
         "49965",
         "26742",
         "108824",
         "236188",
         "124464",
         "92330"
        ]
       ],
       "shape": {
        "columns": 13,
        "rows": 4
       }
      },
      "text/html": [
       "<div>\n",
       "<style scoped>\n",
       "    .dataframe tbody tr th:only-of-type {\n",
       "        vertical-align: middle;\n",
       "    }\n",
       "\n",
       "    .dataframe tbody tr th {\n",
       "        vertical-align: top;\n",
       "    }\n",
       "\n",
       "    .dataframe thead th {\n",
       "        text-align: right;\n",
       "    }\n",
       "</style>\n",
       "<table border=\"1\" class=\"dataframe\">\n",
       "  <thead>\n",
       "    <tr style=\"text-align: right;\">\n",
       "      <th></th>\n",
       "      <th>CD_CLIENTE</th>\n",
       "      <th>DS_PROD</th>\n",
       "      <th>DS_LIN_REC</th>\n",
       "      <th>CIDADE</th>\n",
       "      <th>DS_CNAE</th>\n",
       "      <th>DS_SEGMENTO</th>\n",
       "      <th>DS_SUBSEGMENTO</th>\n",
       "      <th>FAT_FAIXA</th>\n",
       "      <th>MARCA_TOTVS</th>\n",
       "      <th>MODAL_COMERC</th>\n",
       "      <th>PERIODICIDADE</th>\n",
       "      <th>SITUACAO_CONTRATO</th>\n",
       "      <th>UF</th>\n",
       "    </tr>\n",
       "  </thead>\n",
       "  <tbody>\n",
       "    <tr>\n",
       "      <th>count</th>\n",
       "      <td>238597</td>\n",
       "      <td>238597</td>\n",
       "      <td>238597</td>\n",
       "      <td>238597</td>\n",
       "      <td>238597</td>\n",
       "      <td>238597</td>\n",
       "      <td>238553</td>\n",
       "      <td>238597</td>\n",
       "      <td>237693</td>\n",
       "      <td>226965</td>\n",
       "      <td>238531</td>\n",
       "      <td>238096</td>\n",
       "      <td>238597</td>\n",
       "    </tr>\n",
       "    <tr>\n",
       "      <th>unique</th>\n",
       "      <td>10615</td>\n",
       "      <td>7372</td>\n",
       "      <td>88</td>\n",
       "      <td>1252</td>\n",
       "      <td>895</td>\n",
       "      <td>14</td>\n",
       "      <td>65</td>\n",
       "      <td>13</td>\n",
       "      <td>94</td>\n",
       "      <td>13</td>\n",
       "      <td>6</td>\n",
       "      <td>7</td>\n",
       "      <td>39</td>\n",
       "    </tr>\n",
       "    <tr>\n",
       "      <th>top</th>\n",
       "      <td>TFBZNE</td>\n",
       "      <td>SMS TOTVS TEC USER</td>\n",
       "      <td>CDU TOTVS SERIE T</td>\n",
       "      <td>SAOPAULO</td>\n",
       "      <td>Hoteis</td>\n",
       "      <td>MANUFATURA</td>\n",
       "      <td>ATACADISTA E DISTRIBUIDOR</td>\n",
       "      <td>Sem Informações de Faturamento</td>\n",
       "      <td>DISTRIBUICAO &amp; VAREJO - CORE</td>\n",
       "      <td>MODALIDADE TRADICIONAL</td>\n",
       "      <td>00 - Mensal</td>\n",
       "      <td>ATIVO</td>\n",
       "      <td>SP</td>\n",
       "    </tr>\n",
       "    <tr>\n",
       "      <th>freq</th>\n",
       "      <td>641</td>\n",
       "      <td>7557</td>\n",
       "      <td>67646</td>\n",
       "      <td>37226</td>\n",
       "      <td>9364</td>\n",
       "      <td>67360</td>\n",
       "      <td>28989</td>\n",
       "      <td>49965</td>\n",
       "      <td>26742</td>\n",
       "      <td>108824</td>\n",
       "      <td>236188</td>\n",
       "      <td>124464</td>\n",
       "      <td>92330</td>\n",
       "    </tr>\n",
       "  </tbody>\n",
       "</table>\n",
       "</div>"
      ],
      "text/plain": [
       "       CD_CLIENTE             DS_PROD         DS_LIN_REC    CIDADE DS_CNAE  \\\n",
       "count      238597              238597             238597    238597  238597   \n",
       "unique      10615                7372                 88      1252     895   \n",
       "top        TFBZNE  SMS TOTVS TEC USER  CDU TOTVS SERIE T  SAOPAULO  Hoteis   \n",
       "freq          641                7557              67646     37226    9364   \n",
       "\n",
       "       DS_SEGMENTO             DS_SUBSEGMENTO                       FAT_FAIXA  \\\n",
       "count       238597                     238553                          238597   \n",
       "unique          14                         65                              13   \n",
       "top     MANUFATURA  ATACADISTA E DISTRIBUIDOR  Sem Informações de Faturamento   \n",
       "freq         67360                      28989                           49965   \n",
       "\n",
       "                         MARCA_TOTVS            MODAL_COMERC PERIODICIDADE  \\\n",
       "count                         237693                  226965        238531   \n",
       "unique                            94                      13             6   \n",
       "top     DISTRIBUICAO & VAREJO - CORE  MODALIDADE TRADICIONAL   00 - Mensal   \n",
       "freq                           26742                  108824        236188   \n",
       "\n",
       "       SITUACAO_CONTRATO      UF  \n",
       "count             238096  238597  \n",
       "unique                 7      39  \n",
       "top                ATIVO      SP  \n",
       "freq              124464   92330  "
      ]
     },
     "execution_count": 11,
     "metadata": {},
     "output_type": "execute_result"
    }
   ],
   "source": [
    "df.describe(include='object')"
   ]
  },
  {
   "cell_type": "code",
   "execution_count": 12,
   "id": "51374efb",
   "metadata": {},
   "outputs": [
    {
     "data": {
      "application/vnd.microsoft.datawrangler.viewer.v0+json": {
       "columns": [
        {
         "name": "index",
         "rawType": "object",
         "type": "string"
        },
        {
         "name": "0",
         "rawType": "float64",
         "type": "float"
        }
       ],
       "ref": "f4259e1a-996c-417e-afca-5483d7953548",
       "rows": [
        [
         "CD_CLIENTE",
         "0.0"
        ],
        [
         "DS_PROD",
         "0.0"
        ],
        [
         "DS_LIN_REC",
         "0.0"
        ],
        [
         "CIDADE",
         "0.0"
        ],
        [
         "DS_CNAE",
         "0.0"
        ],
        [
         "DS_SEGMENTO",
         "0.0"
        ],
        [
         "DS_SUBSEGMENTO",
         "0.018441137147575202"
        ],
        [
         "FAT_FAIXA",
         "0.0"
        ],
        [
         "MARCA_TOTVS",
         "0.37888154503199956"
        ],
        [
         "MODAL_COMERC",
         "4.875166075013516"
        ],
        [
         "PAIS",
         "0.0"
        ],
        [
         "PERIODICIDADE",
         "0.027661705721362798"
        ],
        [
         "SITUACAO_CONTRATO",
         "0.20997749343034489"
        ],
        [
         "UF",
         "0.0"
        ],
        [
         "VL_TOTAL_CONTRATO",
         "0.0"
        ],
        [
         "DT_ASSINATURA_CONTRATO",
         "0.0"
        ]
       ],
       "shape": {
        "columns": 1,
        "rows": 16
       }
      },
      "text/plain": [
       "CD_CLIENTE                0.000000\n",
       "DS_PROD                   0.000000\n",
       "DS_LIN_REC                0.000000\n",
       "CIDADE                    0.000000\n",
       "DS_CNAE                   0.000000\n",
       "DS_SEGMENTO               0.000000\n",
       "DS_SUBSEGMENTO            0.018441\n",
       "FAT_FAIXA                 0.000000\n",
       "MARCA_TOTVS               0.378882\n",
       "MODAL_COMERC              4.875166\n",
       "PAIS                      0.000000\n",
       "PERIODICIDADE             0.027662\n",
       "SITUACAO_CONTRATO         0.209977\n",
       "UF                        0.000000\n",
       "VL_TOTAL_CONTRATO         0.000000\n",
       "DT_ASSINATURA_CONTRATO    0.000000\n",
       "dtype: float64"
      ]
     },
     "execution_count": 12,
     "metadata": {},
     "output_type": "execute_result"
    }
   ],
   "source": [
    "percentual_nulos = df.isnull().mean() * 100\n",
    "percentual_nulos"
   ]
  },
  {
   "cell_type": "code",
   "execution_count": 13,
   "id": "a3184ac6",
   "metadata": {},
   "outputs": [
    {
     "data": {
      "text/plain": [
       "array(['PROVEDOR SERVICOS', 'BENS DURAVEIS', 'VAREJO', 'VIAGENS', 'TOTVS',\n",
       "       'ATACADISTA E DISTRIBUIDOR', 'ENGENHARIA & DESIGN',\n",
       "       'QUIMICA & RECICLAGEM', 'BENS DE CONSUMO', 'EDUCACAO CONTINUADA',\n",
       "       'BENS DE CAPITAL', 'EXTRATIVISTA & BENEFICIAMENTO',\n",
       "       'METAL-MECANICO & PLASTICO', 'TRANSPORTADOR', 'DROGARIA',\n",
       "       'OUTRAS ATIVIDADES DE SERVIÇOS FINANCEIRO', 'SUPERMERCADO',\n",
       "       'CONSTRUTORAS', 'SUCROENERGETICO', 'HOSPITAIS', 'HOSPEDAGEM',\n",
       "       'ESCRITORIO DE ADVOCACIA', 'PAPEL & CELULOSE',\n",
       "       'MAGAZINE E LOJA DE DEPARTAMENTOS', 'UTILITIES',\n",
       "       'OPERADOR LOGISTICO', 'ORIGINACAO E BENEFICIAMENTO',\n",
       "       'CONCESSIONARIA DE VEICULOS', 'TEXTIL & VESTUARIO', 'SUPERIOR',\n",
       "       'MATERIAL DE CONSTRUCAO', 'MIDIA', 'BASICO', 'SAUDE', 'JURIDICO',\n",
       "       'AGROINDUSTRIA', 'UTILITES', 'CENTROS CLINICOS', 'IMOBILIARIA',\n",
       "       'PROVEDOR DE SERVICOS', 'PROJETOS & SERVICOS ESPECIAIS', 'PUBLICO',\n",
       "       'OPERADORAS DE PLANOS DE SAUDE', 'GRAOS', 'INCORPORADORAS', 'FOOD',\n",
       "       'PORTOS, RECINTOS ADUANEIROS', 'CONDOMINIO', 'SEGURADORAS',\n",
       "       'SHOPPING', 'BANCOS E FINANCEIRAS',\n",
       "       'PRODUCAO DE ANIMAIS, AVES E PEIXES', 'FINANCEIRO - HOLDINGS',\n",
       "       'FINANCEIRO - CREDITO E FINANCIAMENTO', 'SERVICOS DE RESERVA',\n",
       "       'PRODUCAO DE CULTIVOS', 'MODA', 'LOCAÇÃO', 'TI & TELECOM',\n",
       "       'TRANSPORTE DE PASSAGEIROS', nan, 'BPO', 'ENERGIA',\n",
       "       'LIMPEZA & SEGURANÇA', 'CLUBES', 'COOPERATIVA  AGROPECUARIA'],\n",
       "      dtype=object)"
      ]
     },
     "execution_count": 13,
     "metadata": {},
     "output_type": "execute_result"
    }
   ],
   "source": [
    "df['DS_SUBSEGMENTO'].unique()"
   ]
  },
  {
   "cell_type": "code",
   "execution_count": 14,
   "id": "ee79f465",
   "metadata": {},
   "outputs": [],
   "source": [
    "df['DS_SUBSEGMENTO'] = df['DS_SUBSEGMENTO'].fillna('NAO INFORMADO')"
   ]
  },
  {
   "cell_type": "code",
   "execution_count": 15,
   "id": "b5518866",
   "metadata": {},
   "outputs": [
    {
     "data": {
      "application/vnd.microsoft.datawrangler.viewer.v0+json": {
       "columns": [
        {
         "name": "DS_SUBSEGMENTO",
         "rawType": "object",
         "type": "string"
        },
        {
         "name": "proportion",
         "rawType": "float64",
         "type": "float"
        }
       ],
       "ref": "37f74ba8-26c1-44e3-928e-18c1d856b3df",
       "rows": [
        [
         "ATACADISTA E DISTRIBUIDOR",
         "12.14977556297858"
        ],
        [
         "PROVEDOR SERVICOS",
         "8.889885455391308"
        ],
        [
         "BENS DE CAPITAL",
         "6.306449787717365"
        ],
        [
         "HOSPEDAGEM",
         "5.742737754456259"
        ],
        [
         "BENS DE CONSUMO",
         "5.505936788811259"
        ],
        [
         "SUPERMERCADO",
         "4.736857546406703"
        ],
        [
         "METAL-MECANICO & PLASTICO",
         "4.656387129762738"
        ],
        [
         "CONSTRUTORAS",
         "4.329476062146632"
        ],
        [
         "QUIMICA & RECICLAGEM",
         "3.614462880924739"
        ],
        [
         "EXTRATIVISTA & BENEFICIAMENTO",
         "3.222169599785412"
        ],
        [
         "VIAGENS",
         "2.8143689987719878"
        ],
        [
         "MATERIAL DE CONSTRUCAO",
         "2.7552735365490766"
        ],
        [
         "BENS DURAVEIS",
         "2.6215752922291564"
        ],
        [
         "MAGAZINE E LOJA DE DEPARTAMENTOS",
         "2.608163556121829"
        ],
        [
         "CONCESSIONARIA DE VEICULOS",
         "2.1580321630196524"
        ],
        [
         "TRANSPORTADOR",
         "2.147973360939157"
        ],
        [
         "SUPERIOR",
         "1.8633930854118033"
        ],
        [
         "VAREJO",
         "1.8101652577358476"
        ],
        [
         "BASICO",
         "1.5029526775273787"
        ],
        [
         "OUTRAS ATIVIDADES DE SERVIÇOS FINANCEIRO",
         "1.4446954488111754"
        ],
        [
         "OPERADORAS DE PLANOS DE SAUDE",
         "1.2112474171930074"
        ],
        [
         "AGROINDUSTRIA",
         "1.2108283004396534"
        ],
        [
         "PAPEL & CELULOSE",
         "1.1710122088710253"
        ],
        [
         "UTILITIES",
         "1.14837990418991"
        ],
        [
         "TEXTIL & VESTUARIO",
         "1.1337108178225208"
        ],
        [
         "EDUCACAO CONTINUADA",
         "1.0901226754737068"
        ],
        [
         "SUCROENERGETICO",
         "1.0062993248029104"
        ],
        [
         "HOSPITAIS",
         "0.9576817814138485"
        ],
        [
         "ESCRITORIO DE ADVOCACIA",
         "0.9492994463467689"
        ],
        [
         "INCORPORADORAS",
         "0.9006819029577069"
        ],
        [
         "PROVEDOR DE SERVICOS",
         "0.849968775801875"
        ],
        [
         "DROGARIA",
         "0.8449393747616274"
        ],
        [
         "MODA",
         "0.7531528057771053"
        ],
        [
         "ENGENHARIA & DESIGN",
         "0.6668147545861851"
        ],
        [
         "GRAOS",
         "0.5901163887224065"
        ],
        [
         "OPERADOR LOGISTICO",
         "0.5456900128668843"
        ],
        [
         "MIDIA",
         "0.5234768249391233"
        ],
        [
         "CENTROS CLINICOS",
         "0.460609311936026"
        ],
        [
         "UTILITES",
         "0.34660955502374297"
        ],
        [
         "SAUDE",
         "0.33780810320330934"
        ],
        [
         "PRODUCAO DE CULTIVOS",
         "0.25775680331269885"
        ],
        [
         "BPO",
         "0.2393156661651236"
        ],
        [
         "TI & TELECOM",
         "0.2326097981114599"
        ],
        [
         "PROJETOS & SERVICOS ESPECIAIS",
         "0.2263230468111502"
        ],
        [
         "PORTOS, RECINTOS ADUANEIROS",
         "0.19740399082972543"
        ],
        [
         "ORIGINACAO E BENEFICIAMENTO",
         "0.18063932069556618"
        ],
        [
         "LOCAÇÃO",
         "0.16471288406811485"
        ],
        [
         "TOTVS",
         "0.1521393814674954"
        ],
        [
         "PUBLICO",
         "0.1311835437997963"
        ],
        [
         "CONDOMINIO",
         "0.1060365385985574"
        ]
       ],
       "shape": {
        "columns": 1,
        "rows": 66
       }
      },
      "text/plain": [
       "DS_SUBSEGMENTO\n",
       "ATACADISTA E DISTRIBUIDOR               12.149776\n",
       "PROVEDOR SERVICOS                        8.889885\n",
       "BENS DE CAPITAL                          6.306450\n",
       "HOSPEDAGEM                               5.742738\n",
       "BENS DE CONSUMO                          5.505937\n",
       "                                          ...    \n",
       "FINANCEIRO - CREDITO E FINANCIAMENTO     0.009640\n",
       "TRANSPORTE DE PASSAGEIROS                0.009221\n",
       "FINANCEIRO - HOLDINGS                    0.008382\n",
       "COOPERATIVA  AGROPECUARIA                0.002934\n",
       "SEGURADORAS                              0.002096\n",
       "Name: proportion, Length: 66, dtype: float64"
      ]
     },
     "execution_count": 15,
     "metadata": {},
     "output_type": "execute_result"
    }
   ],
   "source": [
    "df['DS_SUBSEGMENTO'].value_counts(normalize=True) * 100"
   ]
  },
  {
   "cell_type": "code",
   "execution_count": 16,
   "id": "2beb900c",
   "metadata": {},
   "outputs": [
    {
     "data": {
      "text/plain": [
       "array(['CROSS - TRADICIONAL', 'MANUFATURA - PARCEIRO',\n",
       "       'SERVICOS DE IMPLANTACAO', 'PROGRESS', 'RH - CORE',\n",
       "       'SOFTWARE COMPLEMENTAR', 'FLUIG - CORE', 'HOSPITALIDADE - CORE',\n",
       "       'MANUFATURA - CORE', 'CLOUD', 'SERVICOS - CORE',\n",
       "       'MODALIDADE TRADICIONAL', 'OTIMIZACAO LOGISTICA',\n",
       "       'BACKOFFICE - CORE', 'GOODDATA', 'EDUCACIONAL - CORE',\n",
       "       'FINANCIAL SERVICES (DIMENSA) - PARCEIRO', 'TECNOLOGIA',\n",
       "       'BACKOFFICE - PARCEIRO', 'MANUFATURA - CORPORATIVO',\n",
       "       'LOGISTICA - CORE', nan, 'DISTRIBUICAO & VAREJO - CORE',\n",
       "       'RH - PARCEIRO', 'AMS', 'CLOUD INTERA', 'RJ CONSULTORES', 'BSO',\n",
       "       'PRIME', 'ACT', 'FEEDZ', 'MODALIDADE ALUGUEL (LEGADO)',\n",
       "       'MICRO E PEQUENOS NEGOCIOS', 'MANUFATURA - PARCEIRO CORPORATIVO',\n",
       "       'CROSS - PARCEIRO', 'SUPERMERCADOS - CORE',\n",
       "       'DISTRIBUICAO & LOGISTICA - CORPORATIVO', 'CROSS - INTERA',\n",
       "       'SAUDE - CORE', 'CROSS - CORPORATIVO', 'GESPLAN',\n",
       "       'CONSTRUCAO - CORE', 'MICRO E PEQUENOS NEGOCIOS (FOOD)',\n",
       "       'FLUIG - PARCEIRO', 'EDUCACAO EMPRESARIAL', 'TOTVS CRM',\n",
       "       'RH - PARCEIRO CORPORATIVO', 'BACKOFFICE - PARCEIRO CORPORATIVO',\n",
       "       'TIS', 'DELIVERY CENTER - PARCEIRO', 'CONSTRUCAO - PARCEIRO',\n",
       "       'RH / FLUIG - PARCEIRO', 'DISTRIBUICAO & VAREJO - CORPORATIVO',\n",
       "       'FABRICA DE SOFTWARE', 'JURIDICO - CORE', 'BUSINESS AGILITY',\n",
       "       'AGROINDUSTRIA - CORE', 'PROCESSOS INTERNOS',\n",
       "       'EDUCACIONAL - PARCEIRO', 'SERVICOS - CORPORATIVO',\n",
       "       'DISTRIBUICAO & VAREJO - PARCEIRO', 'SERVIÇOS',\n",
       "       'EDUCACIONAL - CORPORATIVO', 'MODALIDADE ASSINATURA COMPLEMENTAR',\n",
       "       'TECHFIN', 'DISTRIBUICAO & LOGISTICA - CORE',\n",
       "       'RD STATION - PARCEIRO', 'STRATEGIC AGILITY',\n",
       "       'SUPERMERCADOS - CORPORATIVO', 'TRS', 'CIASHOP', 'LEGAL SERVICE',\n",
       "       'SERVICOS RECORRENTES', 'E COMMERCE (VTEX)',\n",
       "       'CONSTRUCAO - CORPORATIVO', 'SUPERMERCADOS - PARCEIRO',\n",
       "       'SERVICOS - PARCEIRO', 'SAUDE - CORPORATIVO', 'DIGITAL COMMERCE',\n",
       "       'LOGISTICA - PARCEIRO', 'INTELIGENCIA DE MERCADO (TAIL)',\n",
       "       'FINANCIAL SERVICES (DIMENSA) - CORE', 'JURIDICO - PARCEIRO',\n",
       "       'AGROINDUSTRIA - CORPORATIVO', 'JURIDICO - CORPORATIVO',\n",
       "       'SAUDE - PARCEIRO', 'AGROINDUSTRIA - PARCEIRO',\n",
       "       'SUPPLY CHAIN - CORE', 'FLUIG',\n",
       "       'DISTRIBUICAO & VAREJO - PARCEIRO CORPORATIVO',\n",
       "       'FINANCIAL SERVICES - CORPORATIVO', 'OUTROS',\n",
       "       'HOSPITALIDADE - PARCEIRO', 'TOTVS DISTRIBUICAO E VAREJO',\n",
       "       'MODALIDADE ASSINATURA (INTERA 17/18)'], dtype=object)"
      ]
     },
     "execution_count": 16,
     "metadata": {},
     "output_type": "execute_result"
    }
   ],
   "source": [
    "df['MARCA_TOTVS'].unique()"
   ]
  },
  {
   "cell_type": "code",
   "execution_count": 17,
   "id": "f45b01c6",
   "metadata": {},
   "outputs": [],
   "source": [
    "df['MARCA_TOTVS'] = df['MARCA_TOTVS'].fillna('NAO INFORMADO')"
   ]
  },
  {
   "cell_type": "code",
   "execution_count": 18,
   "id": "2041457e",
   "metadata": {},
   "outputs": [
    {
     "data": {
      "application/vnd.microsoft.datawrangler.viewer.v0+json": {
       "columns": [
        {
         "name": "MARCA_TOTVS",
         "rawType": "object",
         "type": "string"
        },
        {
         "name": "proportion",
         "rawType": "float64",
         "type": "float"
        }
       ],
       "ref": "33f6c000-87d6-4a96-ac67-fe5424699b81",
       "rows": [
        [
         "DISTRIBUICAO & VAREJO - CORE",
         "11.208020218192182"
        ],
        [
         "BACKOFFICE - CORE",
         "9.92887588695583"
        ],
        [
         "RH - CORE",
         "8.710922601709157"
        ],
        [
         "CROSS - TRADICIONAL",
         "8.348805726811317"
        ],
        [
         "TECNOLOGIA",
         "7.126661274031107"
        ],
        [
         "HOSPITALIDADE - CORE",
         "5.934274110739029"
        ],
        [
         "SOFTWARE COMPLEMENTAR",
         "4.485806611147668"
        ],
        [
         "SUPERMERCADOS - CORE",
         "3.9690356542622074"
        ],
        [
         "CLOUD",
         "3.248993072000067"
        ],
        [
         "MODALIDADE TRADICIONAL",
         "2.951001060365386"
        ],
        [
         "FLUIG - CORE",
         "2.6450458304169793"
        ],
        [
         "MICRO E PEQUENOS NEGOCIOS",
         "2.2242526100495814"
        ],
        [
         "CROSS - CORPORATIVO",
         "1.936319400495396"
        ],
        [
         "CROSS - INTERA",
         "1.890635674379812"
        ],
        [
         "FEEDZ",
         "1.7950770546151043"
        ],
        [
         "PROGRESS",
         "1.7414301101857945"
        ],
        [
         "MANUFATURA - CORPORATIVO",
         "1.6911360997833167"
        ],
        [
         "MANUFATURA - PARCEIRO",
         "1.3156074887781488"
        ],
        [
         "CLOUD INTERA",
         "1.246034107721388"
        ],
        [
         "MANUFATURA - CORE",
         "1.0708433048194235"
        ],
        [
         "BACKOFFICE - PARCEIRO",
         "0.9509759133601848"
        ],
        [
         "SERVICOS DE IMPLANTACAO",
         "0.8671525626893883"
        ],
        [
         "GOODDATA",
         "0.8637996286625566"
        ],
        [
         "MICRO E PEQUENOS NEGOCIOS (FOOD)",
         "0.8633805119092026"
        ],
        [
         "EDUCACIONAL - CORE",
         "0.8164394355335567"
        ],
        [
         "RH - PARCEIRO",
         "0.7254911000557425"
        ],
        [
         "EDUCACIONAL - CORPORATIVO",
         "0.6362192315913444"
        ],
        [
         "LOGISTICA - CORE",
         "0.6148442771702913"
        ],
        [
         "AMS",
         "0.5670649672879373"
        ],
        [
         "SERVICOS - CORE",
         "0.5180283071455215"
        ],
        [
         "TOTVS CRM",
         "0.4497122763488225"
        ],
        [
         "DISTRIBUICAO & LOGISTICA - CORPORATIVO",
         "0.44719757582869857"
        ],
        [
         "DISTRIBUICAO & VAREJO - CORPORATIVO",
         "0.4010947329597606"
        ],
        [
         "DISTRIBUICAO & VAREJO - PARCEIRO",
         "0.3893594638658491"
        ],
        [
         "SERVICOS - CORPORATIVO",
         "0.38055801204541545"
        ],
        [
         "NAO INFORMADO",
         "0.37888154503199956"
        ],
        [
         "MANUFATURA - PARCEIRO CORPORATIVO",
         "0.36044040788442433"
        ],
        [
         "PRIME",
         "0.3436757377502651"
        ],
        [
         "GESPLAN",
         "0.2883523263075395"
        ],
        [
         "CONSTRUCAO - CORE",
         "0.2816464582538758"
        ],
        [
         "JURIDICO - PARCEIRO",
         "0.27326412318679616"
        ],
        [
         "FLUIG - PARCEIRO",
         "0.2648817881197165"
        ],
        [
         "BACKOFFICE - PARCEIRO CORPORATIVO",
         "0.2556612195459289"
        ],
        [
         "SAUDE - CORPORATIVO",
         "0.2552421027925749"
        ],
        [
         "DIGITAL COMMERCE",
         "0.24811711798555722"
        ],
        [
         "MODALIDADE ALUGUEL (LEGADO)",
         "0.2401538996718316"
        ],
        [
         "FINANCIAL SERVICES (DIMENSA) - CORE",
         "0.23722008239835374"
        ],
        [
         "ACT",
         "0.22925686408462806"
        ],
        [
         "EDUCACIONAL - PARCEIRO",
         "0.22716128031785815"
        ],
        [
         "AGROINDUSTRIA - CORE",
         "0.22003629551084047"
        ]
       ],
       "shape": {
        "columns": 1,
        "rows": 95
       }
      },
      "text/plain": [
       "MARCA_TOTVS\n",
       "DISTRIBUICAO & VAREJO - CORE               11.208020\n",
       "BACKOFFICE - CORE                           9.928876\n",
       "RH - CORE                                   8.710923\n",
       "CROSS - TRADICIONAL                         8.348806\n",
       "TECNOLOGIA                                  7.126661\n",
       "                                             ...    \n",
       "SERVICOS RECORRENTES                        0.003772\n",
       "FINANCIAL SERVICES (DIMENSA) - PARCEIRO     0.002096\n",
       "TOTVS DISTRIBUICAO E VAREJO                 0.001257\n",
       "MODALIDADE ASSINATURA (INTERA 17/18)        0.001257\n",
       "FLUIG                                       0.000419\n",
       "Name: proportion, Length: 95, dtype: float64"
      ]
     },
     "execution_count": 18,
     "metadata": {},
     "output_type": "execute_result"
    }
   ],
   "source": [
    "df['MARCA_TOTVS'].value_counts(normalize=True) * 100"
   ]
  },
  {
   "cell_type": "code",
   "execution_count": 19,
   "id": "289422cb",
   "metadata": {},
   "outputs": [
    {
     "data": {
      "text/plain": [
       "array(['MODALIDADE TRADICIONAL', 'MODALIDADE SERVICOS NÃO RECORRENTES',\n",
       "       'MODALIDADE ASSINATURA COMPLEMENTAR',\n",
       "       'MODALIDADE ALUGUEL (LEGADO)', 'MODALIDADE SERVICOS RECORRENTES',\n",
       "       nan, 'MODALIDADE CORPORATIVO', 'OUTROS',\n",
       "       'MODALIDADE ASSINATURA (INTERA)', 'SERIE 3',\n",
       "       'MODALIDADE INTERA 17', 'MPN', 'SERVIÇOS', 'MODALIDADE INTERA 18'],\n",
       "      dtype=object)"
      ]
     },
     "execution_count": 19,
     "metadata": {},
     "output_type": "execute_result"
    }
   ],
   "source": [
    "df['MODAL_COMERC'].unique()"
   ]
  },
  {
   "cell_type": "code",
   "execution_count": 20,
   "id": "56db58c3",
   "metadata": {},
   "outputs": [],
   "source": [
    "df['MODAL_COMERC'] = df['MODAL_COMERC'].fillna('NAO INFORMADO')"
   ]
  },
  {
   "cell_type": "code",
   "execution_count": 21,
   "id": "7009c1a1",
   "metadata": {},
   "outputs": [
    {
     "data": {
      "application/vnd.microsoft.datawrangler.viewer.v0+json": {
       "columns": [
        {
         "name": "MODAL_COMERC",
         "rawType": "object",
         "type": "string"
        },
        {
         "name": "proportion",
         "rawType": "float64",
         "type": "float"
        }
       ],
       "ref": "1b3cb05a-0cb4-447f-a855-37ae6c8a406d",
       "rows": [
        [
         "MODALIDADE TRADICIONAL",
         "45.60996156699372"
        ],
        [
         "MODALIDADE ASSINATURA COMPLEMENTAR",
         "21.180903364250177"
        ],
        [
         "MODALIDADE CORPORATIVO",
         "7.286344757058974"
        ],
        [
         "MODALIDADE SERVICOS RECORRENTES",
         "6.592706530258134"
        ],
        [
         "MODALIDADE SERVICOS NÃO RECORRENTES",
         "5.634186515337578"
        ],
        [
         "NAO INFORMADO",
         "4.875166075013516"
        ],
        [
         "MODALIDADE ASSINATURA (INTERA)",
         "4.198292518346836"
        ],
        [
         "MPN",
         "3.019736207915439"
        ],
        [
         "MODALIDADE INTERA 17",
         "0.7020205618679195"
        ],
        [
         "MODALIDADE ALUGUEL (LEGADO)",
         "0.6999249781011496"
        ],
        [
         "MODALIDADE INTERA 18",
         "0.10687477210526537"
        ],
        [
         "SERIE 3",
         "0.069154264303407"
        ],
        [
         "SERVIÇOS",
         "0.021794071174407053"
        ],
        [
         "OUTROS",
         "0.0029338172734778727"
        ]
       ],
       "shape": {
        "columns": 1,
        "rows": 14
       }
      },
      "text/plain": [
       "MODAL_COMERC\n",
       "MODALIDADE TRADICIONAL                 45.609962\n",
       "MODALIDADE ASSINATURA COMPLEMENTAR     21.180903\n",
       "MODALIDADE CORPORATIVO                  7.286345\n",
       "MODALIDADE SERVICOS RECORRENTES         6.592707\n",
       "MODALIDADE SERVICOS NÃO RECORRENTES     5.634187\n",
       "NAO INFORMADO                           4.875166\n",
       "MODALIDADE ASSINATURA (INTERA)          4.198293\n",
       "MPN                                     3.019736\n",
       "MODALIDADE INTERA 17                    0.702021\n",
       "MODALIDADE ALUGUEL (LEGADO)             0.699925\n",
       "MODALIDADE INTERA 18                    0.106875\n",
       "SERIE 3                                 0.069154\n",
       "SERVIÇOS                                0.021794\n",
       "OUTROS                                  0.002934\n",
       "Name: proportion, dtype: float64"
      ]
     },
     "execution_count": 21,
     "metadata": {},
     "output_type": "execute_result"
    }
   ],
   "source": [
    "df['MODAL_COMERC'].value_counts(normalize=True) * 100"
   ]
  },
  {
   "cell_type": "code",
   "execution_count": 22,
   "id": "6510b01c",
   "metadata": {},
   "outputs": [
    {
     "data": {
      "text/plain": [
       "array(['GRATUITO', 'ATIVO', 'CANCELADO', 'TROCADO', 'PENDENTE',\n",
       "       'SUSPENSO', nan, 'FATURAR'], dtype=object)"
      ]
     },
     "execution_count": 22,
     "metadata": {},
     "output_type": "execute_result"
    }
   ],
   "source": [
    "df['SITUACAO_CONTRATO'].unique()"
   ]
  },
  {
   "cell_type": "code",
   "execution_count": 23,
   "id": "32a0296d",
   "metadata": {},
   "outputs": [
    {
     "data": {
      "application/vnd.microsoft.datawrangler.viewer.v0+json": {
       "columns": [
        {
         "name": "SITUACAO_CONTRATO",
         "rawType": "object",
         "type": "string"
        },
        {
         "name": "proportion",
         "rawType": "float64",
         "type": "float"
        }
       ],
       "ref": "1ed89035-cbd4-4c47-8a85-fdaa491fbb74",
       "rows": [
        [
         "ATIVO",
         "52.27471272091929"
        ],
        [
         "CANCELADO",
         "23.838283717492104"
        ],
        [
         "GRATUITO",
         "15.340870909213091"
        ],
        [
         "TROCADO",
         "7.3583764531953495"
        ],
        [
         "PENDENTE",
         "1.0016967945702573"
        ],
        [
         "SUSPENSO",
         "0.1742994422417848"
        ],
        [
         "FATURAR",
         "0.011759962368120422"
        ]
       ],
       "shape": {
        "columns": 1,
        "rows": 7
       }
      },
      "text/plain": [
       "SITUACAO_CONTRATO\n",
       "ATIVO        52.274713\n",
       "CANCELADO    23.838284\n",
       "GRATUITO     15.340871\n",
       "TROCADO       7.358376\n",
       "PENDENTE      1.001697\n",
       "SUSPENSO      0.174299\n",
       "FATURAR       0.011760\n",
       "Name: proportion, dtype: float64"
      ]
     },
     "execution_count": 23,
     "metadata": {},
     "output_type": "execute_result"
    }
   ],
   "source": [
    "df['SITUACAO_CONTRATO'].value_counts(normalize=True) * 100"
   ]
  },
  {
   "cell_type": "code",
   "execution_count": 24,
   "id": "273d4313",
   "metadata": {},
   "outputs": [
    {
     "data": {
      "application/vnd.microsoft.datawrangler.viewer.v0+json": {
       "columns": [
        {
         "name": "DS_PROD",
         "rawType": "object",
         "type": "string"
        },
        {
         "name": "count",
         "rawType": "int64",
         "type": "integer"
        }
       ],
       "ref": "33956fa0-18e0-4aea-a442-2528e6df7974",
       "rows": [
        [
         "CR.WN06.CsA",
         "6"
        ],
        [
         "LB.WN06.CsA",
         "5"
        ],
        [
         "RB.WN01.CsA",
         "5"
        ],
        [
         "TS.WN01.CsA",
         "5"
        ],
        [
         "VI.WN04.CsA",
         "4"
        ],
        [
         "CR.WN06.Mnt",
         "2"
        ],
        [
         "LB.WM06.Mnt",
         "2"
        ],
        [
         "FS.WN01.Mnt",
         "1"
        ],
        [
         "BN.WN05.CsA",
         "1"
        ],
        [
         "FT.WN01.Mnt",
         "1"
        ],
        [
         "BN.WN05.CsU",
         "1"
        ],
        [
         "SMS PORTAL HCM DTS10",
         "1"
        ],
        [
         "SA.WN01.Mnt",
         "1"
        ],
        [
         "SMS TRANS.  FINANC. EDI EMS5",
         "1"
        ],
        [
         "SMS TRANS.  FINANC. EDI DTS10",
         "1"
        ],
        [
         "BL.WN01.Mnt",
         "1"
        ],
        [
         "SMS PREDITIVA DTS10",
         "1"
        ],
        [
         "SMS PRESTACAO DE CONTAS DTS10",
         "1"
        ],
        [
         "SMS PREVISAO DE VENDAS DTS10",
         "1"
        ],
        [
         "SMS PRODUCAO DTS10",
         "1"
        ],
        [
         "SMS PROGR. MaO OBRA MI DTS10",
         "1"
        ],
        [
         "SMS QUIOSQUE HR DTS10",
         "1"
        ],
        [
         "SMS RECEBIMENTO DTS10",
         "1"
        ],
        [
         "SMS RECEBIMENTO EMS2",
         "1"
        ],
        [
         "SMS RECUPERACAO IMPOSTOS DTS10",
         "1"
        ],
        [
         "SMS REPASSE DE BENEFICIARIOS",
         "1"
        ],
        [
         "SMS REVISAO DE CONTAS MEDICAS",
         "1"
        ],
        [
         "SMS SEGURANCA TRABALHO DTS10",
         "1"
        ],
        [
         "SMS SERIOUS WEB (COMP. CLIENT)",
         "1"
        ],
        [
         "SMS SMS INDUSTRIAL DTS10",
         "1"
        ],
        [
         "VI.WN04.CsU",
         "1"
        ],
        [
         "CDU ADM VALOR CONFIG. DTS10",
         "1"
        ],
        [
         "SD.WN01.Mnt",
         "1"
        ],
        [
         "CDU ADM.DE PRECO VENDA DTS10",
         "1"
        ],
        [
         "SG.WN01.Mnt",
         "1"
        ],
        [
         "CDU AN. DO CONTAS A RECEBER",
         "1"
        ],
        [
         "SO.WN01.Mnt",
         "1"
        ],
        [
         "CDU ANALISE DE BENEFICIARIOS",
         "1"
        ],
        [
         "TS.WN01.Mnt",
         "1"
        ],
        [
         "CDU ANALISE DE PRESTADORES",
         "1"
        ],
        [
         "UN.WN01.Mnt",
         "1"
        ],
        [
         "CDU ANALISE DOS PAGAMENTOS",
         "1"
        ],
        [
         "VI.WN04.Mnt",
         "1"
        ],
        [
         "CDU APLIC. E EMPRESTIMOS DTS10",
         "1"
        ],
        [
         "CDU ATENDIMENTO AO PUBLICO",
         "1"
        ],
        [
         "CDU ATIVO FIXO DTS10",
         "1"
        ],
        [
         "CDU ATIVO FIXO EMS5",
         "1"
        ],
        [
         "CDU AUDIT TRAIL - DTS10",
         "1"
        ],
        [
         "CDU AUDITORIA MEDICA",
         "1"
        ],
        [
         "CDU AUTOMACAO DE CONSULTORIOS",
         "1"
        ]
       ],
       "shape": {
        "columns": 1,
        "rows": 334
       }
      },
      "text/plain": [
       "DS_PROD\n",
       "CR.WN06.CsA                       6\n",
       "LB.WN06.CsA                       5\n",
       "RB.WN01.CsA                       5\n",
       "TS.WN01.CsA                       5\n",
       "VI.WN04.CsA                       4\n",
       "                                 ..\n",
       "PL.WM01.Mnt                       1\n",
       "CDU  REVISAO DE CONTAS MEDICAS    1\n",
       "RB.WN01.Mnt                       1\n",
       "CDU  VENDAS DE PLANOS             1\n",
       "BN.WN05.Mnt                       1\n",
       "Name: count, Length: 334, dtype: int64"
      ]
     },
     "execution_count": 24,
     "metadata": {},
     "output_type": "execute_result"
    }
   ],
   "source": [
    "df[df['CD_CLIENTE'] == '99999']['DS_PROD'].value_counts()"
   ]
  },
  {
   "cell_type": "code",
   "execution_count": 25,
   "id": "fdd1db3e",
   "metadata": {},
   "outputs": [
    {
     "data": {
      "text/plain": [
       "Index(['CD_CLIENTE', 'DS_PROD', 'DS_LIN_REC', 'CIDADE', 'DS_CNAE',\n",
       "       'DS_SEGMENTO', 'DS_SUBSEGMENTO', 'FAT_FAIXA', 'MARCA_TOTVS',\n",
       "       'MODAL_COMERC', 'PAIS', 'PERIODICIDADE', 'SITUACAO_CONTRATO', 'UF',\n",
       "       'VL_TOTAL_CONTRATO', 'DT_ASSINATURA_CONTRATO'],\n",
       "      dtype='object')"
      ]
     },
     "execution_count": 25,
     "metadata": {},
     "output_type": "execute_result"
    }
   ],
   "source": [
    "df.columns"
   ]
  },
  {
   "cell_type": "code",
   "execution_count": 26,
   "id": "7997fdf2",
   "metadata": {},
   "outputs": [],
   "source": [
    "# Definindo função de agregação pela moda\n",
    "\n",
    "def agg_moda(x):\n",
    "    m = x.dropna().mode()\n",
    "    if not m.empty:\n",
    "        return m.iloc[0]\n",
    "    return np.nan\n",
    "\n",
    "def agg_moda_faixa(x):\n",
    "    # Conta as frequências\n",
    "    contagem = x.dropna().value_counts()\n",
    "    \n",
    "    if contagem.empty:\n",
    "        return np.nan\n",
    "    \n",
    "    # Pega o mais frequente\n",
    "    mais_frequente = contagem.index[0]\n",
    "    \n",
    "    # Se for \"Sem Informações de Faturamento\" e existir outro valor\n",
    "    if mais_frequente == \"Sem Informações de Faturamento\" and len(contagem) > 1:\n",
    "        return contagem.index[1]  # segundo valor mais frequente\n",
    "    \n",
    "    return mais_frequente"
   ]
  },
  {
   "cell_type": "code",
   "execution_count": 27,
   "id": "34d2d886",
   "metadata": {},
   "outputs": [],
   "source": [
    "df_agrupado = df.groupby('CD_CLIENTE').agg({'DS_PROD':agg_moda,\n",
    "                             'DS_LIN_REC':agg_moda,\n",
    "                             'CIDADE':agg_moda,\n",
    "                             'DS_CNAE':agg_moda,\n",
    "                             'DS_SEGMENTO':agg_moda,\n",
    "                             'DS_SUBSEGMENTO':agg_moda,\n",
    "                             'FAT_FAIXA':agg_moda_faixa,\n",
    "                             'MARCA_TOTVS':agg_moda,\n",
    "                             'MODAL_COMERC':agg_moda,\n",
    "                             'PAIS':agg_moda,\n",
    "                             'PERIODICIDADE':agg_moda,\n",
    "                             'UF':agg_moda,\n",
    "                             'VL_TOTAL_CONTRATO':'sum'}).reset_index()"
   ]
  },
  {
   "cell_type": "code",
   "execution_count": 28,
   "id": "f014c889",
   "metadata": {},
   "outputs": [],
   "source": [
    "df_agrupado.columns = ['CD_CLIENTE', 'DS_PROD_moda', 'DS_LIN_REC_moda', 'CIDADE_moda', 'DS_CNAE_moda',\n",
    "       'DS_SEGMENTO_moda', 'DS_SUBSEGMENTO_moda', 'FAT_FAIXA_moda', 'MARCA_TOTVS_moda',\n",
    "       'MODAL_COMERC_moda', 'PAIS_moda', 'PERIODICIDADE_moda', 'UF_moda',\n",
    "       'VL_TOTAL_CONTRATO_soma']"
   ]
  },
  {
   "cell_type": "code",
   "execution_count": 29,
   "id": "1e362d4b",
   "metadata": {},
   "outputs": [
    {
     "data": {
      "application/vnd.microsoft.datawrangler.viewer.v0+json": {
       "columns": [
        {
         "name": "FAT_FAIXA_moda",
         "rawType": "object",
         "type": "string"
        },
        {
         "name": "count",
         "rawType": "int64",
         "type": "integer"
        }
       ],
       "ref": "a3ae5788-bdbf-41e0-9e63-47f9bcbd158e",
       "rows": [
        [
         "Sem Informações de Faturamento",
         "5058"
        ],
        [
         "Faixa 00 - Ate 4,5 M",
         "1624"
        ],
        [
         "Faixa 02 - De 7,5 M ate 15 M",
         "734"
        ],
        [
         "Faixa 03 - De 15 M ate 25 M",
         "580"
        ],
        [
         "Faixa 01 - De 4,5 M ate 7,5 M",
         "520"
        ],
        [
         "Faixa 07 - De 75 M ate 150 M",
         "442"
        ],
        [
         "Faixa 04 - De 25 M ate 35 M",
         "365"
        ],
        [
         "Faixa 06 - De 50 M ate 75 M",
         "346"
        ],
        [
         "Faixa 05 - De 35 M ate 50 M",
         "311"
        ],
        [
         "Faixa 08 - De 150 M ate 300 M",
         "303"
        ],
        [
         "Faixa 09 - De 300 M ate 500 M",
         "141"
        ],
        [
         "Faixa 11 - Acima de 850 M",
         "115"
        ],
        [
         "Faixa 10 - De 500 M ate 850 M",
         "76"
        ]
       ],
       "shape": {
        "columns": 1,
        "rows": 13
       }
      },
      "text/plain": [
       "FAT_FAIXA_moda\n",
       "Sem Informações de Faturamento    5058\n",
       "Faixa 00 - Ate 4,5 M              1624\n",
       "Faixa 02 - De 7,5 M ate 15 M       734\n",
       "Faixa 03 - De 15 M ate 25 M        580\n",
       "Faixa 01 - De 4,5 M ate 7,5 M      520\n",
       "Faixa 07 - De 75 M ate 150 M       442\n",
       "Faixa 04 - De 25 M ate 35 M        365\n",
       "Faixa 06 - De 50 M ate 75 M        346\n",
       "Faixa 05 - De 35 M ate 50 M        311\n",
       "Faixa 08 - De 150 M ate 300 M      303\n",
       "Faixa 09 - De 300 M ate 500 M      141\n",
       "Faixa 11 - Acima de 850 M          115\n",
       "Faixa 10 - De 500 M ate 850 M       76\n",
       "Name: count, dtype: int64"
      ]
     },
     "execution_count": 29,
     "metadata": {},
     "output_type": "execute_result"
    }
   ],
   "source": [
    "df_agrupado['FAT_FAIXA_moda'].value_counts()"
   ]
  },
  {
   "cell_type": "code",
   "execution_count": 30,
   "id": "c3ffb978",
   "metadata": {},
   "outputs": [],
   "source": [
    "df_agrupado = df_agrupado.drop('FAT_FAIXA_moda', axis=1)"
   ]
  },
  {
   "cell_type": "code",
   "execution_count": 31,
   "id": "c0631de4",
   "metadata": {},
   "outputs": [
    {
     "data": {
      "image/png": "[encoded data removed]",
      "text/plain": [
       "<Figure size 1500x600 with 1 Axes>"
      ]
     },
     "metadata": {},
     "output_type": "display_data"
    }
   ],
   "source": [
    "# Boxplot dovalor total do contrato\n",
    "\n",
    "plt.figure(figsize=(15, 6))\n",
    "df_agrupado['VL_TOTAL_CONTRATO_soma'].plot.box(vert=False)\n",
    "plt.title(f\"Boxplot da coluna 'VL_TOTAL_CONTRATO_soma'\")\n",
    "plt.ylabel(\"Valores\")\n",
    "# Pega o eixo atual\n",
    "ax = plt.gca()\n",
    "# Formata os valores do eixo x como inteiros\n",
    "ax.xaxis.set_major_formatter(plt.FuncFormatter(lambda val, _: int(val)))\n",
    "plt.show()"
   ]
  },
  {
   "cell_type": "code",
   "execution_count": 32,
   "id": "f3514355",
   "metadata": {},
   "outputs": [
    {
     "data": {
      "image/png": "[encoded data removed]",
      "text/plain": [
       "<Figure size 1500x600 with 1 Axes>"
      ]
     },
     "metadata": {},
     "output_type": "display_data"
    }
   ],
   "source": [
    "# Plotar histograma do valor total do contrato\n",
    "\n",
    "\n",
    "plt.figure(figsize=(15, 6))\n",
    "plt.hist(df_agrupado['VL_TOTAL_CONTRATO_soma'], bins=50, color=\"skyblue\", edgecolor=\"black\")\n",
    "plt.xlabel('VL_TOTAL_CONTRATO_soma')\n",
    "plt.ylabel(\"Frequência\")\n",
    "plt.title(f\"Histograma da coluna 'VL_TOTAL_CONTRATO_soma'\")\n",
    "# Pega o eixo atual\n",
    "ax = plt.gca()\n",
    "# Formata os valores do eixo x como inteiros\n",
    "ax.xaxis.set_major_formatter(plt.FuncFormatter(lambda val, _: int(val)))\n",
    "plt.show()"
   ]
  },
  {
   "cell_type": "code",
   "execution_count": 33,
   "id": "2a7a93ab",
   "metadata": {},
   "outputs": [
    {
     "name": "stdout",
     "output_type": "stream",
     "text": [
      "Outliers inferiores: 0.00%\n",
      "Outliers superiores: 13.18%\n"
     ]
    }
   ],
   "source": [
    "# Percentual de outliers\n",
    "\n",
    "# Quartis\n",
    "Q1 = df_agrupado[\"VL_TOTAL_CONTRATO_soma\"].quantile(0.25)\n",
    "Q3 = df_agrupado[\"VL_TOTAL_CONTRATO_soma\"].quantile(0.75)\n",
    "IQR = Q3 - Q1\n",
    "\n",
    "# Limites\n",
    "limite_inferior = Q1 - 1.5 * IQR\n",
    "limite_superior = Q3 + 1.5 * IQR\n",
    "\n",
    "# Contar outliers\n",
    "outliers_inferiores = df_agrupado[df_agrupado[\"VL_TOTAL_CONTRATO_soma\"] < limite_inferior].shape[0]\n",
    "outliers_superiores = df_agrupado[df_agrupado[\"VL_TOTAL_CONTRATO_soma\"] > limite_superior].shape[0]\n",
    "total = df_agrupado.shape[0]\n",
    "\n",
    "# Percentual\n",
    "percent_inferiores = outliers_inferiores / total * 100\n",
    "percent_superiores = outliers_superiores / total * 100\n",
    "\n",
    "print(f\"Outliers inferiores: {percent_inferiores:.2f}%\")\n",
    "print(f\"Outliers superiores: {percent_superiores:.2f}%\")"
   ]
  },
  {
   "cell_type": "code",
   "execution_count": 34,
   "id": "85dc47bf",
   "metadata": {},
   "outputs": [
    {
     "data": {
      "image/png": "[encoded data removed]",
      "text/plain": [
       "<Figure size 1500x600 with 1 Axes>"
      ]
     },
     "metadata": {},
     "output_type": "display_data"
    }
   ],
   "source": [
    "# Histograma sem outliers\n",
    "\n",
    "plt.figure(figsize=(15, 6))\n",
    "plt.hist(df_agrupado['VL_TOTAL_CONTRATO_soma'], bins=50, color=\"skyblue\", edgecolor=\"black\", range=(0, limite_superior))\n",
    "plt.xlabel('VL_TOTAL_CONTRATO_soma')\n",
    "plt.ylabel(\"Frequência\")\n",
    "plt.title(f\"Histograma sem outliers da coluna 'VL_TOTAL_CONTRATO_soma'\")\n",
    "# Pega o eixo atual\n",
    "ax = plt.gca()\n",
    "# Formata os valores do eixo x como inteiros\n",
    "ax.xaxis.set_major_formatter(plt.FuncFormatter(lambda val, _: int(val)))\n",
    "plt.show()"
   ]
  },
  {
   "cell_type": "code",
   "execution_count": 35,
   "id": "b02cf39d",
   "metadata": {},
   "outputs": [
    {
     "data": {
      "image/png": "[encoded data removed]",
      "text/plain": [
       "<Figure size 1500x600 with 1 Axes>"
      ]
     },
     "metadata": {},
     "output_type": "display_data"
    }
   ],
   "source": [
    "# Histograma dos outliers\n",
    "\n",
    "max_valor = df_agrupado[\"VL_TOTAL_CONTRATO_soma\"].max()\n",
    "\n",
    "plt.figure(figsize=(15, 6))\n",
    "plt.hist(df_agrupado['VL_TOTAL_CONTRATO_soma'], bins=50, color=\"skyblue\", edgecolor=\"black\", range=(limite_superior, max_valor))\n",
    "plt.xlabel('VL_TOTAL_CONTRATO_soma')\n",
    "plt.ylabel(\"Frequência\")\n",
    "plt.title(f\"Histograma dos outliers da coluna 'VL_TOTAL_CONTRATO_soma'\")\n",
    "# Pega o eixo atual\n",
    "ax = plt.gca()\n",
    "# Formata os valores do eixo x como inteiros\n",
    "ax.xaxis.set_major_formatter(plt.FuncFormatter(lambda val, _: int(val)))\n",
    "plt.show()"
   ]
  },
  {
   "cell_type": "code",
   "execution_count": 36,
   "id": "cc6e5980",
   "metadata": {},
   "outputs": [
    {
     "data": {
      "image/png": "[encoded data removed]",
      "text/plain": [
       "<Figure size 1500x600 with 1 Axes>"
      ]
     },
     "metadata": {},
     "output_type": "display_data"
    }
   ],
   "source": [
    "# Boxplot dos outliers\n",
    "\n",
    "plt.figure(figsize=(15, 6))\n",
    "df_agrupado['VL_TOTAL_CONTRATO_soma'].clip(limite_superior, max_valor).plot.box(vert=False)\n",
    "plt.title(f\"Boxplot dos outliers da coluna 'VL_TOTAL_CONTRATO_soma'\")\n",
    "plt.ylabel(\"Valores\")\n",
    "# Pega o eixo atual\n",
    "ax = plt.gca()\n",
    "# Formata os valores do eixo x como inteiros\n",
    "ax.xaxis.set_major_formatter(plt.FuncFormatter(lambda val, _: int(val)))\n",
    "plt.show()"
   ]
  },
  {
   "cell_type": "code",
   "execution_count": 37,
   "id": "6f95c55c",
   "metadata": {},
   "outputs": [],
   "source": [
    "# Dividindo os valores de contrato em faixas\n",
    "\n",
    "# Definir o tamanho da faixa (1 milhão)\n",
    "tamanho_faixa = 500_000\n",
    "\n",
    "# Determinar valor máximo da coluna\n",
    "max_valor = df_agrupado[\"VL_TOTAL_CONTRATO_soma\"].max()\n",
    "\n",
    "# Criar limites automaticamente: de 0 até o próximo milhão acima do máximo\n",
    "limites = np.arange(0, max_valor + tamanho_faixa, tamanho_faixa)\n",
    "\n",
    "# Criar rótulos das faixas\n",
    "labels = [f\"{int(l/500_000)*0.5}-{int(limites[i+1]/500_000)*0.5}M\" for i, l in enumerate(limites[:-1])]\n",
    "\n",
    "# Criar a coluna com as faixas\n",
    "df_agrupado[\"faixa_vl_total_soma_contratos\"] = pd.cut(df_agrupado[\"VL_TOTAL_CONTRATO_soma\"], bins=limites, labels=labels, include_lowest=True)"
   ]
  },
  {
   "cell_type": "code",
   "execution_count": 38,
   "id": "1ef131cf",
   "metadata": {},
   "outputs": [
    {
     "name": "stderr",
     "output_type": "stream",
     "text": [
      "C:\\Users\\gxmar\\AppData\\Local\\Temp\\ipykernel_10936\\1670929586.py:3: FutureWarning: The default of observed=False is deprecated and will be changed to True in a future version of pandas. Pass observed=False to retain current behavior or observed=True to adopt the future default and silence this warning.\n",
      "  df_faixas_contrato = df_agrupado.groupby('faixa_vl_total_soma_contratos').agg({'CD_CLIENTE': 'count'})\n"
     ]
    },
    {
     "data": {
      "application/vnd.microsoft.datawrangler.viewer.v0+json": {
       "columns": [
        {
         "name": "faixa_vl_total_soma_contratos",
         "rawType": "category",
         "type": "unknown"
        },
        {
         "name": "CD_CLIENTE",
         "rawType": "int64",
         "type": "integer"
        },
        {
         "name": "percentual",
         "rawType": "float64",
         "type": "float"
        }
       ],
       "ref": "55ba370b-a979-49fb-b4ff-4317a842b437",
       "rows": [
        [
         "0.0-0.5M",
         "10440",
         "98.35138954309939"
        ],
        [
         "0.5-1.0M",
         "98",
         "0.9232218558643429"
        ],
        [
         "1.0-1.5M",
         "26",
         "0.24493641073951955"
        ],
        [
         "1.5-2.0M",
         "18",
         "0.16957136128120584"
        ],
        [
         "2.0-2.5M",
         "6",
         "0.05652378709373528"
        ],
        [
         "2.5-3.0M",
         "2",
         "0.018841262364578427"
        ],
        [
         "3.0-3.5M",
         "5",
         "0.047103155911446065"
        ],
        [
         "3.5-4.0M",
         "1",
         "0.009420631182289214"
        ],
        [
         "4.0-4.5M",
         "3",
         "0.02826189354686764"
        ],
        [
         "4.5-5.0M",
         "3",
         "0.02826189354686764"
        ],
        [
         "5.0-5.5M",
         "1",
         "0.009420631182289214"
        ],
        [
         "5.5-6.0M",
         "2",
         "0.018841262364578427"
        ],
        [
         "6.0-6.5M",
         "0",
         "0.0"
        ],
        [
         "6.5-7.0M",
         "1",
         "0.009420631182289214"
        ],
        [
         "7.0-7.5M",
         "1",
         "0.009420631182289214"
        ],
        [
         "7.5-8.0M",
         "1",
         "0.009420631182289214"
        ],
        [
         "8.0-8.5M",
         "0",
         "0.0"
        ],
        [
         "8.5-9.0M",
         "0",
         "0.0"
        ],
        [
         "9.0-9.5M",
         "0",
         "0.0"
        ],
        [
         "9.5-10.0M",
         "1",
         "0.009420631182289214"
        ],
        [
         "10.0-10.5M",
         "0",
         "0.0"
        ],
        [
         "10.5-11.0M",
         "0",
         "0.0"
        ],
        [
         "11.0-11.5M",
         "0",
         "0.0"
        ],
        [
         "11.5-12.0M",
         "0",
         "0.0"
        ],
        [
         "12.0-12.5M",
         "1",
         "0.009420631182289214"
        ],
        [
         "12.5-13.0M",
         "0",
         "0.0"
        ],
        [
         "13.0-13.5M",
         "0",
         "0.0"
        ],
        [
         "13.5-14.0M",
         "0",
         "0.0"
        ],
        [
         "14.0-14.5M",
         "0",
         "0.0"
        ],
        [
         "14.5-15.0M",
         "0",
         "0.0"
        ],
        [
         "15.0-15.5M",
         "0",
         "0.0"
        ],
        [
         "15.5-16.0M",
         "0",
         "0.0"
        ],
        [
         "16.0-16.5M",
         "0",
         "0.0"
        ],
        [
         "16.5-17.0M",
         "0",
         "0.0"
        ],
        [
         "17.0-17.5M",
         "0",
         "0.0"
        ],
        [
         "17.5-18.0M",
         "0",
         "0.0"
        ],
        [
         "18.0-18.5M",
         "0",
         "0.0"
        ],
        [
         "18.5-19.0M",
         "0",
         "0.0"
        ],
        [
         "19.0-19.5M",
         "0",
         "0.0"
        ],
        [
         "19.5-20.0M",
         "0",
         "0.0"
        ],
        [
         "20.0-20.5M",
         "0",
         "0.0"
        ],
        [
         "20.5-21.0M",
         "0",
         "0.0"
        ],
        [
         "21.0-21.5M",
         "0",
         "0.0"
        ],
        [
         "21.5-22.0M",
         "0",
         "0.0"
        ],
        [
         "22.0-22.5M",
         "1",
         "0.009420631182289214"
        ],
        [
         "22.5-23.0M",
         "0",
         "0.0"
        ],
        [
         "23.0-23.5M",
         "0",
         "0.0"
        ],
        [
         "23.5-24.0M",
         "0",
         "0.0"
        ],
        [
         "24.0-24.5M",
         "0",
         "0.0"
        ],
        [
         "24.5-25.0M",
         "1",
         "0.009420631182289214"
        ]
       ],
       "shape": {
        "columns": 2,
        "rows": 81
       }
      },
      "text/html": [
       "<div>\n",
       "<style scoped>\n",
       "    .dataframe tbody tr th:only-of-type {\n",
       "        vertical-align: middle;\n",
       "    }\n",
       "\n",
       "    .dataframe tbody tr th {\n",
       "        vertical-align: top;\n",
       "    }\n",
       "\n",
       "    .dataframe thead th {\n",
       "        text-align: right;\n",
       "    }\n",
       "</style>\n",
       "<table border=\"1\" class=\"dataframe\">\n",
       "  <thead>\n",
       "    <tr style=\"text-align: right;\">\n",
       "      <th></th>\n",
       "      <th>CD_CLIENTE</th>\n",
       "      <th>percentual</th>\n",
       "    </tr>\n",
       "    <tr>\n",
       "      <th>faixa_vl_total_soma_contratos</th>\n",
       "      <th></th>\n",
       "      <th></th>\n",
       "    </tr>\n",
       "  </thead>\n",
       "  <tbody>\n",
       "    <tr>\n",
       "      <th>0.0-0.5M</th>\n",
       "      <td>10440</td>\n",
       "      <td>98.351390</td>\n",
       "    </tr>\n",
       "    <tr>\n",
       "      <th>0.5-1.0M</th>\n",
       "      <td>98</td>\n",
       "      <td>0.923222</td>\n",
       "    </tr>\n",
       "    <tr>\n",
       "      <th>1.0-1.5M</th>\n",
       "      <td>26</td>\n",
       "      <td>0.244936</td>\n",
       "    </tr>\n",
       "    <tr>\n",
       "      <th>1.5-2.0M</th>\n",
       "      <td>18</td>\n",
       "      <td>0.169571</td>\n",
       "    </tr>\n",
       "    <tr>\n",
       "      <th>2.0-2.5M</th>\n",
       "      <td>6</td>\n",
       "      <td>0.056524</td>\n",
       "    </tr>\n",
       "    <tr>\n",
       "      <th>...</th>\n",
       "      <td>...</td>\n",
       "      <td>...</td>\n",
       "    </tr>\n",
       "    <tr>\n",
       "      <th>38.0-38.5M</th>\n",
       "      <td>0</td>\n",
       "      <td>0.000000</td>\n",
       "    </tr>\n",
       "    <tr>\n",
       "      <th>38.5-39.0M</th>\n",
       "      <td>0</td>\n",
       "      <td>0.000000</td>\n",
       "    </tr>\n",
       "    <tr>\n",
       "      <th>39.0-39.5M</th>\n",
       "      <td>0</td>\n",
       "      <td>0.000000</td>\n",
       "    </tr>\n",
       "    <tr>\n",
       "      <th>39.5-40.0M</th>\n",
       "      <td>0</td>\n",
       "      <td>0.000000</td>\n",
       "    </tr>\n",
       "    <tr>\n",
       "      <th>40.0-40.5M</th>\n",
       "      <td>1</td>\n",
       "      <td>0.009421</td>\n",
       "    </tr>\n",
       "  </tbody>\n",
       "</table>\n",
       "<p>81 rows × 2 columns</p>\n",
       "</div>"
      ],
      "text/plain": [
       "                               CD_CLIENTE  percentual\n",
       "faixa_vl_total_soma_contratos                        \n",
       "0.0-0.5M                            10440   98.351390\n",
       "0.5-1.0M                               98    0.923222\n",
       "1.0-1.5M                               26    0.244936\n",
       "1.5-2.0M                               18    0.169571\n",
       "2.0-2.5M                                6    0.056524\n",
       "...                                   ...         ...\n",
       "38.0-38.5M                              0    0.000000\n",
       "38.5-39.0M                              0    0.000000\n",
       "39.0-39.5M                              0    0.000000\n",
       "39.5-40.0M                              0    0.000000\n",
       "40.0-40.5M                              1    0.009421\n",
       "\n",
       "[81 rows x 2 columns]"
      ]
     },
     "execution_count": 38,
     "metadata": {},
     "output_type": "execute_result"
    }
   ],
   "source": [
    "# Exibindo o número de clientes por faixa\n",
    "\n",
    "df_faixas_contrato = df_agrupado.groupby('faixa_vl_total_soma_contratos').agg({'CD_CLIENTE': 'count'})\n",
    "\n",
    "df_faixas_contrato['percentual'] = df_faixas_contrato['CD_CLIENTE']/len(df_agrupado)*100\n",
    "\n",
    "df_faixas_contrato"
   ]
  },
  {
   "cell_type": "code",
   "execution_count": 39,
   "id": "34bfb292",
   "metadata": {},
   "outputs": [],
   "source": [
    "import re\n",
    "\n",
    "# Extrai o valor entre \"-\" e \"M\", converte para float\n",
    "df_agrupado['faixa_vl_total_soma_contratos'] = (\n",
    "    df_agrupado['faixa_vl_total_soma_contratos']\n",
    "    .astype(str)\n",
    "    .str.extract(r'-(\\d+\\.?\\d*)M')[0]\n",
    "    .astype(float)\n",
    ")"
   ]
  },
  {
   "cell_type": "code",
   "execution_count": 40,
   "id": "3c7c3713",
   "metadata": {},
   "outputs": [
    {
     "data": {
      "application/vnd.microsoft.datawrangler.viewer.v0+json": {
       "columns": [
        {
         "name": "index",
         "rawType": "object",
         "type": "string"
        },
        {
         "name": "0",
         "rawType": "float64",
         "type": "float"
        }
       ],
       "ref": "35270cfb-e457-4049-b5bf-5ce27e1e8031",
       "rows": [
        [
         "CD_CLIENTE",
         "0.0"
        ],
        [
         "DS_PROD_moda",
         "0.0"
        ],
        [
         "DS_LIN_REC_moda",
         "0.0"
        ],
        [
         "CIDADE_moda",
         "0.0"
        ],
        [
         "DS_CNAE_moda",
         "0.0"
        ],
        [
         "DS_SEGMENTO_moda",
         "0.0"
        ],
        [
         "DS_SUBSEGMENTO_moda",
         "0.0"
        ],
        [
         "MARCA_TOTVS_moda",
         "0.0"
        ],
        [
         "MODAL_COMERC_moda",
         "0.0"
        ],
        [
         "PAIS_moda",
         "0.0"
        ],
        [
         "PERIODICIDADE_moda",
         "0.0"
        ],
        [
         "UF_moda",
         "0.0"
        ],
        [
         "VL_TOTAL_CONTRATO_soma",
         "0.0"
        ],
        [
         "faixa_vl_total_soma_contratos",
         "0.0"
        ]
       ],
       "shape": {
        "columns": 1,
        "rows": 14
       }
      },
      "text/plain": [
       "CD_CLIENTE                       0.0\n",
       "DS_PROD_moda                     0.0\n",
       "DS_LIN_REC_moda                  0.0\n",
       "CIDADE_moda                      0.0\n",
       "DS_CNAE_moda                     0.0\n",
       "DS_SEGMENTO_moda                 0.0\n",
       "DS_SUBSEGMENTO_moda              0.0\n",
       "MARCA_TOTVS_moda                 0.0\n",
       "MODAL_COMERC_moda                0.0\n",
       "PAIS_moda                        0.0\n",
       "PERIODICIDADE_moda               0.0\n",
       "UF_moda                          0.0\n",
       "VL_TOTAL_CONTRATO_soma           0.0\n",
       "faixa_vl_total_soma_contratos    0.0\n",
       "dtype: float64"
      ]
     },
     "execution_count": 40,
     "metadata": {},
     "output_type": "execute_result"
    }
   ],
   "source": [
    "percentual_nulos = df_agrupado.isnull().mean() * 100\n",
    "percentual_nulos"
   ]
  },
  {
   "cell_type": "code",
   "execution_count": 41,
   "id": "ab8f599d",
   "metadata": {},
   "outputs": [],
   "source": [
    "# Criando df para controle\n",
    "\n",
    "df_agrupado_2 = df_agrupado.copy()\n",
    "df_agrupado_3 = df_agrupado.copy()"
   ]
  },
  {
   "cell_type": "code",
   "execution_count": 42,
   "id": "04937cf8",
   "metadata": {},
   "outputs": [],
   "source": [
    "# Frequency encoding das colunas categóricas\n",
    "\n",
    "# Convertendo codigo do pais para string\n",
    "df_agrupado['PAIS_moda'] = df_agrupado['PAIS_moda'].astype(str)\n",
    "\n",
    "# Definindo as colunas categóricas\n",
    "colunas_categoricas = df_agrupado.select_dtypes(include=['object']).columns.tolist()\n",
    "\n",
    "# Dropando a coluna de cliente id\n",
    "colunas_categoricas.remove('CD_CLIENTE')\n",
    "\n",
    "for coluna in colunas_categoricas:\n",
    "    # Contar frequência\n",
    "    freq = df_agrupado[coluna].value_counts() / len(df_agrupado)\n",
    "\n",
    "    # Mapear frequência de volta para a coluna\n",
    "    df_agrupado[coluna] = df_agrupado[coluna].map(freq)"
   ]
  },
  {
   "cell_type": "code",
   "execution_count": 43,
   "id": "7633f24c",
   "metadata": {},
   "outputs": [],
   "source": [
    "# Normalizando a coluna faixa_vl_total_soma_contratos e a coluna do valor total dos contratos\n",
    "scaler = MinMaxScaler()\n",
    "df_agrupado[['faixa_vl_total_soma_contratos']] = scaler.fit_transform(df_agrupado[['faixa_vl_total_soma_contratos']])\n",
    "df_agrupado[['VL_TOTAL_CONTRATO_soma']] = scaler.fit_transform(df_agrupado[['VL_TOTAL_CONTRATO_soma']])"
   ]
  },
  {
   "cell_type": "code",
   "execution_count": 157,
   "id": "a609a64a",
   "metadata": {},
   "outputs": [],
   "source": [
    "# Criando df para controle\n",
    "\n",
    "df_agrupado_4 = df_agrupado.copy()"
   ]
  },
  {
   "cell_type": "markdown",
   "id": "b14dab31",
   "metadata": {},
   "source": [
    "# Avaliando o Número Inicial de K para Kmeans"
   ]
  },
  {
   "cell_type": "code",
   "execution_count": 158,
   "id": "4c8e6a95",
   "metadata": {},
   "outputs": [],
   "source": [
    "# Função para exibir as diferentes avaliações para o número de clusters\n",
    "\n",
    "def define_numero_clusters(x):\n",
    "    # Elbow method\n",
    "    model = KMeans()\n",
    "    visualizer = KElbowVisualizer(model, k=(1,30))\n",
    "    visualizer.fit(x)\n",
    "    visualizer.show()\n",
    "\n",
    "    # Silhouette method\n",
    "    model = KMeans()\n",
    "    visualizer = KElbowVisualizer(model, k=(2,30), metric='silhouette', timings=True)\n",
    "    visualizer.fit(x)\n",
    "    visualizer.show()\n",
    "\n",
    "    # Calinski harabaz method\n",
    "    model = KMeans()\n",
    "    visualizer = KElbowVisualizer(model, k=(2,30), metric='calinski_harabasz', timings=True)\n",
    "    visualizer.fit(x)\n",
    "    visualizer.show()"
   ]
  },
  {
   "cell_type": "code",
   "execution_count": 159,
   "id": "1e3cfbe6",
   "metadata": {},
   "outputs": [],
   "source": [
    "# Definindo k\n",
    "\n",
    "features = df_agrupado.columns.tolist()\n",
    "features.remove('CD_CLIENTE')\n",
    "\n",
    "x = df_agrupado[features].values\n",
    "\n",
    "#define_numero_clusters(x)"
   ]
  },
  {
   "cell_type": "markdown",
   "id": "67c9e99a",
   "metadata": {},
   "source": [
    "# Pipeline de Clusterização com Kmeans"
   ]
  },
  {
   "cell_type": "code",
   "execution_count": 171,
   "id": "90cb06eb",
   "metadata": {},
   "outputs": [],
   "source": [
    "# Redefinindo DFs (para rodar novamente os clusters se rodar todo o notebook)\n",
    "\n",
    "df_agrupado_2 = df_agrupado_3.copy()\n",
    "df_agrupado = df_agrupado_4.copy()"
   ]
  },
  {
   "cell_type": "code",
   "execution_count": 172,
   "id": "fae0ef94",
   "metadata": {},
   "outputs": [],
   "source": [
    "# Função para clusterazação com kmeans\n",
    "\n",
    "def clusterização_kmeans(k, init, n_init, max_iter=100):\n",
    "    kmeans = KMeans(n_clusters=k, init=init, n_init=n_init, max_iter=max_iter, random_state=42)\n",
    "    kmeans.fit(x)\n",
    "    labels = kmeans.labels_\n",
    "    cluster_pred = kmeans.predict(x)\n",
    "    cluster_centres = kmeans.cluster_centers_\n",
    "\n",
    "    return kmeans, labels, cluster_pred, cluster_centres"
   ]
  },
  {
   "cell_type": "code",
   "execution_count": 173,
   "id": "10812d9f",
   "metadata": {},
   "outputs": [],
   "source": [
    "# Função para avaliadção da clusterização\n",
    "\n",
    "def avaliacao_clusterizacao(labels):\n",
    "    # Scores\n",
    "    score = silhouette_score(x, labels)\n",
    "    db_index = davies_bouldin_score(x, labels)\n",
    "    ch_index = calinski_harabasz_score(x, labels)\n",
    "\n",
    "    return score, db_index, ch_index\n"
   ]
  },
  {
   "cell_type": "code",
   "execution_count": 174,
   "id": "a5c6ef29",
   "metadata": {},
   "outputs": [],
   "source": [
    "# Função para alimentar dataframe da avaliação da clusterização\n",
    "\n",
    "def alimenta_df_avaliacao_clusterizacao(df_avaliacao, k, init, n_init, score, db_index, ch_index):\n",
    "    df_avaliacao.loc[len(df_avaliacao)] = [k, init, n_init, score, db_index, ch_index]"
   ]
  },
  {
   "cell_type": "code",
   "execution_count": 175,
   "id": "e72eb240",
   "metadata": {},
   "outputs": [],
   "source": [
    "# Função para visualização dos clusters\n",
    "\n",
    "def visualiza_clusters(x, labels):\n",
    "    #PCA\n",
    "    pca = PCA(n_components=2)\n",
    "    X_pca = pca.fit_transform(x)\n",
    "    plt.scatter(X_pca[:,0], X_pca[:,1], c=labels, cmap='Set2', s=50)\n",
    "    plt.xlabel(\"PC1\")\n",
    "    plt.ylabel(\"PC2\")\n",
    "    plt.title(\"Clusters (PCA)\")\n",
    "    plt.show()\n",
    "\n",
    "    # TSNE\n",
    "    tsne = TSNE(n_components=2, random_state=42)\n",
    "    X_tsne = tsne.fit_transform(x)\n",
    "    plt.scatter(X_tsne[:,0], X_tsne[:,1], c=labels, cmap='Set2', s=50)\n",
    "    plt.title(\"Clusters (t-SNE)\")\n",
    "    plt.show()"
   ]
  },
  {
   "cell_type": "code",
   "execution_count": 176,
   "id": "d8ffbc6b",
   "metadata": {},
   "outputs": [],
   "source": [
    "# Função para visualização da distribuiçlão dos valores de cada coluna por cluster\n",
    "\n",
    "def visualiza_colunas_por_cluster(df, k):\n",
    "    colunas_graficos = ['DS_LIN_REC_moda', 'DS_SEGMENTO_moda', 'UF_moda', 'faixa_vl_total_soma_contratos']\n",
    "\n",
    "    fig, axes = plt.subplots(2, 2, figsize=(15, 10))  # grid 2x2\n",
    "    axes = axes.flatten()  # transforma os eixos em array 1D para iterar facilmente\n",
    "\n",
    "    for i, coluna in enumerate(colunas_graficos):\n",
    "        contagem = pd.crosstab(df[coluna], df[f\"cluster_{k}\"])\n",
    "        contagem.plot(kind=\"bar\", stacked=True, colormap=\"Set2\", ax=axes[i])\n",
    "\n",
    "        axes[i].set_xlabel(coluna)\n",
    "        axes[i].set_ylabel(\"Contagem\")\n",
    "        axes[i].set_title(f\"Contagem de {coluna} por cluster para k={k}\")\n",
    "        axes[i].legend(title=\"Cluster\")\n",
    "\n",
    "    plt.tight_layout()  # ajusta espaçamento entre os gráficos\n",
    "    plt.show()"
   ]
  },
  {
   "cell_type": "code",
   "execution_count": 177,
   "id": "3d80254d",
   "metadata": {},
   "outputs": [],
   "source": [
    "# Função para exibir a contagem do número de clientes e valor total dos contratos\n",
    "\n",
    "def mostra_contagem_clientes_casos(df, k):\n",
    "    df_contagem_clientes_casos = df.groupby(f'cluster_{k}').agg({\n",
    "        'CD_CLIENTE': 'count',\n",
    "        'VL_TOTAL_CONTRATO_soma': ['sum', 'mean']\n",
    "    }).reset_index()\n",
    "    df_contagem_clientes_casos.columns = [f'cluster_{k}', 'numero_clientes', 'valor_total_contratos', 'media_total_contratos']\n",
    "    with pd.option_context('display.float_format', '{:.2f}'.format):\n",
    "        print(df_contagem_clientes_casos)"
   ]
  },
  {
   "cell_type": "code",
   "execution_count": 178,
   "id": "1f3c6e90",
   "metadata": {},
   "outputs": [],
   "source": [
    "# Definindo limite de k e parametros para teste\n",
    "\n",
    "k_max = 5\n",
    "valores_k = list(range(3, (k_max+1)))\n",
    "lista_init = ['k-means++', 'random']\n",
    "lista_n_init = [10, 20]"
   ]
  },
  {
   "cell_type": "code",
   "execution_count": null,
   "id": "3dd423a6",
   "metadata": {},
   "outputs": [
    {
     "name": "stdout",
     "output_type": "stream",
     "text": [
      "\n",
      "Clusterização com k=3:\n",
      "\n",
      "Clusterização com k=3, init=k-means++, n_init=10\n",
      "Clusterização com k=3, init=k-means++, n_init=20\n",
      "Clusterização com k=3, init=random, n_init=10\n",
      "Clusterização com k=3, init=random, n_init=20\n",
      "\n",
      "Número de clientes e valor total dos contratos por cluster para k=3:\n",
      "\n",
      "   cluster_3  numero_clientes  valor_total_contratos  media_total_contratos\n",
      "0          0             4027           311434069.14               77336.50\n",
      "1          1             2732           125516951.74               45943.25\n",
      "2          2             3856           307497275.56               79745.14\n",
      "\n",
      "Gráficos de distribuição para k=3:\n",
      "\n"
     ]
    },
    {
     "data": {
      "image/png": "[encoded data removed]",
      "text/plain": [
       "<Figure size 1500x1000 with 4 Axes>"
      ]
     },
     "metadata": {},
     "output_type": "display_data"
    },
    {
     "name": "stdout",
     "output_type": "stream",
     "text": [
      "\n",
      "Clusterização com k=4:\n",
      "\n",
      "Clusterização com k=4, init=k-means++, n_init=10\n",
      "Clusterização com k=4, init=k-means++, n_init=20\n",
      "Clusterização com k=4, init=random, n_init=10\n",
      "Clusterização com k=4, init=random, n_init=20\n",
      "\n",
      "Número de clientes e valor total dos contratos por cluster para k=4:\n",
      "\n",
      "   cluster_4  numero_clientes  valor_total_contratos  media_total_contratos\n",
      "0          0             1542           105444739.32               68381.80\n",
      "1          1             4027           311434069.14               77336.50\n",
      "2          2             2732           125516951.74               45943.25\n",
      "3          3             2314           202052536.24               87317.43\n",
      "\n",
      "Gráficos de distribuição para k=4:\n",
      "\n"
     ]
    },
    {
     "data": {
      "image/png": "[encoded data removed]",
      "text/plain": [
       "<Figure size 1500x1000 with 4 Axes>"
      ]
     },
     "metadata": {},
     "output_type": "display_data"
    },
    {
     "name": "stdout",
     "output_type": "stream",
     "text": [
      "\n",
      "Clusterização com k=5:\n",
      "\n",
      "Clusterização com k=5, init=k-means++, n_init=10\n",
      "Clusterização com k=5, init=k-means++, n_init=20\n",
      "Clusterização com k=5, init=random, n_init=10\n",
      "Clusterização com k=5, init=random, n_init=20\n",
      "\n",
      "Número de clientes e valor total dos contratos por cluster para k=5:\n",
      "\n",
      "   cluster_5  numero_clientes  valor_total_contratos  media_total_contratos\n",
      "0          0             2314           202052536.24               87317.43\n",
      "1          1             2722           274995246.86              101026.91\n",
      "2          2             2163            68407289.67               31626.12\n",
      "3          3             1542           105444739.32               68381.80\n",
      "4          4             1874            93548484.36               49919.15\n",
      "\n",
      "Gráficos de distribuição para k=5:\n",
      "\n"
     ]
    },
    {
     "data": {
      "image/png": "[encoded data removed]",
      "text/plain": [
       "<Figure size 1500x1000 with 4 Axes>"
      ]
     },
     "metadata": {},
     "output_type": "display_data"
    },
    {
     "name": "stdout",
     "output_type": "stream",
     "text": [
      "\n",
      "Comparação final entre os indicadores de cada clusterização:\n",
      "\n",
      "\n",
      "Melhor k: 4 com base no silhouette score (0.3132).\n",
      "\n",
      "    clusters       init  n_init  silhouette_score  davies_bouldin_score  \\\n",
      "0          3  k-means++      10          0.294702              1.360989   \n",
      "1          3  k-means++      20          0.294702              1.360989   \n",
      "2          3     random      10          0.294702              1.360989   \n",
      "3          3     random      20          0.294702              1.360989   \n",
      "4          4  k-means++      10          0.313160              1.431931   \n",
      "5          4  k-means++      20          0.313160              1.431931   \n",
      "6          4     random      10          0.313160              1.431931   \n",
      "7          4     random      20          0.313160              1.431931   \n",
      "8          5  k-means++      10          0.313113              1.360420   \n",
      "9          5  k-means++      20          0.304763              1.226283   \n",
      "10         5     random      10          0.313113              1.360420   \n",
      "11         5     random      20          0.313113              1.360420   \n",
      "\n",
      "    calinski_harabasz_score  \n",
      "0               3603.060285  \n",
      "1               3603.060285  \n",
      "2               3603.060285  \n",
      "3               3603.060285  \n",
      "4               3247.832104  \n",
      "5               3247.832104  \n",
      "6               3247.832104  \n",
      "7               3247.832104  \n",
      "8               3011.751925  \n",
      "9               3079.270464  \n",
      "10              3011.751925  \n",
      "11              3011.751925  \n"
     ]
    }
   ],
   "source": [
    "# Pipeline de clusterização com diversos valores de k\n",
    "\n",
    "# Lista com os nomes das colunas de avaliação\n",
    "colunas_avaliacao = [\"clusters\", \"init\", \"n_init\", \"silhouette_score\", \"davies_bouldin_score\", \"calinski_harabasz_score\"]\n",
    "\n",
    "# Cria um DataFrame vazio para avaliação\n",
    "df_avaliacao = pd.DataFrame(columns=colunas_avaliacao)\n",
    "\n",
    "best_score_overall = 0\n",
    "best_k_overall = 0\n",
    "\n",
    "for k in valores_k:\n",
    "    best_score = 0\n",
    "    best_labels = None\n",
    "    print(f\"\\nClusterização com k={k}:\\n\")\n",
    "    for init in lista_init:\n",
    "        for n_init in lista_n_init:\n",
    "            # Clusterização\n",
    "            print(f\"Clusterização com k={k}, init={init}, n_init={n_init}\")\n",
    "            kmeans, labels, cluster_pred, cluster_centres = clusterização_kmeans(k, init, n_init)\n",
    "\n",
    "            # Alimentando o df de avaliação geral dos clusters\n",
    "            score, db_index, ch_index = avaliacao_clusterizacao(labels)\n",
    "            alimenta_df_avaliacao_clusterizacao(df_avaliacao, k, init, n_init, score, db_index, ch_index)\n",
    "\n",
    "           # Usando o sihlouette score para atribuir o melhor modelo dentro de cada k\n",
    "            if best_score == 0:\n",
    "                best_score = score\n",
    "                best_labels = labels\n",
    "            elif score > best_score:\n",
    "                best_score = score\n",
    "                best_labels = labels\n",
    "\n",
    "    #print(f\"\\nVisualização da clusterização com {k} clusters:\\n\")\n",
    "    #visualiza_clusters(x, labels, k)\n",
    "\n",
    "    # Alimentando os dfs originais com os clusters \n",
    "    df_agrupado[f\"cluster_{k}\"] = best_labels # df para alimentar o modelo\n",
    "    df_agrupado_2[f\"cluster_{k}\"] = best_labels # df_para visualização das métricas\n",
    "\n",
    "    # Exibição no número de clientes e casos por cluster\n",
    "    print(f\"\\nNúmero de clientes e valor total dos contratos por cluster para k={k}:\\n\")\n",
    "    mostra_contagem_clientes_casos(df_agrupado_2, k)\n",
    "\n",
    "    # Gerando os gráficos de distribuiução dos valores de cada coluna por cluster\n",
    "    print(f\"\\nGráficos de distribuição para k={k}:\\n\")\n",
    "    visualiza_colunas_por_cluster(df_agrupado_2, k)\n",
    "\n",
    "    if best_score > best_score_overall:\n",
    "        best_score_overall = best_score\n",
    "        best_k_overall = k\n",
    "\n",
    "# Exibindo df com a avaliação da clusterização\n",
    "print(\"\\nComparação final entre os indicadores de cada clusterização:\\n\")\n",
    "print(f\"\\nMelhor k: {best_k_overall} com base no silhouette score ({best_score_overall:.4f}).\\n\")\n",
    "print(df_avaliacao)"
   ]
  },
  {
   "cell_type": "markdown",
   "id": "e67b5c8b",
   "metadata": {},
   "source": [
    "silhouette_score: quanto maior, melhor\n",
    "\n",
    "davies_bouldin_score : quanto menor, melhor\n",
    "\n",
    "calinski_harabasz_score: quanto maior, melhor"
   ]
  },
  {
   "cell_type": "code",
   "execution_count": 180,
   "id": "a59ac4d8",
   "metadata": {},
   "outputs": [
    {
     "data": {
      "application/vnd.microsoft.datawrangler.viewer.v0+json": {
       "columns": [
        {
         "name": "index",
         "rawType": "int64",
         "type": "integer"
        },
        {
         "name": "clusters",
         "rawType": "int64",
         "type": "integer"
        },
        {
         "name": "init",
         "rawType": "object",
         "type": "string"
        },
        {
         "name": "n_init",
         "rawType": "int64",
         "type": "integer"
        },
        {
         "name": "silhouette_score",
         "rawType": "float64",
         "type": "float"
        },
        {
         "name": "davies_bouldin_score",
         "rawType": "float64",
         "type": "float"
        },
        {
         "name": "calinski_harabasz_score",
         "rawType": "float64",
         "type": "float"
        }
       ],
       "ref": "d2368143-f09d-4112-8d7e-9c6b8f02ec4f",
       "rows": [
        [
         "0",
         "3",
         "k-means++",
         "10",
         "0.2947020985705158",
         "1.3609893052755009",
         "3603.0602846882366"
        ],
        [
         "1",
         "3",
         "k-means++",
         "20",
         "0.2947020985705158",
         "1.3609893052755009",
         "3603.0602846882366"
        ],
        [
         "2",
         "3",
         "random",
         "10",
         "0.2947020985705158",
         "1.3609893052755009",
         "3603.0602846882366"
        ],
        [
         "3",
         "3",
         "random",
         "20",
         "0.2947020985705158",
         "1.3609893052755009",
         "3603.0602846882366"
        ],
        [
         "4",
         "4",
         "k-means++",
         "10",
         "0.3131604645786307",
         "1.431930538692675",
         "3247.8321036000852"
        ],
        [
         "5",
         "4",
         "k-means++",
         "20",
         "0.3131604645786307",
         "1.431930538692675",
         "3247.8321036000852"
        ],
        [
         "6",
         "4",
         "random",
         "10",
         "0.3131604645786307",
         "1.431930538692675",
         "3247.8321036000852"
        ],
        [
         "7",
         "4",
         "random",
         "20",
         "0.3131604645786307",
         "1.431930538692675",
         "3247.8321036000852"
        ],
        [
         "8",
         "5",
         "k-means++",
         "10",
         "0.3131133589661582",
         "1.3604204066615677",
         "3011.7519248086855"
        ],
        [
         "9",
         "5",
         "k-means++",
         "20",
         "0.3047631746211523",
         "1.2262826981785193",
         "3079.270464177254"
        ],
        [
         "10",
         "5",
         "random",
         "10",
         "0.3131133589661582",
         "1.3604204066615677",
         "3011.7519248086855"
        ],
        [
         "11",
         "5",
         "random",
         "20",
         "0.3131133589661582",
         "1.3604204066615677",
         "3011.7519248086855"
        ]
       ],
       "shape": {
        "columns": 6,
        "rows": 12
       }
      },
      "text/html": [
       "<div>\n",
       "<style scoped>\n",
       "    .dataframe tbody tr th:only-of-type {\n",
       "        vertical-align: middle;\n",
       "    }\n",
       "\n",
       "    .dataframe tbody tr th {\n",
       "        vertical-align: top;\n",
       "    }\n",
       "\n",
       "    .dataframe thead th {\n",
       "        text-align: right;\n",
       "    }\n",
       "</style>\n",
       "<table border=\"1\" class=\"dataframe\">\n",
       "  <thead>\n",
       "    <tr style=\"text-align: right;\">\n",
       "      <th></th>\n",
       "      <th>clusters</th>\n",
       "      <th>init</th>\n",
       "      <th>n_init</th>\n",
       "      <th>silhouette_score</th>\n",
       "      <th>davies_bouldin_score</th>\n",
       "      <th>calinski_harabasz_score</th>\n",
       "    </tr>\n",
       "  </thead>\n",
       "  <tbody>\n",
       "    <tr>\n",
       "      <th>0</th>\n",
       "      <td>3</td>\n",
       "      <td>k-means++</td>\n",
       "      <td>10</td>\n",
       "      <td>0.294702</td>\n",
       "      <td>1.360989</td>\n",
       "      <td>3603.060285</td>\n",
       "    </tr>\n",
       "    <tr>\n",
       "      <th>1</th>\n",
       "      <td>3</td>\n",
       "      <td>k-means++</td>\n",
       "      <td>20</td>\n",
       "      <td>0.294702</td>\n",
       "      <td>1.360989</td>\n",
       "      <td>3603.060285</td>\n",
       "    </tr>\n",
       "    <tr>\n",
       "      <th>2</th>\n",
       "      <td>3</td>\n",
       "      <td>random</td>\n",
       "      <td>10</td>\n",
       "      <td>0.294702</td>\n",
       "      <td>1.360989</td>\n",
       "      <td>3603.060285</td>\n",
       "    </tr>\n",
       "    <tr>\n",
       "      <th>3</th>\n",
       "      <td>3</td>\n",
       "      <td>random</td>\n",
       "      <td>20</td>\n",
       "      <td>0.294702</td>\n",
       "      <td>1.360989</td>\n",
       "      <td>3603.060285</td>\n",
       "    </tr>\n",
       "    <tr>\n",
       "      <th>4</th>\n",
       "      <td>4</td>\n",
       "      <td>k-means++</td>\n",
       "      <td>10</td>\n",
       "      <td>0.313160</td>\n",
       "      <td>1.431931</td>\n",
       "      <td>3247.832104</td>\n",
       "    </tr>\n",
       "    <tr>\n",
       "      <th>5</th>\n",
       "      <td>4</td>\n",
       "      <td>k-means++</td>\n",
       "      <td>20</td>\n",
       "      <td>0.313160</td>\n",
       "      <td>1.431931</td>\n",
       "      <td>3247.832104</td>\n",
       "    </tr>\n",
       "    <tr>\n",
       "      <th>6</th>\n",
       "      <td>4</td>\n",
       "      <td>random</td>\n",
       "      <td>10</td>\n",
       "      <td>0.313160</td>\n",
       "      <td>1.431931</td>\n",
       "      <td>3247.832104</td>\n",
       "    </tr>\n",
       "    <tr>\n",
       "      <th>7</th>\n",
       "      <td>4</td>\n",
       "      <td>random</td>\n",
       "      <td>20</td>\n",
       "      <td>0.313160</td>\n",
       "      <td>1.431931</td>\n",
       "      <td>3247.832104</td>\n",
       "    </tr>\n",
       "    <tr>\n",
       "      <th>8</th>\n",
       "      <td>5</td>\n",
       "      <td>k-means++</td>\n",
       "      <td>10</td>\n",
       "      <td>0.313113</td>\n",
       "      <td>1.360420</td>\n",
       "      <td>3011.751925</td>\n",
       "    </tr>\n",
       "    <tr>\n",
       "      <th>9</th>\n",
       "      <td>5</td>\n",
       "      <td>k-means++</td>\n",
       "      <td>20</td>\n",
       "      <td>0.304763</td>\n",
       "      <td>1.226283</td>\n",
       "      <td>3079.270464</td>\n",
       "    </tr>\n",
       "    <tr>\n",
       "      <th>10</th>\n",
       "      <td>5</td>\n",
       "      <td>random</td>\n",
       "      <td>10</td>\n",
       "      <td>0.313113</td>\n",
       "      <td>1.360420</td>\n",
       "      <td>3011.751925</td>\n",
       "    </tr>\n",
       "    <tr>\n",
       "      <th>11</th>\n",
       "      <td>5</td>\n",
       "      <td>random</td>\n",
       "      <td>20</td>\n",
       "      <td>0.313113</td>\n",
       "      <td>1.360420</td>\n",
       "      <td>3011.751925</td>\n",
       "    </tr>\n",
       "  </tbody>\n",
       "</table>\n",
       "</div>"
      ],
      "text/plain": [
       "    clusters       init  n_init  silhouette_score  davies_bouldin_score  \\\n",
       "0          3  k-means++      10          0.294702              1.360989   \n",
       "1          3  k-means++      20          0.294702              1.360989   \n",
       "2          3     random      10          0.294702              1.360989   \n",
       "3          3     random      20          0.294702              1.360989   \n",
       "4          4  k-means++      10          0.313160              1.431931   \n",
       "5          4  k-means++      20          0.313160              1.431931   \n",
       "6          4     random      10          0.313160              1.431931   \n",
       "7          4     random      20          0.313160              1.431931   \n",
       "8          5  k-means++      10          0.313113              1.360420   \n",
       "9          5  k-means++      20          0.304763              1.226283   \n",
       "10         5     random      10          0.313113              1.360420   \n",
       "11         5     random      20          0.313113              1.360420   \n",
       "\n",
       "    calinski_harabasz_score  \n",
       "0               3603.060285  \n",
       "1               3603.060285  \n",
       "2               3603.060285  \n",
       "3               3603.060285  \n",
       "4               3247.832104  \n",
       "5               3247.832104  \n",
       "6               3247.832104  \n",
       "7               3247.832104  \n",
       "8               3011.751925  \n",
       "9               3079.270464  \n",
       "10              3011.751925  \n",
       "11              3011.751925  "
      ]
     },
     "execution_count": 180,
     "metadata": {},
     "output_type": "execute_result"
    }
   ],
   "source": [
    "df_avaliacao"
   ]
  }
 ],
 "metadata": {
  "kernelspec": {
   "display_name": "Python 3",
   "language": "python",
   "name": "python3"
  },
  "language_info": {
   "codemirror_mode": {
    "name": "ipython",
    "version": 3
   },
   "file_extension": ".py",
   "mimetype": "text/x-python",
   "name": "python",
   "nbconvert_exporter": "python",
   "pygments_lexer": "ipython3",
   "version": "3.11.7"
  }
 },
 "nbformat": 4,
 "nbformat_minor": 5
}
