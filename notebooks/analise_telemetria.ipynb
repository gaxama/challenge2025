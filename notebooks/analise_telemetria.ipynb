{
 "cells": [
  {
   "cell_type": "markdown",
   "id": "3b98b8ed",
   "metadata": {},
   "source": [
    "FIAP - Challenge TOTVS 2025\n",
    "\n",
    "Sprint 3 - Deep Learning\n",
    "\n",
    "Grupo Cluster Vision\n",
    "\n",
    "\n",
    "Anna Paula Carbone\n",
    "RM: 558152\n",
    "\n",
    "Eduardo Ferreira\n",
    "RM: 555610\n",
    "\n",
    "Gabriel Mariotto\n",
    "RM: 557816\n",
    "\n",
    "Gabriel Moretim\n",
    "RM: 557740\n",
    "\n",
    "Guilherme Panfiete\n",
    "RM: 557758"
   ]
  },
  {
   "cell_type": "markdown",
   "id": "73c7fda5",
   "metadata": {},
   "source": [
    "# Importações"
   ]
  },
  {
   "cell_type": "code",
   "execution_count": 2,
   "id": "d679aa3b",
   "metadata": {},
   "outputs": [],
   "source": [
    "import pandas as pd\n",
    "import numpy as np\n",
    "\n",
    "from sklearn.cluster import KMeans\n",
    "from sklearn.metrics import silhouette_score, davies_bouldin_score, calinski_harabasz_score\n",
    "from sklearn.preprocessing import MinMaxScaler\n",
    "from sklearn.decomposition import PCA\n",
    "from sklearn.manifold import TSNE\n",
    "\n",
    "from yellowbrick.cluster import KElbowVisualizer\n",
    "\n",
    "import matplotlib.pyplot as plt"
   ]
  },
  {
   "cell_type": "code",
   "execution_count": 3,
   "id": "20d2648f",
   "metadata": {},
   "outputs": [],
   "source": [
    "df = pd.read_csv('../dados/dados_totvs/telemetria_1.csv')"
   ]
  },
  {
   "cell_type": "code",
   "execution_count": 4,
   "id": "1c8c607c",
   "metadata": {},
   "outputs": [],
   "source": [
    "for i in range(2, 12):\n",
    "    proximo_df = pd.read_csv(f'../dados/dados_totvs/telemetria_{i}.csv')\n",
    "    df = pd.concat([df, proximo_df], ignore_index=True)"
   ]
  },
  {
   "cell_type": "markdown",
   "id": "b55ce200",
   "metadata": {},
   "source": [
    "# Análise Exploratória"
   ]
  },
  {
   "cell_type": "code",
   "execution_count": 4,
   "id": "6599ce45",
   "metadata": {},
   "outputs": [
    {
     "data": {
      "application/vnd.microsoft.datawrangler.viewer.v0+json": {
       "columns": [
        {
         "name": "index",
         "rawType": "int64",
         "type": "integer"
        },
        {
         "name": "clienteid",
         "rawType": "object",
         "type": "string"
        },
        {
         "name": "eventduration",
         "rawType": "float64",
         "type": "float"
        },
        {
         "name": "moduloid",
         "rawType": "int64",
         "type": "integer"
        },
        {
         "name": "productlineid",
         "rawType": "int64",
         "type": "integer"
        },
        {
         "name": "referencedatestart",
         "rawType": "object",
         "type": "string"
        },
        {
         "name": "slotid",
         "rawType": "int64",
         "type": "integer"
        },
        {
         "name": "statuslicenca",
         "rawType": "object",
         "type": "string"
        },
        {
         "name": "tcloud",
         "rawType": "float64",
         "type": "float"
        },
        {
         "name": "clienteprime",
         "rawType": "float64",
         "type": "float"
        }
       ],
       "ref": "b07857fd-2c75-4ebe-ab11-56d289fae3c5",
       "rows": [
        [
         "7237921",
         "TEZFE600",
         "0.0",
         "738",
         "9",
         "2025-03-20",
         "4050",
         "Desconectado",
         null,
         null
        ],
        [
         "11152318",
         "TEZKQ500",
         "999.0",
         "533",
         "3",
         "2025-03-21",
         "533",
         "Desconectado",
         null,
         null
        ],
        [
         "27754222",
         "T4645700",
         "240.0",
         "534",
         "3",
         "2025-03-17",
         "534",
         "Desconectado",
         null,
         null
        ],
        [
         "10588215",
         "TFCZN500",
         "0.0",
         "99",
         "2",
         "2025-03-21",
         "0",
         "Desconectado",
         null,
         null
        ],
        [
         "18075899",
         "TFDAIL00",
         "60.0",
         "726",
         "9",
         "2025-03-19",
         "3502",
         "Desconectado",
         null,
         null
        ],
        [
         "6721604",
         "TFCZR800",
         "369.73",
         "534",
         "3",
         "2025-03-20",
         "4029",
         "Desconectado",
         null,
         null
        ],
        [
         "17468943",
         "T7659000",
         "17660.877",
         "4007",
         "0",
         "2025-03-18",
         "4007",
         "Desconectado",
         null,
         null
        ],
        [
         "20043159",
         "TEXSQA00",
         "567.292",
         "5",
         "2",
         "2025-03-17",
         "4024",
         "Desconectado",
         null,
         null
        ],
        [
         "25525674",
         "T1334700",
         "2047.552",
         "5",
         "2",
         "2025-03-20",
         "4000",
         "Desconectado",
         null,
         null
        ],
        [
         "7391870",
         "T8454700",
         "48.688",
         "5625",
         "6",
         "2025-03-19",
         "4000",
         "Desconectado",
         null,
         null
        ]
       ],
       "shape": {
        "columns": 9,
        "rows": 10
       }
      },
      "text/html": [
       "<div>\n",
       "<style scoped>\n",
       "    .dataframe tbody tr th:only-of-type {\n",
       "        vertical-align: middle;\n",
       "    }\n",
       "\n",
       "    .dataframe tbody tr th {\n",
       "        vertical-align: top;\n",
       "    }\n",
       "\n",
       "    .dataframe thead th {\n",
       "        text-align: right;\n",
       "    }\n",
       "</style>\n",
       "<table border=\"1\" class=\"dataframe\">\n",
       "  <thead>\n",
       "    <tr style=\"text-align: right;\">\n",
       "      <th></th>\n",
       "      <th>clienteid</th>\n",
       "      <th>eventduration</th>\n",
       "      <th>moduloid</th>\n",
       "      <th>productlineid</th>\n",
       "      <th>referencedatestart</th>\n",
       "      <th>slotid</th>\n",
       "      <th>statuslicenca</th>\n",
       "      <th>tcloud</th>\n",
       "      <th>clienteprime</th>\n",
       "    </tr>\n",
       "  </thead>\n",
       "  <tbody>\n",
       "    <tr>\n",
       "      <th>7237921</th>\n",
       "      <td>TEZFE600</td>\n",
       "      <td>0.000</td>\n",
       "      <td>738</td>\n",
       "      <td>9</td>\n",
       "      <td>2025-03-20</td>\n",
       "      <td>4050</td>\n",
       "      <td>Desconectado</td>\n",
       "      <td>NaN</td>\n",
       "      <td>NaN</td>\n",
       "    </tr>\n",
       "    <tr>\n",
       "      <th>11152318</th>\n",
       "      <td>TEZKQ500</td>\n",
       "      <td>999.000</td>\n",
       "      <td>533</td>\n",
       "      <td>3</td>\n",
       "      <td>2025-03-21</td>\n",
       "      <td>533</td>\n",
       "      <td>Desconectado</td>\n",
       "      <td>NaN</td>\n",
       "      <td>NaN</td>\n",
       "    </tr>\n",
       "    <tr>\n",
       "      <th>27754222</th>\n",
       "      <td>T4645700</td>\n",
       "      <td>240.000</td>\n",
       "      <td>534</td>\n",
       "      <td>3</td>\n",
       "      <td>2025-03-17</td>\n",
       "      <td>534</td>\n",
       "      <td>Desconectado</td>\n",
       "      <td>NaN</td>\n",
       "      <td>NaN</td>\n",
       "    </tr>\n",
       "    <tr>\n",
       "      <th>10588215</th>\n",
       "      <td>TFCZN500</td>\n",
       "      <td>0.000</td>\n",
       "      <td>99</td>\n",
       "      <td>2</td>\n",
       "      <td>2025-03-21</td>\n",
       "      <td>0</td>\n",
       "      <td>Desconectado</td>\n",
       "      <td>NaN</td>\n",
       "      <td>NaN</td>\n",
       "    </tr>\n",
       "    <tr>\n",
       "      <th>18075899</th>\n",
       "      <td>TFDAIL00</td>\n",
       "      <td>60.000</td>\n",
       "      <td>726</td>\n",
       "      <td>9</td>\n",
       "      <td>2025-03-19</td>\n",
       "      <td>3502</td>\n",
       "      <td>Desconectado</td>\n",
       "      <td>NaN</td>\n",
       "      <td>NaN</td>\n",
       "    </tr>\n",
       "    <tr>\n",
       "      <th>6721604</th>\n",
       "      <td>TFCZR800</td>\n",
       "      <td>369.730</td>\n",
       "      <td>534</td>\n",
       "      <td>3</td>\n",
       "      <td>2025-03-20</td>\n",
       "      <td>4029</td>\n",
       "      <td>Desconectado</td>\n",
       "      <td>NaN</td>\n",
       "      <td>NaN</td>\n",
       "    </tr>\n",
       "    <tr>\n",
       "      <th>17468943</th>\n",
       "      <td>T7659000</td>\n",
       "      <td>17660.877</td>\n",
       "      <td>4007</td>\n",
       "      <td>0</td>\n",
       "      <td>2025-03-18</td>\n",
       "      <td>4007</td>\n",
       "      <td>Desconectado</td>\n",
       "      <td>NaN</td>\n",
       "      <td>NaN</td>\n",
       "    </tr>\n",
       "    <tr>\n",
       "      <th>20043159</th>\n",
       "      <td>TEXSQA00</td>\n",
       "      <td>567.292</td>\n",
       "      <td>5</td>\n",
       "      <td>2</td>\n",
       "      <td>2025-03-17</td>\n",
       "      <td>4024</td>\n",
       "      <td>Desconectado</td>\n",
       "      <td>NaN</td>\n",
       "      <td>NaN</td>\n",
       "    </tr>\n",
       "    <tr>\n",
       "      <th>25525674</th>\n",
       "      <td>T1334700</td>\n",
       "      <td>2047.552</td>\n",
       "      <td>5</td>\n",
       "      <td>2</td>\n",
       "      <td>2025-03-20</td>\n",
       "      <td>4000</td>\n",
       "      <td>Desconectado</td>\n",
       "      <td>NaN</td>\n",
       "      <td>NaN</td>\n",
       "    </tr>\n",
       "    <tr>\n",
       "      <th>7391870</th>\n",
       "      <td>T8454700</td>\n",
       "      <td>48.688</td>\n",
       "      <td>5625</td>\n",
       "      <td>6</td>\n",
       "      <td>2025-03-19</td>\n",
       "      <td>4000</td>\n",
       "      <td>Desconectado</td>\n",
       "      <td>NaN</td>\n",
       "      <td>NaN</td>\n",
       "    </tr>\n",
       "  </tbody>\n",
       "</table>\n",
       "</div>"
      ],
      "text/plain": [
       "         clienteid  eventduration  moduloid  productlineid referencedatestart  \\\n",
       "7237921   TEZFE600          0.000       738              9         2025-03-20   \n",
       "11152318  TEZKQ500        999.000       533              3         2025-03-21   \n",
       "27754222  T4645700        240.000       534              3         2025-03-17   \n",
       "10588215  TFCZN500          0.000        99              2         2025-03-21   \n",
       "18075899  TFDAIL00         60.000       726              9         2025-03-19   \n",
       "6721604   TFCZR800        369.730       534              3         2025-03-20   \n",
       "17468943  T7659000      17660.877      4007              0         2025-03-18   \n",
       "20043159  TEXSQA00        567.292         5              2         2025-03-17   \n",
       "25525674  T1334700       2047.552         5              2         2025-03-20   \n",
       "7391870   T8454700         48.688      5625              6         2025-03-19   \n",
       "\n",
       "          slotid statuslicenca  tcloud  clienteprime  \n",
       "7237921     4050  Desconectado     NaN           NaN  \n",
       "11152318     533  Desconectado     NaN           NaN  \n",
       "27754222     534  Desconectado     NaN           NaN  \n",
       "10588215       0  Desconectado     NaN           NaN  \n",
       "18075899    3502  Desconectado     NaN           NaN  \n",
       "6721604     4029  Desconectado     NaN           NaN  \n",
       "17468943    4007  Desconectado     NaN           NaN  \n",
       "20043159    4024  Desconectado     NaN           NaN  \n",
       "25525674    4000  Desconectado     NaN           NaN  \n",
       "7391870     4000  Desconectado     NaN           NaN  "
      ]
     },
     "execution_count": 4,
     "metadata": {},
     "output_type": "execute_result"
    }
   ],
   "source": [
    "df.sample(10)"
   ]
  },
  {
   "cell_type": "code",
   "execution_count": 5,
   "id": "0406e329",
   "metadata": {},
   "outputs": [
    {
     "name": "stdout",
     "output_type": "stream",
     "text": [
      "<class 'pandas.core.frame.DataFrame'>\n",
      "RangeIndex: 30804197 entries, 0 to 30804196\n",
      "Data columns (total 9 columns):\n",
      " #   Column              Dtype  \n",
      "---  ------              -----  \n",
      " 0   clienteid           object \n",
      " 1   eventduration       float64\n",
      " 2   moduloid            int64  \n",
      " 3   productlineid       int64  \n",
      " 4   referencedatestart  object \n",
      " 5   slotid              int64  \n",
      " 6   statuslicenca       object \n",
      " 7   tcloud              float64\n",
      " 8   clienteprime        float64\n",
      "dtypes: float64(3), int64(3), object(3)\n",
      "memory usage: 2.1+ GB\n"
     ]
    }
   ],
   "source": [
    "df.info()"
   ]
  },
  {
   "cell_type": "code",
   "execution_count": 6,
   "id": "f539a374",
   "metadata": {},
   "outputs": [
    {
     "data": {
      "application/vnd.microsoft.datawrangler.viewer.v0+json": {
       "columns": [
        {
         "name": "index",
         "rawType": "object",
         "type": "string"
        },
        {
         "name": "eventduration",
         "rawType": "float64",
         "type": "float"
        },
        {
         "name": "moduloid",
         "rawType": "float64",
         "type": "float"
        },
        {
         "name": "productlineid",
         "rawType": "float64",
         "type": "float"
        },
        {
         "name": "slotid",
         "rawType": "float64",
         "type": "float"
        },
        {
         "name": "tcloud",
         "rawType": "float64",
         "type": "float"
        },
        {
         "name": "clienteprime",
         "rawType": "float64",
         "type": "float"
        }
       ],
       "ref": "e6f02c55-57d9-4715-963f-a14075cc65a8",
       "rows": [
        [
         "count",
         "30804197.0",
         "30804197.0",
         "30804197.0",
         "30804197.0",
         "0.0",
         "0.0"
        ],
        [
         "mean",
         "94816.14279761784",
         "1332.3969455850447",
         "3.9260960446396314",
         "2021.7276858734542",
         null,
         null
        ],
        [
         "std",
         "55934233.72292341",
         "1908.9656103685932",
         "2.7833712433870375",
         "1797.230796063886",
         null,
         null
        ],
        [
         "min",
         "-811819.0",
         "0.0",
         "0.0",
         "0.0",
         null,
         null
        ],
        [
         "25%",
         "10.651",
         "516.0",
         "3.0",
         "533.0",
         null,
         null
        ],
        [
         "50%",
         "197.941",
         "533.0",
         "3.0",
         "534.0",
         null,
         null
        ],
        [
         "75%",
         "1025.913",
         "722.0",
         "6.0",
         "4001.0",
         null,
         null
        ],
        [
         "max",
         "123695498196.0",
         "7505.0",
         "99.0",
         "6500.0",
         null,
         null
        ]
       ],
       "shape": {
        "columns": 6,
        "rows": 8
       }
      },
      "text/html": [
       "<div>\n",
       "<style scoped>\n",
       "    .dataframe tbody tr th:only-of-type {\n",
       "        vertical-align: middle;\n",
       "    }\n",
       "\n",
       "    .dataframe tbody tr th {\n",
       "        vertical-align: top;\n",
       "    }\n",
       "\n",
       "    .dataframe thead th {\n",
       "        text-align: right;\n",
       "    }\n",
       "</style>\n",
       "<table border=\"1\" class=\"dataframe\">\n",
       "  <thead>\n",
       "    <tr style=\"text-align: right;\">\n",
       "      <th></th>\n",
       "      <th>eventduration</th>\n",
       "      <th>moduloid</th>\n",
       "      <th>productlineid</th>\n",
       "      <th>slotid</th>\n",
       "      <th>tcloud</th>\n",
       "      <th>clienteprime</th>\n",
       "    </tr>\n",
       "  </thead>\n",
       "  <tbody>\n",
       "    <tr>\n",
       "      <th>count</th>\n",
       "      <td>3.080420e+07</td>\n",
       "      <td>3.080420e+07</td>\n",
       "      <td>3.080420e+07</td>\n",
       "      <td>3.080420e+07</td>\n",
       "      <td>0.0</td>\n",
       "      <td>0.0</td>\n",
       "    </tr>\n",
       "    <tr>\n",
       "      <th>mean</th>\n",
       "      <td>9.481614e+04</td>\n",
       "      <td>1.332397e+03</td>\n",
       "      <td>3.926096e+00</td>\n",
       "      <td>2.021728e+03</td>\n",
       "      <td>NaN</td>\n",
       "      <td>NaN</td>\n",
       "    </tr>\n",
       "    <tr>\n",
       "      <th>std</th>\n",
       "      <td>5.593423e+07</td>\n",
       "      <td>1.908966e+03</td>\n",
       "      <td>2.783371e+00</td>\n",
       "      <td>1.797231e+03</td>\n",
       "      <td>NaN</td>\n",
       "      <td>NaN</td>\n",
       "    </tr>\n",
       "    <tr>\n",
       "      <th>min</th>\n",
       "      <td>-8.118190e+05</td>\n",
       "      <td>0.000000e+00</td>\n",
       "      <td>0.000000e+00</td>\n",
       "      <td>0.000000e+00</td>\n",
       "      <td>NaN</td>\n",
       "      <td>NaN</td>\n",
       "    </tr>\n",
       "    <tr>\n",
       "      <th>25%</th>\n",
       "      <td>1.065100e+01</td>\n",
       "      <td>5.160000e+02</td>\n",
       "      <td>3.000000e+00</td>\n",
       "      <td>5.330000e+02</td>\n",
       "      <td>NaN</td>\n",
       "      <td>NaN</td>\n",
       "    </tr>\n",
       "    <tr>\n",
       "      <th>50%</th>\n",
       "      <td>1.979410e+02</td>\n",
       "      <td>5.330000e+02</td>\n",
       "      <td>3.000000e+00</td>\n",
       "      <td>5.340000e+02</td>\n",
       "      <td>NaN</td>\n",
       "      <td>NaN</td>\n",
       "    </tr>\n",
       "    <tr>\n",
       "      <th>75%</th>\n",
       "      <td>1.025913e+03</td>\n",
       "      <td>7.220000e+02</td>\n",
       "      <td>6.000000e+00</td>\n",
       "      <td>4.001000e+03</td>\n",
       "      <td>NaN</td>\n",
       "      <td>NaN</td>\n",
       "    </tr>\n",
       "    <tr>\n",
       "      <th>max</th>\n",
       "      <td>1.236955e+11</td>\n",
       "      <td>7.505000e+03</td>\n",
       "      <td>9.900000e+01</td>\n",
       "      <td>6.500000e+03</td>\n",
       "      <td>NaN</td>\n",
       "      <td>NaN</td>\n",
       "    </tr>\n",
       "  </tbody>\n",
       "</table>\n",
       "</div>"
      ],
      "text/plain": [
       "       eventduration      moduloid  productlineid        slotid  tcloud  \\\n",
       "count   3.080420e+07  3.080420e+07   3.080420e+07  3.080420e+07     0.0   \n",
       "mean    9.481614e+04  1.332397e+03   3.926096e+00  2.021728e+03     NaN   \n",
       "std     5.593423e+07  1.908966e+03   2.783371e+00  1.797231e+03     NaN   \n",
       "min    -8.118190e+05  0.000000e+00   0.000000e+00  0.000000e+00     NaN   \n",
       "25%     1.065100e+01  5.160000e+02   3.000000e+00  5.330000e+02     NaN   \n",
       "50%     1.979410e+02  5.330000e+02   3.000000e+00  5.340000e+02     NaN   \n",
       "75%     1.025913e+03  7.220000e+02   6.000000e+00  4.001000e+03     NaN   \n",
       "max     1.236955e+11  7.505000e+03   9.900000e+01  6.500000e+03     NaN   \n",
       "\n",
       "       clienteprime  \n",
       "count           0.0  \n",
       "mean            NaN  \n",
       "std             NaN  \n",
       "min             NaN  \n",
       "25%             NaN  \n",
       "50%             NaN  \n",
       "75%             NaN  \n",
       "max             NaN  "
      ]
     },
     "execution_count": 6,
     "metadata": {},
     "output_type": "execute_result"
    }
   ],
   "source": [
    "df.describe()"
   ]
  },
  {
   "cell_type": "code",
   "execution_count": 7,
   "id": "a71ce16d",
   "metadata": {},
   "outputs": [
    {
     "data": {
      "application/vnd.microsoft.datawrangler.viewer.v0+json": {
       "columns": [
        {
         "name": "index",
         "rawType": "object",
         "type": "string"
        },
        {
         "name": "0",
         "rawType": "float64",
         "type": "float"
        }
       ],
       "ref": "9db13744-d0db-45a3-a7c0-0295cce5dd4f",
       "rows": [
        [
         "clienteid",
         "0.0"
        ],
        [
         "eventduration",
         "0.0"
        ],
        [
         "moduloid",
         "0.0"
        ],
        [
         "productlineid",
         "0.0"
        ],
        [
         "referencedatestart",
         "0.0"
        ],
        [
         "slotid",
         "0.0"
        ],
        [
         "statuslicenca",
         "0.036063267612526956"
        ],
        [
         "tcloud",
         "100.0"
        ],
        [
         "clienteprime",
         "100.0"
        ]
       ],
       "shape": {
        "columns": 1,
        "rows": 9
       }
      },
      "text/plain": [
       "clienteid               0.000000\n",
       "eventduration           0.000000\n",
       "moduloid                0.000000\n",
       "productlineid           0.000000\n",
       "referencedatestart      0.000000\n",
       "slotid                  0.000000\n",
       "statuslicenca           0.036063\n",
       "tcloud                100.000000\n",
       "clienteprime          100.000000\n",
       "dtype: float64"
      ]
     },
     "execution_count": 7,
     "metadata": {},
     "output_type": "execute_result"
    }
   ],
   "source": [
    "percentual_nulos = df.isnull().mean() * 100\n",
    "percentual_nulos"
   ]
  },
  {
   "cell_type": "code",
   "execution_count": 8,
   "id": "c8c632c2",
   "metadata": {},
   "outputs": [],
   "source": [
    "df = df.drop(['tcloud', 'clienteprime', 'referencedatestart'], axis=1)"
   ]
  },
  {
   "cell_type": "code",
   "execution_count": 9,
   "id": "5b0f7daa",
   "metadata": {},
   "outputs": [
    {
     "data": {
      "text/plain": [
       "Index(['clienteid', 'eventduration', 'moduloid', 'productlineid', 'slotid',\n",
       "       'statuslicenca'],\n",
       "      dtype='object')"
      ]
     },
     "execution_count": 9,
     "metadata": {},
     "output_type": "execute_result"
    }
   ],
   "source": [
    "df.columns"
   ]
  },
  {
   "cell_type": "code",
   "execution_count": 10,
   "id": "6b8b1cfa",
   "metadata": {},
   "outputs": [
    {
     "data": {
      "image/png": "[encoded data removed]",
      "text/plain": [
       "<Figure size 800x550 with 1 Axes>"
      ]
     },
     "metadata": {},
     "output_type": "display_data"
    }
   ],
   "source": [
    "# Boxplot da duração\n",
    "df[\"eventduration\"].plot.box()\n",
    "\n",
    "plt.title(\"Boxplot da coluna 'eventduration'\")\n",
    "plt.ylabel(\"Valores\")\n",
    "plt.show()"
   ]
  },
  {
   "cell_type": "code",
   "execution_count": 11,
   "id": "5d1f3156",
   "metadata": {},
   "outputs": [],
   "source": [
    "# Substituindo valores negativos pela mediana dos valores positivos\n",
    "\n",
    "mediana_positivos_tempo = df.loc[df[\"eventduration\"] > 0, \"eventduration\"].median()\n",
    "\n",
    "df.loc[df[\"eventduration\"] <= 0, \"eventduration\"] = mediana_positivos_tempo"
   ]
  },
  {
   "cell_type": "code",
   "execution_count": 12,
   "id": "9103503f",
   "metadata": {},
   "outputs": [
    {
     "data": {
      "image/png": "[encoded data removed]",
      "text/plain": [
       "<Figure size 800x550 with 1 Axes>"
      ]
     },
     "metadata": {},
     "output_type": "display_data"
    }
   ],
   "source": [
    "# Boxplot da duração\n",
    "df[\"eventduration\"].plot.box()\n",
    "\n",
    "plt.title(\"Boxplot da coluna 'eventduration'\")\n",
    "plt.ylabel(\"Valores\")\n",
    "plt.show()"
   ]
  },
  {
   "cell_type": "code",
   "execution_count": 13,
   "id": "64f175cf",
   "metadata": {},
   "outputs": [],
   "source": [
    "# Suavizando outliers\n",
    "Q1 = df[\"eventduration\"].quantile(0.25)\n",
    "Q3 = df[\"eventduration\"].quantile(0.75)\n",
    "IQR = Q3 - Q1\n",
    "\n",
    "limite_inferior = Q1 - 1.5*IQR\n",
    "limite_superior = Q3 + 1.5*IQR\n",
    "\n",
    "# Substituir outliers pelos limites\n",
    "df[\"eventduration\"] = df[\"eventduration\"].clip(lower=limite_inferior, upper=limite_superior)"
   ]
  },
  {
   "cell_type": "code",
   "execution_count": 14,
   "id": "b6b7e4d3",
   "metadata": {},
   "outputs": [
    {
     "data": {
      "image/png": "[encoded data removed]",
      "text/plain": [
       "<Figure size 800x550 with 1 Axes>"
      ]
     },
     "metadata": {},
     "output_type": "display_data"
    }
   ],
   "source": [
    "# Boxplot da duração\n",
    "df[\"eventduration\"].plot.box()\n",
    "\n",
    "plt.title(\"Boxplot da coluna 'eventduration'\")\n",
    "plt.ylabel(\"Valores\")\n",
    "plt.show()"
   ]
  },
  {
   "cell_type": "code",
   "execution_count": 15,
   "id": "0327820c",
   "metadata": {},
   "outputs": [
    {
     "data": {
      "image/png": "[encoded data removed]",
      "text/plain": [
       "<Figure size 800x550 with 1 Axes>"
      ]
     },
     "metadata": {},
     "output_type": "display_data"
    }
   ],
   "source": [
    "# Plotar histograma da duração do atendimento\n",
    "plt.hist(df[\"eventduration\"], bins=50, color=\"skyblue\", edgecolor=\"black\")\n",
    "plt.xlabel(\"eventduration\")\n",
    "plt.ylabel(\"Frequência\")\n",
    "plt.title(\"Histograma da coluna 'eventduration'\")\n",
    "plt.show()"
   ]
  },
  {
   "cell_type": "code",
   "execution_count": 16,
   "id": "856a56da",
   "metadata": {},
   "outputs": [],
   "source": [
    "df = df.drop('eventduration', axis=1)"
   ]
  },
  {
   "cell_type": "code",
   "execution_count": 17,
   "id": "d14f89a1",
   "metadata": {},
   "outputs": [],
   "source": [
    "# Visualizando valores únicos de cada coluna"
   ]
  },
  {
   "cell_type": "code",
   "execution_count": 18,
   "id": "73e38cac",
   "metadata": {},
   "outputs": [
    {
     "data": {
      "text/plain": [
       "4465"
      ]
     },
     "execution_count": 18,
     "metadata": {},
     "output_type": "execute_result"
    }
   ],
   "source": [
    "df['clienteid'].nunique()"
   ]
  },
  {
   "cell_type": "code",
   "execution_count": 19,
   "id": "91e630ad",
   "metadata": {},
   "outputs": [
    {
     "data": {
      "text/plain": [
       "3"
      ]
     },
     "execution_count": 19,
     "metadata": {},
     "output_type": "execute_result"
    }
   ],
   "source": [
    "df['statuslicenca'].nunique()"
   ]
  },
  {
   "cell_type": "code",
   "execution_count": 20,
   "id": "b5a649cd",
   "metadata": {},
   "outputs": [
    {
     "data": {
      "text/plain": [
       "array(['Desconectado', nan, 'Conectado', 'Negado'], dtype=object)"
      ]
     },
     "execution_count": 20,
     "metadata": {},
     "output_type": "execute_result"
    }
   ],
   "source": [
    "df['statuslicenca'].unique()"
   ]
  },
  {
   "cell_type": "code",
   "execution_count": 21,
   "id": "a6553294",
   "metadata": {},
   "outputs": [
    {
     "data": {
      "text/plain": [
       "339"
      ]
     },
     "execution_count": 21,
     "metadata": {},
     "output_type": "execute_result"
    }
   ],
   "source": [
    "df['slotid'].nunique()"
   ]
  },
  {
   "cell_type": "code",
   "execution_count": 22,
   "id": "187f20a5",
   "metadata": {},
   "outputs": [
    {
     "data": {
      "text/plain": [
       "12"
      ]
     },
     "execution_count": 22,
     "metadata": {},
     "output_type": "execute_result"
    }
   ],
   "source": [
    "df['productlineid'].nunique()"
   ]
  },
  {
   "cell_type": "code",
   "execution_count": 23,
   "id": "0d5e1b8b",
   "metadata": {},
   "outputs": [
    {
     "data": {
      "text/plain": [
       "535"
      ]
     },
     "execution_count": 23,
     "metadata": {},
     "output_type": "execute_result"
    }
   ],
   "source": [
    "df['moduloid'].nunique()"
   ]
  },
  {
   "cell_type": "code",
   "execution_count": 24,
   "id": "ab1cd0c3",
   "metadata": {},
   "outputs": [
    {
     "data": {
      "application/vnd.microsoft.datawrangler.viewer.v0+json": {
       "columns": [
        {
         "name": "slotid",
         "rawType": "int64",
         "type": "integer"
        },
        {
         "name": "count",
         "rawType": "int64",
         "type": "integer"
        }
       ],
       "ref": "2285ba98-ffb5-4cb6-a922-3fc20a6ef361",
       "rows": [
        [
         "4016",
         "1256"
        ],
        [
         "0",
         "298"
        ],
        [
         "4134",
         "8"
        ],
        [
         "4092",
         "4"
        ]
       ],
       "shape": {
        "columns": 1,
        "rows": 4
       }
      },
      "text/plain": [
       "slotid\n",
       "4016    1256\n",
       "0        298\n",
       "4134       8\n",
       "4092       4\n",
       "Name: count, dtype: int64"
      ]
     },
     "execution_count": 24,
     "metadata": {},
     "output_type": "execute_result"
    }
   ],
   "source": [
    "df[df['clienteid'] == 'T0100800']['slotid'].value_counts()"
   ]
  },
  {
   "cell_type": "code",
   "execution_count": 25,
   "id": "0be04d9f",
   "metadata": {},
   "outputs": [
    {
     "data": {
      "application/vnd.microsoft.datawrangler.viewer.v0+json": {
       "columns": [
        {
         "name": "productlineid",
         "rawType": "int64",
         "type": "integer"
        },
        {
         "name": "count",
         "rawType": "int64",
         "type": "integer"
        }
       ],
       "ref": "9c0ba6e8-3fcb-47de-9bd9-5ed85dc643ca",
       "rows": [
        [
         "2",
         "1562"
        ],
        [
         "0",
         "4"
        ]
       ],
       "shape": {
        "columns": 1,
        "rows": 2
       }
      },
      "text/plain": [
       "productlineid\n",
       "2    1562\n",
       "0       4\n",
       "Name: count, dtype: int64"
      ]
     },
     "execution_count": 25,
     "metadata": {},
     "output_type": "execute_result"
    }
   ],
   "source": [
    "df[df['clienteid'] == 'T0100800']['productlineid'].value_counts()"
   ]
  },
  {
   "cell_type": "code",
   "execution_count": 26,
   "id": "53fc051e",
   "metadata": {},
   "outputs": [
    {
     "data": {
      "application/vnd.microsoft.datawrangler.viewer.v0+json": {
       "columns": [
        {
         "name": "moduloid",
         "rawType": "int64",
         "type": "integer"
        },
        {
         "name": "count",
         "rawType": "int64",
         "type": "integer"
        }
       ],
       "ref": "98812386-5e75-4d4e-ab30-3dcd0e27d512",
       "rows": [
        [
         "5",
         "586"
        ],
        [
         "2",
         "287"
        ],
        [
         "6",
         "177"
        ],
        [
         "78",
         "150"
        ],
        [
         "9",
         "139"
        ],
        [
         "4093",
         "106"
        ],
        [
         "34",
         "30"
        ],
        [
         "99",
         "30"
        ],
        [
         "39",
         "25"
        ],
        [
         "84",
         "22"
        ],
        [
         "4",
         "10"
        ],
        [
         "4092",
         "4"
        ]
       ],
       "shape": {
        "columns": 1,
        "rows": 12
       }
      },
      "text/plain": [
       "moduloid\n",
       "5       586\n",
       "2       287\n",
       "6       177\n",
       "78      150\n",
       "9       139\n",
       "4093    106\n",
       "34       30\n",
       "99       30\n",
       "39       25\n",
       "84       22\n",
       "4        10\n",
       "4092      4\n",
       "Name: count, dtype: int64"
      ]
     },
     "execution_count": 26,
     "metadata": {},
     "output_type": "execute_result"
    }
   ],
   "source": [
    "df[df['clienteid'] == 'T0100800']['moduloid'].value_counts()"
   ]
  },
  {
   "cell_type": "code",
   "execution_count": 27,
   "id": "65e14f6c",
   "metadata": {},
   "outputs": [
    {
     "data": {
      "text/plain": [
       "<Axes: xlabel='moduloid'>"
      ]
     },
     "execution_count": 27,
     "metadata": {},
     "output_type": "execute_result"
    },
    {
     "data": {
      "image/png": "[encoded data removed]",
      "text/plain": [
       "<Figure size 800x550 with 1 Axes>"
      ]
     },
     "metadata": {},
     "output_type": "display_data"
    }
   ],
   "source": [
    "df[df['clienteid'] == 'T0100800']['moduloid'].value_counts().plot(x=\"moduloid\", y=\"count\", kind=\"bar\")"
   ]
  },
  {
   "cell_type": "code",
   "execution_count": 28,
   "id": "d2dadfad",
   "metadata": {},
   "outputs": [
    {
     "data": {
      "application/vnd.microsoft.datawrangler.viewer.v0+json": {
       "columns": [
        {
         "name": "statuslicenca",
         "rawType": "object",
         "type": "string"
        },
        {
         "name": "count",
         "rawType": "int64",
         "type": "integer"
        }
       ],
       "ref": "c893f77a-e389-41fd-b134-6acaf403998a",
       "rows": [
        [
         "Desconectado",
         "1518"
        ],
        [
         "Negado",
         "40"
        ]
       ],
       "shape": {
        "columns": 1,
        "rows": 2
       }
      },
      "text/plain": [
       "statuslicenca\n",
       "Desconectado    1518\n",
       "Negado            40\n",
       "Name: count, dtype: int64"
      ]
     },
     "execution_count": 28,
     "metadata": {},
     "output_type": "execute_result"
    }
   ],
   "source": [
    "df[df['clienteid'] == 'T0100800']['statuslicenca'].value_counts()"
   ]
  },
  {
   "cell_type": "code",
   "execution_count": 29,
   "id": "6cd43c5f",
   "metadata": {},
   "outputs": [
    {
     "data": {
      "text/plain": [
       "Index(['clienteid', 'moduloid', 'productlineid', 'slotid', 'statuslicenca'], dtype='object')"
      ]
     },
     "execution_count": 29,
     "metadata": {},
     "output_type": "execute_result"
    }
   ],
   "source": [
    "df.columns"
   ]
  },
  {
   "cell_type": "code",
   "execution_count": 30,
   "id": "03781a8c",
   "metadata": {},
   "outputs": [
    {
     "data": {
      "application/vnd.microsoft.datawrangler.viewer.v0+json": {
       "columns": [
        {
         "name": "index",
         "rawType": "int64",
         "type": "integer"
        },
        {
         "name": "moduloid",
         "rawType": "int64",
         "type": "integer"
        },
        {
         "name": "productlineid",
         "rawType": "int64",
         "type": "integer"
        },
        {
         "name": "slotid",
         "rawType": "int64",
         "type": "integer"
        }
       ],
       "ref": "31b0da2a-24ea-4f42-a953-4c31deea06a8",
       "rows": [
        [
         "0",
         "0",
         "1",
         "1"
        ],
        [
         "1",
         "1",
         "1",
         "9"
        ],
        [
         "2",
         "2",
         "1",
         "26"
        ],
        [
         "3",
         "3",
         "1",
         "5"
        ],
        [
         "4",
         "4",
         "1",
         "21"
        ],
        [
         "5",
         "5",
         "1",
         "46"
        ],
        [
         "6",
         "6",
         "1",
         "27"
        ],
        [
         "7",
         "7",
         "1",
         "12"
        ],
        [
         "8",
         "8",
         "1",
         "5"
        ],
        [
         "9",
         "9",
         "1",
         "50"
        ],
        [
         "10",
         "10",
         "1",
         "15"
        ],
        [
         "11",
         "11",
         "1",
         "5"
        ],
        [
         "12",
         "12",
         "1",
         "9"
        ],
        [
         "13",
         "13",
         "1",
         "7"
        ],
        [
         "14",
         "14",
         "1",
         "5"
        ],
        [
         "15",
         "15",
         "1",
         "5"
        ],
        [
         "16",
         "16",
         "1",
         "8"
        ],
        [
         "17",
         "17",
         "1",
         "7"
        ],
        [
         "18",
         "18",
         "1",
         "5"
        ],
        [
         "19",
         "19",
         "1",
         "9"
        ],
        [
         "20",
         "20",
         "1",
         "6"
        ],
        [
         "21",
         "21",
         "1",
         "6"
        ],
        [
         "22",
         "22",
         "1",
         "4"
        ],
        [
         "23",
         "23",
         "1",
         "8"
        ],
        [
         "24",
         "24",
         "1",
         "5"
        ],
        [
         "25",
         "25",
         "1",
         "5"
        ],
        [
         "26",
         "26",
         "1",
         "6"
        ],
        [
         "27",
         "28",
         "1",
         "8"
        ],
        [
         "28",
         "29",
         "1",
         "9"
        ],
        [
         "29",
         "30",
         "1",
         "5"
        ],
        [
         "30",
         "31",
         "1",
         "3"
        ],
        [
         "31",
         "32",
         "1",
         "1"
        ],
        [
         "32",
         "33",
         "1",
         "6"
        ],
        [
         "33",
         "34",
         "1",
         "12"
        ],
        [
         "34",
         "35",
         "1",
         "10"
        ],
        [
         "35",
         "36",
         "1",
         "5"
        ],
        [
         "36",
         "37",
         "1",
         "4"
        ],
        [
         "37",
         "38",
         "1",
         "2"
        ],
        [
         "38",
         "39",
         "1",
         "6"
        ],
        [
         "39",
         "40",
         "1",
         "7"
        ],
        [
         "40",
         "41",
         "1",
         "5"
        ],
        [
         "41",
         "42",
         "1",
         "8"
        ],
        [
         "42",
         "43",
         "1",
         "12"
        ],
        [
         "43",
         "44",
         "1",
         "5"
        ],
        [
         "44",
         "45",
         "1",
         "5"
        ],
        [
         "45",
         "46",
         "1",
         "9"
        ],
        [
         "46",
         "47",
         "1",
         "3"
        ],
        [
         "47",
         "48",
         "1",
         "2"
        ],
        [
         "48",
         "49",
         "1",
         "1"
        ],
        [
         "49",
         "50",
         "1",
         "2"
        ]
       ],
       "shape": {
        "columns": 3,
        "rows": 535
       }
      },
      "text/html": [
       "<div>\n",
       "<style scoped>\n",
       "    .dataframe tbody tr th:only-of-type {\n",
       "        vertical-align: middle;\n",
       "    }\n",
       "\n",
       "    .dataframe tbody tr th {\n",
       "        vertical-align: top;\n",
       "    }\n",
       "\n",
       "    .dataframe thead th {\n",
       "        text-align: right;\n",
       "    }\n",
       "</style>\n",
       "<table border=\"1\" class=\"dataframe\">\n",
       "  <thead>\n",
       "    <tr style=\"text-align: right;\">\n",
       "      <th></th>\n",
       "      <th>moduloid</th>\n",
       "      <th>productlineid</th>\n",
       "      <th>slotid</th>\n",
       "    </tr>\n",
       "  </thead>\n",
       "  <tbody>\n",
       "    <tr>\n",
       "      <th>0</th>\n",
       "      <td>0</td>\n",
       "      <td>1</td>\n",
       "      <td>1</td>\n",
       "    </tr>\n",
       "    <tr>\n",
       "      <th>1</th>\n",
       "      <td>1</td>\n",
       "      <td>1</td>\n",
       "      <td>9</td>\n",
       "    </tr>\n",
       "    <tr>\n",
       "      <th>2</th>\n",
       "      <td>2</td>\n",
       "      <td>1</td>\n",
       "      <td>26</td>\n",
       "    </tr>\n",
       "    <tr>\n",
       "      <th>3</th>\n",
       "      <td>3</td>\n",
       "      <td>1</td>\n",
       "      <td>5</td>\n",
       "    </tr>\n",
       "    <tr>\n",
       "      <th>4</th>\n",
       "      <td>4</td>\n",
       "      <td>1</td>\n",
       "      <td>21</td>\n",
       "    </tr>\n",
       "    <tr>\n",
       "      <th>...</th>\n",
       "      <td>...</td>\n",
       "      <td>...</td>\n",
       "      <td>...</td>\n",
       "    </tr>\n",
       "    <tr>\n",
       "      <th>530</th>\n",
       "      <td>6944</td>\n",
       "      <td>1</td>\n",
       "      <td>2</td>\n",
       "    </tr>\n",
       "    <tr>\n",
       "      <th>531</th>\n",
       "      <td>6945</td>\n",
       "      <td>1</td>\n",
       "      <td>3</td>\n",
       "    </tr>\n",
       "    <tr>\n",
       "      <th>532</th>\n",
       "      <td>7503</td>\n",
       "      <td>1</td>\n",
       "      <td>1</td>\n",
       "    </tr>\n",
       "    <tr>\n",
       "      <th>533</th>\n",
       "      <td>7504</td>\n",
       "      <td>1</td>\n",
       "      <td>2</td>\n",
       "    </tr>\n",
       "    <tr>\n",
       "      <th>534</th>\n",
       "      <td>7505</td>\n",
       "      <td>1</td>\n",
       "      <td>1</td>\n",
       "    </tr>\n",
       "  </tbody>\n",
       "</table>\n",
       "<p>535 rows × 3 columns</p>\n",
       "</div>"
      ],
      "text/plain": [
       "     moduloid  productlineid  slotid\n",
       "0           0              1       1\n",
       "1           1              1       9\n",
       "2           2              1      26\n",
       "3           3              1       5\n",
       "4           4              1      21\n",
       "..        ...            ...     ...\n",
       "530      6944              1       2\n",
       "531      6945              1       3\n",
       "532      7503              1       1\n",
       "533      7504              1       2\n",
       "534      7505              1       1\n",
       "\n",
       "[535 rows x 3 columns]"
      ]
     },
     "execution_count": 30,
     "metadata": {},
     "output_type": "execute_result"
    }
   ],
   "source": [
    "# Análise da relação entre as colunas de id dos produtos\n",
    "\n",
    "df_moduloid = df.groupby('moduloid').agg({'productlineid': 'nunique', 'slotid': 'nunique'}).reset_index()\n",
    "df_moduloid"
   ]
  },
  {
   "cell_type": "code",
   "execution_count": 31,
   "id": "966103d8",
   "metadata": {},
   "outputs": [
    {
     "data": {
      "application/vnd.microsoft.datawrangler.viewer.v0+json": {
       "columns": [
        {
         "name": "index",
         "rawType": "int64",
         "type": "integer"
        },
        {
         "name": "productlineid",
         "rawType": "int64",
         "type": "integer"
        },
        {
         "name": "moduloid",
         "rawType": "int64",
         "type": "integer"
        },
        {
         "name": "slotid",
         "rawType": "int64",
         "type": "integer"
        }
       ],
       "ref": "167027a4-eb3f-415a-bb9d-8a6aa354b5c1",
       "rows": [
        [
         "0",
         "0",
         "17",
         "34"
        ],
        [
         "1",
         "1",
         "61",
         "30"
        ],
        [
         "2",
         "2",
         "100",
         "144"
        ],
        [
         "3",
         "3",
         "31",
         "72"
        ],
        [
         "4",
         "6",
         "177",
         "81"
        ],
        [
         "5",
         "8",
         "46",
         "13"
        ],
        [
         "6",
         "9",
         "40",
         "14"
        ],
        [
         "7",
         "11",
         "36",
         "36"
        ],
        [
         "8",
         "12",
         "1",
         "6"
        ],
        [
         "9",
         "13",
         "24",
         "24"
        ],
        [
         "10",
         "14",
         "1",
         "2"
        ],
        [
         "11",
         "99",
         "1",
         "1"
        ]
       ],
       "shape": {
        "columns": 3,
        "rows": 12
       }
      },
      "text/html": [
       "<div>\n",
       "<style scoped>\n",
       "    .dataframe tbody tr th:only-of-type {\n",
       "        vertical-align: middle;\n",
       "    }\n",
       "\n",
       "    .dataframe tbody tr th {\n",
       "        vertical-align: top;\n",
       "    }\n",
       "\n",
       "    .dataframe thead th {\n",
       "        text-align: right;\n",
       "    }\n",
       "</style>\n",
       "<table border=\"1\" class=\"dataframe\">\n",
       "  <thead>\n",
       "    <tr style=\"text-align: right;\">\n",
       "      <th></th>\n",
       "      <th>productlineid</th>\n",
       "      <th>moduloid</th>\n",
       "      <th>slotid</th>\n",
       "    </tr>\n",
       "  </thead>\n",
       "  <tbody>\n",
       "    <tr>\n",
       "      <th>0</th>\n",
       "      <td>0</td>\n",
       "      <td>17</td>\n",
       "      <td>34</td>\n",
       "    </tr>\n",
       "    <tr>\n",
       "      <th>1</th>\n",
       "      <td>1</td>\n",
       "      <td>61</td>\n",
       "      <td>30</td>\n",
       "    </tr>\n",
       "    <tr>\n",
       "      <th>2</th>\n",
       "      <td>2</td>\n",
       "      <td>100</td>\n",
       "      <td>144</td>\n",
       "    </tr>\n",
       "    <tr>\n",
       "      <th>3</th>\n",
       "      <td>3</td>\n",
       "      <td>31</td>\n",
       "      <td>72</td>\n",
       "    </tr>\n",
       "    <tr>\n",
       "      <th>4</th>\n",
       "      <td>6</td>\n",
       "      <td>177</td>\n",
       "      <td>81</td>\n",
       "    </tr>\n",
       "    <tr>\n",
       "      <th>5</th>\n",
       "      <td>8</td>\n",
       "      <td>46</td>\n",
       "      <td>13</td>\n",
       "    </tr>\n",
       "    <tr>\n",
       "      <th>6</th>\n",
       "      <td>9</td>\n",
       "      <td>40</td>\n",
       "      <td>14</td>\n",
       "    </tr>\n",
       "    <tr>\n",
       "      <th>7</th>\n",
       "      <td>11</td>\n",
       "      <td>36</td>\n",
       "      <td>36</td>\n",
       "    </tr>\n",
       "    <tr>\n",
       "      <th>8</th>\n",
       "      <td>12</td>\n",
       "      <td>1</td>\n",
       "      <td>6</td>\n",
       "    </tr>\n",
       "    <tr>\n",
       "      <th>9</th>\n",
       "      <td>13</td>\n",
       "      <td>24</td>\n",
       "      <td>24</td>\n",
       "    </tr>\n",
       "    <tr>\n",
       "      <th>10</th>\n",
       "      <td>14</td>\n",
       "      <td>1</td>\n",
       "      <td>2</td>\n",
       "    </tr>\n",
       "    <tr>\n",
       "      <th>11</th>\n",
       "      <td>99</td>\n",
       "      <td>1</td>\n",
       "      <td>1</td>\n",
       "    </tr>\n",
       "  </tbody>\n",
       "</table>\n",
       "</div>"
      ],
      "text/plain": [
       "    productlineid  moduloid  slotid\n",
       "0               0        17      34\n",
       "1               1        61      30\n",
       "2               2       100     144\n",
       "3               3        31      72\n",
       "4               6       177      81\n",
       "5               8        46      13\n",
       "6               9        40      14\n",
       "7              11        36      36\n",
       "8              12         1       6\n",
       "9              13        24      24\n",
       "10             14         1       2\n",
       "11             99         1       1"
      ]
     },
     "execution_count": 31,
     "metadata": {},
     "output_type": "execute_result"
    }
   ],
   "source": [
    "df_productlineid = df.groupby('productlineid').agg({'moduloid': 'nunique', 'slotid': 'nunique'}).reset_index()\n",
    "df_productlineid"
   ]
  },
  {
   "cell_type": "code",
   "execution_count": 32,
   "id": "2da0ae66",
   "metadata": {},
   "outputs": [
    {
     "data": {
      "application/vnd.microsoft.datawrangler.viewer.v0+json": {
       "columns": [
        {
         "name": "index",
         "rawType": "int64",
         "type": "integer"
        },
        {
         "name": "slotid",
         "rawType": "int64",
         "type": "integer"
        },
        {
         "name": "productlineid",
         "rawType": "int64",
         "type": "integer"
        },
        {
         "name": "moduloid",
         "rawType": "int64",
         "type": "integer"
        }
       ],
       "ref": "4e4af843-74f0-49bf-bfbc-5388acaf7e29",
       "rows": [
        [
         "0",
         "0",
         "8",
         "144"
        ],
        [
         "1",
         "1",
         "1",
         "1"
        ],
        [
         "2",
         "2",
         "1",
         "1"
        ],
        [
         "3",
         "3",
         "1",
         "1"
        ],
        [
         "4",
         "4",
         "1",
         "1"
        ],
        [
         "5",
         "5",
         "1",
         "1"
        ],
        [
         "6",
         "6",
         "1",
         "1"
        ],
        [
         "7",
         "7",
         "1",
         "1"
        ],
        [
         "8",
         "8",
         "1",
         "1"
        ],
        [
         "9",
         "9",
         "1",
         "1"
        ],
        [
         "10",
         "10",
         "1",
         "1"
        ],
        [
         "11",
         "11",
         "1",
         "1"
        ],
        [
         "12",
         "12",
         "1",
         "1"
        ],
        [
         "13",
         "13",
         "1",
         "1"
        ],
        [
         "14",
         "14",
         "1",
         "1"
        ],
        [
         "15",
         "16",
         "1",
         "1"
        ],
        [
         "16",
         "17",
         "1",
         "1"
        ],
        [
         "17",
         "19",
         "1",
         "1"
        ],
        [
         "18",
         "20",
         "1",
         "1"
        ],
        [
         "19",
         "21",
         "1",
         "1"
        ],
        [
         "20",
         "24",
         "1",
         "1"
        ],
        [
         "21",
         "26",
         "1",
         "1"
        ],
        [
         "22",
         "28",
         "1",
         "1"
        ],
        [
         "23",
         "29",
         "1",
         "1"
        ],
        [
         "24",
         "30",
         "1",
         "1"
        ],
        [
         "25",
         "31",
         "1",
         "1"
        ],
        [
         "26",
         "33",
         "1",
         "1"
        ],
        [
         "27",
         "34",
         "1",
         "1"
        ],
        [
         "28",
         "35",
         "1",
         "1"
        ],
        [
         "29",
         "39",
         "1",
         "1"
        ],
        [
         "30",
         "40",
         "1",
         "1"
        ],
        [
         "31",
         "41",
         "1",
         "1"
        ],
        [
         "32",
         "42",
         "1",
         "1"
        ],
        [
         "33",
         "43",
         "1",
         "1"
        ],
        [
         "34",
         "45",
         "1",
         "1"
        ],
        [
         "35",
         "46",
         "1",
         "1"
        ],
        [
         "36",
         "50",
         "1",
         "1"
        ],
        [
         "37",
         "51",
         "1",
         "1"
        ],
        [
         "38",
         "53",
         "1",
         "1"
        ],
        [
         "39",
         "54",
         "1",
         "1"
        ],
        [
         "40",
         "55",
         "1",
         "1"
        ],
        [
         "41",
         "56",
         "1",
         "1"
        ],
        [
         "42",
         "59",
         "1",
         "1"
        ],
        [
         "43",
         "61",
         "1",
         "1"
        ],
        [
         "44",
         "67",
         "1",
         "1"
        ],
        [
         "45",
         "69",
         "1",
         "1"
        ],
        [
         "46",
         "72",
         "1",
         "1"
        ],
        [
         "47",
         "73",
         "1",
         "1"
        ],
        [
         "48",
         "76",
         "1",
         "1"
        ],
        [
         "49",
         "77",
         "1",
         "1"
        ]
       ],
       "shape": {
        "columns": 3,
        "rows": 339
       }
      },
      "text/html": [
       "<div>\n",
       "<style scoped>\n",
       "    .dataframe tbody tr th:only-of-type {\n",
       "        vertical-align: middle;\n",
       "    }\n",
       "\n",
       "    .dataframe tbody tr th {\n",
       "        vertical-align: top;\n",
       "    }\n",
       "\n",
       "    .dataframe thead th {\n",
       "        text-align: right;\n",
       "    }\n",
       "</style>\n",
       "<table border=\"1\" class=\"dataframe\">\n",
       "  <thead>\n",
       "    <tr style=\"text-align: right;\">\n",
       "      <th></th>\n",
       "      <th>slotid</th>\n",
       "      <th>productlineid</th>\n",
       "      <th>moduloid</th>\n",
       "    </tr>\n",
       "  </thead>\n",
       "  <tbody>\n",
       "    <tr>\n",
       "      <th>0</th>\n",
       "      <td>0</td>\n",
       "      <td>8</td>\n",
       "      <td>144</td>\n",
       "    </tr>\n",
       "    <tr>\n",
       "      <th>1</th>\n",
       "      <td>1</td>\n",
       "      <td>1</td>\n",
       "      <td>1</td>\n",
       "    </tr>\n",
       "    <tr>\n",
       "      <th>2</th>\n",
       "      <td>2</td>\n",
       "      <td>1</td>\n",
       "      <td>1</td>\n",
       "    </tr>\n",
       "    <tr>\n",
       "      <th>3</th>\n",
       "      <td>3</td>\n",
       "      <td>1</td>\n",
       "      <td>1</td>\n",
       "    </tr>\n",
       "    <tr>\n",
       "      <th>4</th>\n",
       "      <td>4</td>\n",
       "      <td>1</td>\n",
       "      <td>1</td>\n",
       "    </tr>\n",
       "    <tr>\n",
       "      <th>...</th>\n",
       "      <td>...</td>\n",
       "      <td>...</td>\n",
       "      <td>...</td>\n",
       "    </tr>\n",
       "    <tr>\n",
       "      <th>334</th>\n",
       "      <td>5722</td>\n",
       "      <td>1</td>\n",
       "      <td>1</td>\n",
       "    </tr>\n",
       "    <tr>\n",
       "      <th>335</th>\n",
       "      <td>5779</td>\n",
       "      <td>1</td>\n",
       "      <td>1</td>\n",
       "    </tr>\n",
       "    <tr>\n",
       "      <th>336</th>\n",
       "      <td>5783</td>\n",
       "      <td>1</td>\n",
       "      <td>1</td>\n",
       "    </tr>\n",
       "    <tr>\n",
       "      <th>337</th>\n",
       "      <td>5981</td>\n",
       "      <td>1</td>\n",
       "      <td>1</td>\n",
       "    </tr>\n",
       "    <tr>\n",
       "      <th>338</th>\n",
       "      <td>6500</td>\n",
       "      <td>1</td>\n",
       "      <td>1</td>\n",
       "    </tr>\n",
       "  </tbody>\n",
       "</table>\n",
       "<p>339 rows × 3 columns</p>\n",
       "</div>"
      ],
      "text/plain": [
       "     slotid  productlineid  moduloid\n",
       "0         0              8       144\n",
       "1         1              1         1\n",
       "2         2              1         1\n",
       "3         3              1         1\n",
       "4         4              1         1\n",
       "..      ...            ...       ...\n",
       "334    5722              1         1\n",
       "335    5779              1         1\n",
       "336    5783              1         1\n",
       "337    5981              1         1\n",
       "338    6500              1         1\n",
       "\n",
       "[339 rows x 3 columns]"
      ]
     },
     "execution_count": 32,
     "metadata": {},
     "output_type": "execute_result"
    }
   ],
   "source": [
    "df_slotid = df.groupby('slotid').agg({'productlineid': 'nunique', 'moduloid': 'nunique'}).reset_index()\n",
    "df_slotid"
   ]
  },
  {
   "cell_type": "markdown",
   "id": "2def5f48",
   "metadata": {},
   "source": [
    "É possível estasbelecer uma certa hierarquia entre os diferentes ids de produtos: moduloid pertence a um productlineid, enquanto que cada slotid pertence, majoritariamente, a um moduloid e a um productlineid, mas essa relação não é direta"
   ]
  },
  {
   "cell_type": "markdown",
   "id": "889fe6ef",
   "metadata": {},
   "source": [
    "# Preparando os dados para clusterização"
   ]
  },
  {
   "cell_type": "code",
   "execution_count": 33,
   "id": "c0ea23e7",
   "metadata": {},
   "outputs": [],
   "source": [
    "# Conmvetendo o código da loja em código do cliente (removendo últiumos 2 dígitos)\n",
    "df['clienteid'] = df['clienteid'].str[:-2]"
   ]
  },
  {
   "cell_type": "code",
   "execution_count": 34,
   "id": "09c70121",
   "metadata": {},
   "outputs": [],
   "source": [
    "# Definindo função de agregação pela moda\n",
    "\n",
    "def agg_moda(x):\n",
    "    m = x.dropna().mode()\n",
    "    if not m.empty:\n",
    "        return m.iloc[0]\n",
    "    return np.nan"
   ]
  },
  {
   "cell_type": "code",
   "execution_count": 35,
   "id": "53d12d59",
   "metadata": {},
   "outputs": [],
   "source": [
    "# Criando coluna para contagem de casos\n",
    "\n",
    "df['contagem'] = 1"
   ]
  },
  {
   "cell_type": "code",
   "execution_count": 36,
   "id": "4dbb9008",
   "metadata": {},
   "outputs": [],
   "source": [
    "# Agrupando o df por cliente\n",
    "\n",
    "df_agrupado = df.groupby('clienteid').agg({\n",
    "                             'moduloid': agg_moda,\n",
    "                             'productlineid': agg_moda,\n",
    "                             'slotid': agg_moda,\n",
    "                             'statuslicenca': agg_moda,\n",
    "                             'contagem': 'count'}).reset_index()"
   ]
  },
  {
   "cell_type": "code",
   "execution_count": 37,
   "id": "4dba6a7d",
   "metadata": {},
   "outputs": [],
   "source": [
    "df_agrupado.columns = ['clienteid',\n",
    "                       'moduloid_moda',\n",
    "                       'productlineid_moda',\n",
    "                       'slotid_moda',\n",
    "                       'statuslicenca_moda',\n",
    "                       'contagem']"
   ]
  },
  {
   "cell_type": "code",
   "execution_count": 38,
   "id": "cb1e1434",
   "metadata": {},
   "outputs": [
    {
     "data": {
      "application/vnd.microsoft.datawrangler.viewer.v0+json": {
       "columns": [
        {
         "name": "index",
         "rawType": "int64",
         "type": "integer"
        },
        {
         "name": "clienteid",
         "rawType": "object",
         "type": "string"
        },
        {
         "name": "moduloid_moda",
         "rawType": "int64",
         "type": "integer"
        },
        {
         "name": "productlineid_moda",
         "rawType": "int64",
         "type": "integer"
        },
        {
         "name": "slotid_moda",
         "rawType": "int64",
         "type": "integer"
        },
        {
         "name": "statuslicenca_moda",
         "rawType": "object",
         "type": "unknown"
        },
        {
         "name": "contagem",
         "rawType": "int64",
         "type": "integer"
        }
       ],
       "ref": "566a4221-99d4-4005-8d9a-47e32049cdb6",
       "rows": [
        [
         "0",
         "T00053",
         "5553",
         "6",
         "4000",
         "Desconectado",
         "4400"
        ],
        [
         "1",
         "T00082",
         "5629",
         "6",
         "4004",
         "Desconectado",
         "3103"
        ],
        [
         "2",
         "T00145",
         "5",
         "2",
         "4000",
         "Desconectado",
         "1022"
        ],
        [
         "3",
         "T00245",
         "5",
         "2",
         "4000",
         "Desconectado",
         "303"
        ],
        [
         "4",
         "T00255",
         "516",
         "3",
         "0",
         "Desconectado",
         "1261"
        ],
        [
         "5",
         "T00336",
         "5",
         "2",
         "4000",
         "Desconectado",
         "11197"
        ],
        [
         "6",
         "T00390",
         "2",
         "2",
         "4000",
         "Desconectado",
         "1761"
        ],
        [
         "7",
         "T00538",
         "520",
         "3",
         "0",
         "Desconectado",
         "14385"
        ],
        [
         "8",
         "T00546",
         "523",
         "3",
         "0",
         "Desconectado",
         "490"
        ],
        [
         "9",
         "T00631",
         "9",
         "2",
         "4134",
         null,
         "6"
        ],
        [
         "10",
         "T00673",
         "6",
         "2",
         "4000",
         "Desconectado",
         "3707"
        ],
        [
         "11",
         "T00686",
         "5553",
         "6",
         "4000",
         "Desconectado",
         "147"
        ],
        [
         "12",
         "T00737",
         "2",
         "2",
         "4000",
         "Desconectado",
         "1923"
        ],
        [
         "13",
         "T00788",
         "520",
         "3",
         "0",
         "Desconectado",
         "8930"
        ],
        [
         "14",
         "T00971",
         "6",
         "2",
         "4024",
         "Desconectado",
         "1156"
        ],
        [
         "15",
         "T01008",
         "5",
         "2",
         "4016",
         "Desconectado",
         "1566"
        ],
        [
         "16",
         "T01060",
         "2",
         "2",
         "0",
         "Desconectado",
         "1821"
        ],
        [
         "17",
         "T01085",
         "200",
         "2",
         "0",
         "Desconectado",
         "992"
        ],
        [
         "18",
         "T01104",
         "33",
         "2",
         "0",
         "Desconectado",
         "5547"
        ],
        [
         "19",
         "T01127",
         "5",
         "2",
         "4000",
         "Desconectado",
         "542"
        ],
        [
         "20",
         "T01134",
         "520",
         "3",
         "0",
         "Desconectado",
         "6182"
        ],
        [
         "21",
         "T01173",
         "2",
         "2",
         "4000",
         "Desconectado",
         "5380"
        ],
        [
         "22",
         "T01205",
         "5",
         "2",
         "4000",
         "Desconectado",
         "5216"
        ],
        [
         "23",
         "T01254",
         "5629",
         "6",
         "4000",
         "Desconectado",
         "1471"
        ],
        [
         "24",
         "T01259",
         "738",
         "9",
         "3502",
         "Desconectado",
         "9926"
        ],
        [
         "25",
         "T01351",
         "2",
         "2",
         "4024",
         "Desconectado",
         "473"
        ],
        [
         "26",
         "T01356",
         "84",
         "2",
         "4000",
         "Desconectado",
         "247"
        ],
        [
         "27",
         "T01384",
         "43",
         "2",
         "4171",
         "Desconectado",
         "7422"
        ],
        [
         "28",
         "T01436",
         "6",
         "2",
         "4000",
         "Desconectado",
         "1683"
        ],
        [
         "29",
         "T01487",
         "6",
         "2",
         "4000",
         "Desconectado",
         "1359"
        ],
        [
         "30",
         "T01502",
         "5209",
         "6",
         "0",
         "Desconectado",
         "79897"
        ],
        [
         "31",
         "T01526",
         "7",
         "2",
         "4000",
         "Desconectado",
         "26"
        ],
        [
         "32",
         "T01567",
         "7",
         "2",
         "4000",
         "Desconectado",
         "723"
        ],
        [
         "33",
         "T01667",
         "4007",
         "6",
         "4000",
         "Desconectado",
         "2258"
        ],
        [
         "34",
         "T01670",
         "5",
         "2",
         "4000",
         "Desconectado",
         "4925"
        ],
        [
         "35",
         "T01690",
         "520",
         "3",
         "0",
         "Desconectado",
         "10111"
        ],
        [
         "36",
         "T01695",
         "2",
         "2",
         "4000",
         "Desconectado",
         "54"
        ],
        [
         "37",
         "T01702",
         "6",
         "2",
         "4000",
         "Desconectado",
         "1715"
        ],
        [
         "38",
         "T01724",
         "84",
         "2",
         "4000",
         "Desconectado",
         "477"
        ],
        [
         "39",
         "T01726",
         "6",
         "2",
         "0",
         "Desconectado",
         "819"
        ],
        [
         "40",
         "T01743",
         "6",
         "2",
         "4000",
         "Desconectado",
         "807"
        ],
        [
         "41",
         "T01759",
         "5",
         "2",
         "4000",
         "Desconectado",
         "481"
        ],
        [
         "42",
         "T01777",
         "5",
         "2",
         "4000",
         "Desconectado",
         "594"
        ],
        [
         "43",
         "T01846",
         "4",
         "2",
         "4000",
         "Desconectado",
         "2871"
        ],
        [
         "44",
         "T01872",
         "6",
         "2",
         "4000",
         "Desconectado",
         "739"
        ],
        [
         "45",
         "T01877",
         "5",
         "2",
         "4000",
         "Desconectado",
         "5143"
        ],
        [
         "46",
         "T01899",
         "5",
         "2",
         "4000",
         "Desconectado",
         "2091"
        ],
        [
         "47",
         "T01901",
         "5",
         "2",
         "4000",
         "Desconectado",
         "3536"
        ],
        [
         "48",
         "T02069",
         "6",
         "2",
         "4000",
         "Desconectado",
         "3747"
        ],
        [
         "49",
         "T02072",
         "4093",
         "2",
         "4000",
         "Desconectado",
         "2164"
        ]
       ],
       "shape": {
        "columns": 6,
        "rows": 4465
       }
      },
      "text/html": [
       "<div>\n",
       "<style scoped>\n",
       "    .dataframe tbody tr th:only-of-type {\n",
       "        vertical-align: middle;\n",
       "    }\n",
       "\n",
       "    .dataframe tbody tr th {\n",
       "        vertical-align: top;\n",
       "    }\n",
       "\n",
       "    .dataframe thead th {\n",
       "        text-align: right;\n",
       "    }\n",
       "</style>\n",
       "<table border=\"1\" class=\"dataframe\">\n",
       "  <thead>\n",
       "    <tr style=\"text-align: right;\">\n",
       "      <th></th>\n",
       "      <th>clienteid</th>\n",
       "      <th>moduloid_moda</th>\n",
       "      <th>productlineid_moda</th>\n",
       "      <th>slotid_moda</th>\n",
       "      <th>statuslicenca_moda</th>\n",
       "      <th>contagem</th>\n",
       "    </tr>\n",
       "  </thead>\n",
       "  <tbody>\n",
       "    <tr>\n",
       "      <th>0</th>\n",
       "      <td>T00053</td>\n",
       "      <td>5553</td>\n",
       "      <td>6</td>\n",
       "      <td>4000</td>\n",
       "      <td>Desconectado</td>\n",
       "      <td>4400</td>\n",
       "    </tr>\n",
       "    <tr>\n",
       "      <th>1</th>\n",
       "      <td>T00082</td>\n",
       "      <td>5629</td>\n",
       "      <td>6</td>\n",
       "      <td>4004</td>\n",
       "      <td>Desconectado</td>\n",
       "      <td>3103</td>\n",
       "    </tr>\n",
       "    <tr>\n",
       "      <th>2</th>\n",
       "      <td>T00145</td>\n",
       "      <td>5</td>\n",
       "      <td>2</td>\n",
       "      <td>4000</td>\n",
       "      <td>Desconectado</td>\n",
       "      <td>1022</td>\n",
       "    </tr>\n",
       "    <tr>\n",
       "      <th>3</th>\n",
       "      <td>T00245</td>\n",
       "      <td>5</td>\n",
       "      <td>2</td>\n",
       "      <td>4000</td>\n",
       "      <td>Desconectado</td>\n",
       "      <td>303</td>\n",
       "    </tr>\n",
       "    <tr>\n",
       "      <th>4</th>\n",
       "      <td>T00255</td>\n",
       "      <td>516</td>\n",
       "      <td>3</td>\n",
       "      <td>0</td>\n",
       "      <td>Desconectado</td>\n",
       "      <td>1261</td>\n",
       "    </tr>\n",
       "    <tr>\n",
       "      <th>...</th>\n",
       "      <td>...</td>\n",
       "      <td>...</td>\n",
       "      <td>...</td>\n",
       "      <td>...</td>\n",
       "      <td>...</td>\n",
       "      <td>...</td>\n",
       "    </tr>\n",
       "    <tr>\n",
       "      <th>4460</th>\n",
       "      <td>TFEE30</td>\n",
       "      <td>9</td>\n",
       "      <td>2</td>\n",
       "      <td>4134</td>\n",
       "      <td>NaN</td>\n",
       "      <td>4</td>\n",
       "    </tr>\n",
       "    <tr>\n",
       "      <th>4461</th>\n",
       "      <td>TFEE44</td>\n",
       "      <td>22</td>\n",
       "      <td>2</td>\n",
       "      <td>4027</td>\n",
       "      <td>Desconectado</td>\n",
       "      <td>131</td>\n",
       "    </tr>\n",
       "    <tr>\n",
       "      <th>4462</th>\n",
       "      <td>TFEE47</td>\n",
       "      <td>534</td>\n",
       "      <td>3</td>\n",
       "      <td>4001</td>\n",
       "      <td>Desconectado</td>\n",
       "      <td>10376</td>\n",
       "    </tr>\n",
       "    <tr>\n",
       "      <th>4463</th>\n",
       "      <td>TFEEAA</td>\n",
       "      <td>99</td>\n",
       "      <td>2</td>\n",
       "      <td>0</td>\n",
       "      <td>Desconectado</td>\n",
       "      <td>8</td>\n",
       "    </tr>\n",
       "    <tr>\n",
       "      <th>4464</th>\n",
       "      <td>TFEEEH</td>\n",
       "      <td>6</td>\n",
       "      <td>2</td>\n",
       "      <td>4022</td>\n",
       "      <td>Desconectado</td>\n",
       "      <td>16</td>\n",
       "    </tr>\n",
       "  </tbody>\n",
       "</table>\n",
       "<p>4465 rows × 6 columns</p>\n",
       "</div>"
      ],
      "text/plain": [
       "     clienteid  moduloid_moda  productlineid_moda  slotid_moda  \\\n",
       "0       T00053           5553                   6         4000   \n",
       "1       T00082           5629                   6         4004   \n",
       "2       T00145              5                   2         4000   \n",
       "3       T00245              5                   2         4000   \n",
       "4       T00255            516                   3            0   \n",
       "...        ...            ...                 ...          ...   \n",
       "4460    TFEE30              9                   2         4134   \n",
       "4461    TFEE44             22                   2         4027   \n",
       "4462    TFEE47            534                   3         4001   \n",
       "4463    TFEEAA             99                   2            0   \n",
       "4464    TFEEEH              6                   2         4022   \n",
       "\n",
       "     statuslicenca_moda  contagem  \n",
       "0          Desconectado      4400  \n",
       "1          Desconectado      3103  \n",
       "2          Desconectado      1022  \n",
       "3          Desconectado       303  \n",
       "4          Desconectado      1261  \n",
       "...                 ...       ...  \n",
       "4460                NaN         4  \n",
       "4461       Desconectado       131  \n",
       "4462       Desconectado     10376  \n",
       "4463       Desconectado         8  \n",
       "4464       Desconectado        16  \n",
       "\n",
       "[4465 rows x 6 columns]"
      ]
     },
     "execution_count": 38,
     "metadata": {},
     "output_type": "execute_result"
    }
   ],
   "source": [
    "df_agrupado"
   ]
  },
  {
   "cell_type": "code",
   "execution_count": 39,
   "id": "1737914c",
   "metadata": {},
   "outputs": [],
   "source": [
    "df_agrupado_2 = df_agrupado.copy()"
   ]
  },
  {
   "cell_type": "code",
   "execution_count": 40,
   "id": "08cba9ad",
   "metadata": {},
   "outputs": [
    {
     "name": "stderr",
     "output_type": "stream",
     "text": [
      "C:\\Users\\gxmar\\AppData\\Local\\Temp\\ipykernel_23128\\164437551.py:4: FutureWarning: A value is trying to be set on a copy of a DataFrame or Series through chained assignment using an inplace method.\n",
      "The behavior will change in pandas 3.0. This inplace method will never work because the intermediate object on which we are setting values always behaves as a copy.\n",
      "\n",
      "For example, when doing 'df[col].method(value, inplace=True)', try using 'df.method({col: value}, inplace=True)' or df[col] = df[col].method(value) instead, to perform the operation inplace on the original object.\n",
      "\n",
      "\n",
      "  df_agrupado[\"statuslicenca_moda\"].fillna(\"Desconhecido\", inplace=True)\n"
     ]
    }
   ],
   "source": [
    "# Frequency encoding da coluna 'statuslicenca_moda'\n",
    "\n",
    "# Preenchendo valores nulos\n",
    "df_agrupado[\"statuslicenca_moda\"].fillna(\"Desconhecido\", inplace=True)\n",
    "\n",
    "# Contar frequência\n",
    "freq = df_agrupado[\"statuslicenca_moda\"].value_counts() / len(df_agrupado)\n",
    "\n",
    "# Mapear frequência de volta para a coluna\n",
    "df_agrupado[\"statuslicenca_moda_encoded\"] = df_agrupado[\"statuslicenca_moda\"].map(freq) "
   ]
  },
  {
   "cell_type": "code",
   "execution_count": 41,
   "id": "993acc56",
   "metadata": {},
   "outputs": [],
   "source": [
    "df_agrupado = df_agrupado.drop('statuslicenca_moda', axis=1)"
   ]
  },
  {
   "cell_type": "code",
   "execution_count": 42,
   "id": "7622a21d",
   "metadata": {},
   "outputs": [
    {
     "data": {
      "text/plain": [
       "Index(['clienteid', 'moduloid_moda', 'productlineid_moda', 'slotid_moda',\n",
       "       'contagem', 'statuslicenca_moda_encoded'],\n",
       "      dtype='object')"
      ]
     },
     "execution_count": 42,
     "metadata": {},
     "output_type": "execute_result"
    }
   ],
   "source": [
    "df_agrupado.columns"
   ]
  },
  {
   "cell_type": "code",
   "execution_count": 43,
   "id": "97886ede",
   "metadata": {},
   "outputs": [],
   "source": [
    "# Normalizando as colunas\n",
    "\n",
    "colunas_a_normalizar = df_agrupado.columns.tolist()\n",
    "colunas_a_normalizar.remove('clienteid')\n",
    "scaler = MinMaxScaler()\n",
    "df_agrupado[colunas_a_normalizar] = scaler.fit_transform(df_agrupado[colunas_a_normalizar])"
   ]
  },
  {
   "cell_type": "markdown",
   "id": "570ef160",
   "metadata": {},
   "source": [
    "# Definindo o número de clusters"
   ]
  },
  {
   "cell_type": "code",
   "execution_count": 44,
   "id": "f6742eed",
   "metadata": {},
   "outputs": [],
   "source": [
    "# Função para exibir as diferentes avaliações para o número de clusters\n",
    "\n",
    "def define_numero_clusters(x):\n",
    "    # Elbow method\n",
    "    model = KMeans()\n",
    "    visualizer = KElbowVisualizer(model, k=(1,30))\n",
    "    visualizer.fit(x)\n",
    "    visualizer.show()\n",
    "\n",
    "    # Silhouette method\n",
    "    model = KMeans()\n",
    "    visualizer = KElbowVisualizer(model, k=(2,30), metric='silhouette', timings=True)\n",
    "    visualizer.fit(x)\n",
    "    visualizer.show()\n",
    "\n",
    "    # Calinski harabaz method\n",
    "    model = KMeans()\n",
    "    visualizer = KElbowVisualizer(model, k=(2,30), metric='calinski_harabasz', timings=True)\n",
    "    visualizer.fit(x)\n",
    "    visualizer.show()"
   ]
  },
  {
   "cell_type": "code",
   "execution_count": 45,
   "id": "6e60a314",
   "metadata": {},
   "outputs": [
    {
     "data": {
      "image/png": "[encoded data removed]",
      "text/plain": [
       "<Figure size 800x550 with 2 Axes>"
      ]
     },
     "metadata": {},
     "output_type": "display_data"
    },
    {
     "data": {
      "image/png": "[encoded data removed]",
      "text/plain": [
       "<Figure size 800x550 with 2 Axes>"
      ]
     },
     "metadata": {},
     "output_type": "display_data"
    },
    {
     "data": {
      "image/png": "[encoded data removed]",
      "text/plain": [
       "<Figure size 800x550 with 2 Axes>"
      ]
     },
     "metadata": {},
     "output_type": "display_data"
    }
   ],
   "source": [
    "features = df_agrupado.columns.tolist()\n",
    "features.remove('clienteid')\n",
    "\n",
    "x = df_agrupado[features].values\n",
    "\n",
    "define_numero_clusters(x)"
   ]
  },
  {
   "cell_type": "markdown",
   "id": "efbb5edb",
   "metadata": {},
   "source": [
    "# Clusterização com Kmeans"
   ]
  },
  {
   "cell_type": "code",
   "execution_count": 46,
   "id": "1637a6d6",
   "metadata": {},
   "outputs": [],
   "source": [
    "# Função para clusterazação com kmeans\n",
    "\n",
    "def clusterização_kmeans(k):\n",
    "    kmeans = KMeans(n_clusters=k, random_state=42)\n",
    "    kmeans.fit(x)\n",
    "    labels = kmeans.labels_\n",
    "    cluster_pred = kmeans.predict(x)\n",
    "    cluster_centres = kmeans.cluster_centers_\n",
    "\n",
    "    return kmeans, labels, cluster_pred, cluster_centres"
   ]
  },
  {
   "cell_type": "markdown",
   "id": "43c3fe58",
   "metadata": {},
   "source": [
    "# Avaliação da Clusterização"
   ]
  },
  {
   "cell_type": "code",
   "execution_count": 47,
   "id": "3374377d",
   "metadata": {},
   "outputs": [],
   "source": [
    "# Função para avaliadção da clusterização\n",
    "\n",
    "def avaliacao_clusterizacao(labels):\n",
    "    # Scores\n",
    "    score = silhouette_score(x, labels)\n",
    "    db_index = davies_bouldin_score(x, labels)\n",
    "    ch_index = calinski_harabasz_score(x, labels)\n",
    "\n",
    "    return score, db_index, ch_index\n"
   ]
  },
  {
   "cell_type": "code",
   "execution_count": 48,
   "id": "01ac17c5",
   "metadata": {},
   "outputs": [],
   "source": [
    "# Função para alimentar dataframe da avaliação da clusterização\n",
    "\n",
    "def alimenta_df_avaliacao_clusterizacao(df_avaliacao, k, score, db_index, ch_index):\n",
    "    df_avaliacao.loc[len(df_avaliacao)] = [k, score, db_index, ch_index]"
   ]
  },
  {
   "cell_type": "code",
   "execution_count": 49,
   "id": "e6b6ec66",
   "metadata": {},
   "outputs": [],
   "source": [
    "# Função para visualização dos clusters\n",
    "\n",
    "def visualiza_clusters(x, labels, k):\n",
    "    #PCA\n",
    "    pca = PCA(n_components=2)\n",
    "    X_pca = pca.fit_transform(x)\n",
    "    plt.scatter(X_pca[:,0], X_pca[:,1], c=labels, cmap='Set2', s=50)\n",
    "    plt.xlabel(\"PC1\")\n",
    "    plt.ylabel(\"PC2\")\n",
    "    plt.title(\"Clusters (PCA)\")\n",
    "    plt.show()\n",
    "\n",
    "    # TSNE\n",
    "    tsne = TSNE(n_components=2, random_state=42)\n",
    "    X_tsne = tsne.fit_transform(x)\n",
    "    plt.scatter(X_tsne[:,0], X_tsne[:,1], c=labels, cmap='Set2', s=50)\n",
    "    plt.title(\"Clusters (t-SNE)\")\n",
    "    plt.show()"
   ]
  },
  {
   "cell_type": "code",
   "execution_count": 50,
   "id": "072d6065",
   "metadata": {},
   "outputs": [],
   "source": [
    "# Função para visualização da distribuiçlão dos valores de cada coluna por cluster\n",
    "\n",
    "def visualiza_colunas_por_cluster(df, k):\n",
    "\n",
    "    colunas_graficos = ['moduloid_moda', 'productlineid_moda', 'slotid_moda', 'statuslicenca_moda']\n",
    "\n",
    "    for coluna in colunas_graficos:\n",
    "        \n",
    "        # Criar tabela de contingência: linhas = categorias, colunas = clusters\n",
    "        contagem = pd.crosstab(df[coluna], df[f\"cluster_{k}\"])\n",
    "\n",
    "        # Plotar gráfico de barras empilhadas\n",
    "        contagem.plot(kind=\"bar\", stacked=True, colormap=\"Set2\")\n",
    "\n",
    "        plt.xlabel(coluna)\n",
    "        plt.ylabel(\"Contagem\")\n",
    "        plt.title(f\"Contagem de {coluna} por cluster para k={k}\")\n",
    "        plt.legend(title=\"Cluster\")\n",
    "        plt.show()"
   ]
  },
  {
   "cell_type": "code",
   "execution_count": 51,
   "id": "fe278517",
   "metadata": {},
   "outputs": [],
   "source": [
    "# Função para exibir a contagem do número de clientes e de casos por cluster\n",
    "\n",
    "def mostra_contagem_clientes_casos(df, k):\n",
    "    df_contagem_clientes_casos = df.groupby(f'cluster_{k}').agg({'clienteid': 'count', 'contagem': 'sum'}).reset_index()\n",
    "    df_contagem_clientes_casos.columns = [f'cluster_{k}', 'numero_clientes', 'numero_eventos']\n",
    "    print(df_contagem_clientes_casos)"
   ]
  },
  {
   "cell_type": "markdown",
   "id": "c0277a94",
   "metadata": {},
   "source": [
    "# Pipeline de clusterização"
   ]
  },
  {
   "cell_type": "code",
   "execution_count": 52,
   "id": "5dfd9059",
   "metadata": {},
   "outputs": [],
   "source": [
    "# Definindo limite de k para teste\n",
    "\n",
    "k_max = 10\n",
    "\n",
    "valores_k = list(range(3, (k_max+1)))"
   ]
  },
  {
   "cell_type": "code",
   "execution_count": 53,
   "id": "32e5b4c7",
   "metadata": {},
   "outputs": [
    {
     "name": "stdout",
     "output_type": "stream",
     "text": [
      "\n",
      "Clusterização com k=3:\n",
      "\n",
      "Número de clientes e casos por cluster para k=3:\n",
      "\n",
      "   cluster_3  numero_clientes  numero_eventos\n",
      "0          0             2693        11526896\n",
      "1          1              717          973072\n",
      "2          2             1055        18304229\n",
      "\n",
      "Clusterização com k=4:\n",
      "\n",
      "Número de clientes e casos por cluster para k=4:\n",
      "\n",
      "   cluster_4  numero_clientes  numero_eventos\n",
      "0          0             2252         7966860\n",
      "1          1              716          972682\n",
      "2          2             1055        18304229\n",
      "3          3              442         3560426\n",
      "\n",
      "Clusterização com k=5:\n",
      "\n",
      "Número de clientes e casos por cluster para k=5:\n",
      "\n",
      "   cluster_5  numero_clientes  numero_eventos\n",
      "0          0             2177         7894062\n",
      "1          1              714          968910\n",
      "2          2             1055        18304229\n",
      "3          3              428         3559751\n",
      "4          4               91           77245\n",
      "\n",
      "Clusterização com k=6:\n",
      "\n",
      "Número de clientes e casos por cluster para k=6:\n",
      "\n",
      "   cluster_6  numero_clientes  numero_eventos\n",
      "0          0             2177         7894062\n",
      "1          1              714          968910\n",
      "2          2             1055        18304229\n",
      "3          3              134          511960\n",
      "4          4               91           77245\n",
      "5          5              294         3047791\n",
      "\n",
      "Clusterização com k=7:\n",
      "\n",
      "Número de clientes e casos por cluster para k=7:\n",
      "\n",
      "   cluster_7  numero_clientes  numero_eventos\n",
      "0          0             2177         7894062\n",
      "1          1              714          968910\n",
      "2          2              957        16304432\n",
      "3          3              134          511960\n",
      "4          4               91           77245\n",
      "5          5              294         3047791\n",
      "6          6               98         1999797\n",
      "\n",
      "Clusterização com k=8:\n",
      "\n",
      "Número de clientes e casos por cluster para k=8:\n",
      "\n",
      "   cluster_8  numero_clientes  numero_eventos\n",
      "0          0             2086         6026263\n",
      "1          1              957        16304432\n",
      "2          2              428         3559751\n",
      "3          3              714          968910\n",
      "4          4               34         1944952\n",
      "5          5               91           77245\n",
      "6          6               91         1867799\n",
      "7          7               64           54845\n",
      "\n",
      "Clusterização com k=9:\n",
      "\n",
      "Número de clientes e casos por cluster para k=9:\n",
      "\n",
      "   cluster_9  numero_clientes  numero_eventos\n",
      "0          0             2086         6026263\n",
      "1          1              957        16304432\n",
      "2          2              294         3047791\n",
      "3          3              714          968910\n",
      "4          4               34         1944952\n",
      "5          5               91           77245\n",
      "6          6               91         1867799\n",
      "7          7               64           54845\n",
      "8          8              134          511960\n",
      "\n",
      "Clusterização com k=10:\n",
      "\n",
      "Número de clientes e casos por cluster para k=10:\n",
      "\n",
      "   cluster_10  numero_clientes  numero_eventos\n",
      "0           0             2086         6026263\n",
      "1           1              957        16304432\n",
      "2           2              294         3047791\n",
      "3           3              714          968910\n",
      "4           4               34         1944952\n",
      "5           5               77           76570\n",
      "6           6               91         1867799\n",
      "7           7               64           54845\n",
      "8           8              134          511960\n",
      "9           9               14             675\n",
      "\n",
      "Comparação final entre os indicadores de cada clusterização:\n",
      "\n",
      "   clusters  silhouette_score  davies_bouldin_score  calinski_harabasz_score\n",
      "0       3.0          0.767470              0.355642              8498.048816\n",
      "1       4.0          0.839266              0.316919             14146.897208\n",
      "2       5.0          0.873991              0.269028             20919.824167\n",
      "3       6.0          0.875883              0.260879             19513.731511\n",
      "4       7.0          0.883573              0.324133             26452.553667\n",
      "5       8.0          0.894159              0.250617             31613.614285\n",
      "6       9.0          0.905416              0.242495             42806.198359\n",
      "7      10.0          0.907920              0.211651             46451.603965\n"
     ]
    }
   ],
   "source": [
    "# Pipeline de clusterização com diversos valores de k\n",
    "\n",
    "# Lista com os nomes das colunas de avaliação\n",
    "colunas_avaliacao = [\"clusters\", \"silhouette_score\", \"davies_bouldin_score\", \"calinski_harabasz_score\"]\n",
    "\n",
    "# Cria um DataFrame vazio para avaliação\n",
    "df_avaliacao = pd.DataFrame(columns=colunas_avaliacao)\n",
    "\n",
    "for k in valores_k:\n",
    "    # Clusterização\n",
    "    print(f\"\\nClusterização com k={k}:\\n\")\n",
    "    kmeans, labels, cluster_pred, cluster_centres = clusterização_kmeans(k)\n",
    "\n",
    "    #print(f\"\\nVisualização da clusterização com {k} clusters:\\n\")\n",
    "    #visualiza_clusters(x, labels, k)\n",
    "\n",
    "    # Alimentando os dfs originais com os clusters \n",
    "    df_agrupado[f\"cluster_{k}\"] = kmeans.labels_\n",
    "    df_agrupado_2[f\"cluster_{k}\"] = kmeans.labels_\n",
    "\n",
    "    # Exibição no número de clientes e casos por cluster\n",
    "    print(f\"Número de clientes e casos por cluster para k={k}:\\n\")\n",
    "    mostra_contagem_clientes_casos(df_agrupado_2, k)\n",
    "\n",
    "    # Gerando os gráficos de distribuiução dos valores de cada coluna por cluster\n",
    "    #print(f\"\\nGráficos de distribuição para k={k}:\\n\")\n",
    "    #visualiza_colunas_por_cluster(df_agrupado_2, k)\n",
    "\n",
    "    # Alimentando o df de avaliação geral dos clusters\n",
    "    score, db_index, ch_index = avaliacao_clusterizacao(labels)\n",
    "    alimenta_df_avaliacao_clusterizacao(df_avaliacao, k, score, db_index, ch_index)\n",
    "\n",
    "# Exibindo df com a avaliação da clusterização\n",
    "print(\"\\nComparação final entre os indicadores de cada clusterização:\\n\")\n",
    "print(df_avaliacao)"
   ]
  },
  {
   "cell_type": "markdown",
   "id": "abdff5fc",
   "metadata": {},
   "source": [
    "silhouette_score: quanto maior, melhor\n",
    "\n",
    "davies_bouldin_score : quanto menor, melhor\n",
    "\n",
    "calinski_harabasz_score: quanto maior, melhor"
   ]
  },
  {
   "cell_type": "code",
   "execution_count": 54,
   "id": "839198be",
   "metadata": {},
   "outputs": [
    {
     "data": {
      "application/vnd.microsoft.datawrangler.viewer.v0+json": {
       "columns": [
        {
         "name": "index",
         "rawType": "int64",
         "type": "integer"
        },
        {
         "name": "clienteid",
         "rawType": "object",
         "type": "string"
        },
        {
         "name": "moduloid_moda",
         "rawType": "int64",
         "type": "integer"
        },
        {
         "name": "productlineid_moda",
         "rawType": "int64",
         "type": "integer"
        },
        {
         "name": "slotid_moda",
         "rawType": "int64",
         "type": "integer"
        },
        {
         "name": "statuslicenca_moda",
         "rawType": "object",
         "type": "unknown"
        },
        {
         "name": "contagem",
         "rawType": "int64",
         "type": "integer"
        },
        {
         "name": "cluster_3",
         "rawType": "int32",
         "type": "integer"
        },
        {
         "name": "cluster_4",
         "rawType": "int32",
         "type": "integer"
        },
        {
         "name": "cluster_5",
         "rawType": "int32",
         "type": "integer"
        },
        {
         "name": "cluster_6",
         "rawType": "int32",
         "type": "integer"
        },
        {
         "name": "cluster_7",
         "rawType": "int32",
         "type": "integer"
        },
        {
         "name": "cluster_8",
         "rawType": "int32",
         "type": "integer"
        },
        {
         "name": "cluster_9",
         "rawType": "int32",
         "type": "integer"
        },
        {
         "name": "cluster_10",
         "rawType": "int32",
         "type": "integer"
        }
       ],
       "ref": "a64eda67-7770-412d-a6db-cd93bb16f94f",
       "rows": [
        [
         "0",
         "T00053",
         "5553",
         "6",
         "4000",
         "Desconectado",
         "4400",
         "0",
         "3",
         "3",
         "5",
         "5",
         "2",
         "2",
         "2"
        ],
        [
         "1",
         "T00082",
         "5629",
         "6",
         "4004",
         "Desconectado",
         "3103",
         "0",
         "3",
         "3",
         "5",
         "5",
         "2",
         "2",
         "2"
        ],
        [
         "2",
         "T00145",
         "5",
         "2",
         "4000",
         "Desconectado",
         "1022",
         "0",
         "0",
         "0",
         "0",
         "0",
         "0",
         "0",
         "0"
        ],
        [
         "3",
         "T00245",
         "5",
         "2",
         "4000",
         "Desconectado",
         "303",
         "0",
         "0",
         "0",
         "0",
         "0",
         "0",
         "0",
         "0"
        ],
        [
         "4",
         "T00255",
         "516",
         "3",
         "0",
         "Desconectado",
         "1261",
         "2",
         "2",
         "2",
         "2",
         "2",
         "1",
         "1",
         "1"
        ],
        [
         "5",
         "T00336",
         "5",
         "2",
         "4000",
         "Desconectado",
         "11197",
         "0",
         "0",
         "0",
         "0",
         "0",
         "0",
         "0",
         "0"
        ],
        [
         "6",
         "T00390",
         "2",
         "2",
         "4000",
         "Desconectado",
         "1761",
         "0",
         "0",
         "0",
         "0",
         "0",
         "0",
         "0",
         "0"
        ],
        [
         "7",
         "T00538",
         "520",
         "3",
         "0",
         "Desconectado",
         "14385",
         "2",
         "2",
         "2",
         "2",
         "2",
         "1",
         "1",
         "1"
        ],
        [
         "8",
         "T00546",
         "523",
         "3",
         "0",
         "Desconectado",
         "490",
         "2",
         "2",
         "2",
         "2",
         "2",
         "1",
         "1",
         "1"
        ],
        [
         "9",
         "T00631",
         "9",
         "2",
         "4134",
         null,
         "6",
         "0",
         "0",
         "4",
         "4",
         "4",
         "5",
         "5",
         "5"
        ],
        [
         "10",
         "T00673",
         "6",
         "2",
         "4000",
         "Desconectado",
         "3707",
         "0",
         "0",
         "0",
         "0",
         "0",
         "0",
         "0",
         "0"
        ],
        [
         "11",
         "T00686",
         "5553",
         "6",
         "4000",
         "Desconectado",
         "147",
         "0",
         "3",
         "3",
         "5",
         "5",
         "2",
         "2",
         "2"
        ],
        [
         "12",
         "T00737",
         "2",
         "2",
         "4000",
         "Desconectado",
         "1923",
         "0",
         "0",
         "0",
         "0",
         "0",
         "0",
         "0",
         "0"
        ],
        [
         "13",
         "T00788",
         "520",
         "3",
         "0",
         "Desconectado",
         "8930",
         "2",
         "2",
         "2",
         "2",
         "2",
         "1",
         "1",
         "1"
        ],
        [
         "14",
         "T00971",
         "6",
         "2",
         "4024",
         "Desconectado",
         "1156",
         "0",
         "0",
         "0",
         "0",
         "0",
         "0",
         "0",
         "0"
        ],
        [
         "15",
         "T01008",
         "5",
         "2",
         "4016",
         "Desconectado",
         "1566",
         "0",
         "0",
         "0",
         "0",
         "0",
         "0",
         "0",
         "0"
        ],
        [
         "16",
         "T01060",
         "2",
         "2",
         "0",
         "Desconectado",
         "1821",
         "2",
         "2",
         "2",
         "2",
         "2",
         "1",
         "1",
         "1"
        ],
        [
         "17",
         "T01085",
         "200",
         "2",
         "0",
         "Desconectado",
         "992",
         "2",
         "2",
         "2",
         "2",
         "2",
         "1",
         "1",
         "1"
        ],
        [
         "18",
         "T01104",
         "33",
         "2",
         "0",
         "Desconectado",
         "5547",
         "2",
         "2",
         "2",
         "2",
         "2",
         "1",
         "1",
         "1"
        ],
        [
         "19",
         "T01127",
         "5",
         "2",
         "4000",
         "Desconectado",
         "542",
         "0",
         "0",
         "0",
         "0",
         "0",
         "0",
         "0",
         "0"
        ],
        [
         "20",
         "T01134",
         "520",
         "3",
         "0",
         "Desconectado",
         "6182",
         "2",
         "2",
         "2",
         "2",
         "2",
         "1",
         "1",
         "1"
        ],
        [
         "21",
         "T01173",
         "2",
         "2",
         "4000",
         "Desconectado",
         "5380",
         "0",
         "0",
         "0",
         "0",
         "0",
         "0",
         "0",
         "0"
        ],
        [
         "22",
         "T01205",
         "5",
         "2",
         "4000",
         "Desconectado",
         "5216",
         "0",
         "0",
         "0",
         "0",
         "0",
         "0",
         "0",
         "0"
        ],
        [
         "23",
         "T01254",
         "5629",
         "6",
         "4000",
         "Desconectado",
         "1471",
         "0",
         "3",
         "3",
         "5",
         "5",
         "2",
         "2",
         "2"
        ],
        [
         "24",
         "T01259",
         "738",
         "9",
         "3502",
         "Desconectado",
         "9926",
         "0",
         "0",
         "0",
         "0",
         "0",
         "6",
         "6",
         "6"
        ],
        [
         "25",
         "T01351",
         "2",
         "2",
         "4024",
         "Desconectado",
         "473",
         "0",
         "0",
         "0",
         "0",
         "0",
         "0",
         "0",
         "0"
        ],
        [
         "26",
         "T01356",
         "84",
         "2",
         "4000",
         "Desconectado",
         "247",
         "0",
         "0",
         "0",
         "0",
         "0",
         "0",
         "0",
         "0"
        ],
        [
         "27",
         "T01384",
         "43",
         "2",
         "4171",
         "Desconectado",
         "7422",
         "0",
         "0",
         "0",
         "0",
         "0",
         "0",
         "0",
         "0"
        ],
        [
         "28",
         "T01436",
         "6",
         "2",
         "4000",
         "Desconectado",
         "1683",
         "0",
         "0",
         "0",
         "0",
         "0",
         "0",
         "0",
         "0"
        ],
        [
         "29",
         "T01487",
         "6",
         "2",
         "4000",
         "Desconectado",
         "1359",
         "0",
         "0",
         "0",
         "0",
         "0",
         "0",
         "0",
         "0"
        ],
        [
         "30",
         "T01502",
         "5209",
         "6",
         "0",
         "Desconectado",
         "79897",
         "2",
         "2",
         "2",
         "2",
         "6",
         "4",
         "4",
         "4"
        ],
        [
         "31",
         "T01526",
         "7",
         "2",
         "4000",
         "Desconectado",
         "26",
         "0",
         "0",
         "0",
         "0",
         "0",
         "0",
         "0",
         "0"
        ],
        [
         "32",
         "T01567",
         "7",
         "2",
         "4000",
         "Desconectado",
         "723",
         "0",
         "0",
         "0",
         "0",
         "0",
         "0",
         "0",
         "0"
        ],
        [
         "33",
         "T01667",
         "4007",
         "6",
         "4000",
         "Desconectado",
         "2258",
         "0",
         "3",
         "3",
         "5",
         "5",
         "2",
         "2",
         "2"
        ],
        [
         "34",
         "T01670",
         "5",
         "2",
         "4000",
         "Desconectado",
         "4925",
         "0",
         "0",
         "0",
         "0",
         "0",
         "0",
         "0",
         "0"
        ],
        [
         "35",
         "T01690",
         "520",
         "3",
         "0",
         "Desconectado",
         "10111",
         "2",
         "2",
         "2",
         "2",
         "2",
         "1",
         "1",
         "1"
        ],
        [
         "36",
         "T01695",
         "2",
         "2",
         "4000",
         "Desconectado",
         "54",
         "0",
         "0",
         "0",
         "0",
         "0",
         "0",
         "0",
         "0"
        ],
        [
         "37",
         "T01702",
         "6",
         "2",
         "4000",
         "Desconectado",
         "1715",
         "0",
         "0",
         "0",
         "0",
         "0",
         "0",
         "0",
         "0"
        ],
        [
         "38",
         "T01724",
         "84",
         "2",
         "4000",
         "Desconectado",
         "477",
         "0",
         "0",
         "0",
         "0",
         "0",
         "0",
         "0",
         "0"
        ],
        [
         "39",
         "T01726",
         "6",
         "2",
         "0",
         "Desconectado",
         "819",
         "2",
         "2",
         "2",
         "2",
         "2",
         "1",
         "1",
         "1"
        ],
        [
         "40",
         "T01743",
         "6",
         "2",
         "4000",
         "Desconectado",
         "807",
         "0",
         "0",
         "0",
         "0",
         "0",
         "0",
         "0",
         "0"
        ],
        [
         "41",
         "T01759",
         "5",
         "2",
         "4000",
         "Desconectado",
         "481",
         "0",
         "0",
         "0",
         "0",
         "0",
         "0",
         "0",
         "0"
        ],
        [
         "42",
         "T01777",
         "5",
         "2",
         "4000",
         "Desconectado",
         "594",
         "0",
         "0",
         "0",
         "0",
         "0",
         "0",
         "0",
         "0"
        ],
        [
         "43",
         "T01846",
         "4",
         "2",
         "4000",
         "Desconectado",
         "2871",
         "0",
         "0",
         "0",
         "0",
         "0",
         "0",
         "0",
         "0"
        ],
        [
         "44",
         "T01872",
         "6",
         "2",
         "4000",
         "Desconectado",
         "739",
         "0",
         "0",
         "0",
         "0",
         "0",
         "0",
         "0",
         "0"
        ],
        [
         "45",
         "T01877",
         "5",
         "2",
         "4000",
         "Desconectado",
         "5143",
         "0",
         "0",
         "0",
         "0",
         "0",
         "0",
         "0",
         "0"
        ],
        [
         "46",
         "T01899",
         "5",
         "2",
         "4000",
         "Desconectado",
         "2091",
         "0",
         "0",
         "0",
         "0",
         "0",
         "0",
         "0",
         "0"
        ],
        [
         "47",
         "T01901",
         "5",
         "2",
         "4000",
         "Desconectado",
         "3536",
         "0",
         "0",
         "0",
         "0",
         "0",
         "0",
         "0",
         "0"
        ],
        [
         "48",
         "T02069",
         "6",
         "2",
         "4000",
         "Desconectado",
         "3747",
         "0",
         "0",
         "0",
         "0",
         "0",
         "0",
         "0",
         "0"
        ],
        [
         "49",
         "T02072",
         "4093",
         "2",
         "4000",
         "Desconectado",
         "2164",
         "0",
         "3",
         "3",
         "3",
         "3",
         "2",
         "8",
         "8"
        ]
       ],
       "shape": {
        "columns": 14,
        "rows": 4465
       }
      },
      "text/html": [
       "<div>\n",
       "<style scoped>\n",
       "    .dataframe tbody tr th:only-of-type {\n",
       "        vertical-align: middle;\n",
       "    }\n",
       "\n",
       "    .dataframe tbody tr th {\n",
       "        vertical-align: top;\n",
       "    }\n",
       "\n",
       "    .dataframe thead th {\n",
       "        text-align: right;\n",
       "    }\n",
       "</style>\n",
       "<table border=\"1\" class=\"dataframe\">\n",
       "  <thead>\n",
       "    <tr style=\"text-align: right;\">\n",
       "      <th></th>\n",
       "      <th>clienteid</th>\n",
       "      <th>moduloid_moda</th>\n",
       "      <th>productlineid_moda</th>\n",
       "      <th>slotid_moda</th>\n",
       "      <th>statuslicenca_moda</th>\n",
       "      <th>contagem</th>\n",
       "      <th>cluster_3</th>\n",
       "      <th>cluster_4</th>\n",
       "      <th>cluster_5</th>\n",
       "      <th>cluster_6</th>\n",
       "      <th>cluster_7</th>\n",
       "      <th>cluster_8</th>\n",
       "      <th>cluster_9</th>\n",
       "      <th>cluster_10</th>\n",
       "    </tr>\n",
       "  </thead>\n",
       "  <tbody>\n",
       "    <tr>\n",
       "      <th>0</th>\n",
       "      <td>T00053</td>\n",
       "      <td>5553</td>\n",
       "      <td>6</td>\n",
       "      <td>4000</td>\n",
       "      <td>Desconectado</td>\n",
       "      <td>4400</td>\n",
       "      <td>0</td>\n",
       "      <td>3</td>\n",
       "      <td>3</td>\n",
       "      <td>5</td>\n",
       "      <td>5</td>\n",
       "      <td>2</td>\n",
       "      <td>2</td>\n",
       "      <td>2</td>\n",
       "    </tr>\n",
       "    <tr>\n",
       "      <th>1</th>\n",
       "      <td>T00082</td>\n",
       "      <td>5629</td>\n",
       "      <td>6</td>\n",
       "      <td>4004</td>\n",
       "      <td>Desconectado</td>\n",
       "      <td>3103</td>\n",
       "      <td>0</td>\n",
       "      <td>3</td>\n",
       "      <td>3</td>\n",
       "      <td>5</td>\n",
       "      <td>5</td>\n",
       "      <td>2</td>\n",
       "      <td>2</td>\n",
       "      <td>2</td>\n",
       "    </tr>\n",
       "    <tr>\n",
       "      <th>2</th>\n",
       "      <td>T00145</td>\n",
       "      <td>5</td>\n",
       "      <td>2</td>\n",
       "      <td>4000</td>\n",
       "      <td>Desconectado</td>\n",
       "      <td>1022</td>\n",
       "      <td>0</td>\n",
       "      <td>0</td>\n",
       "      <td>0</td>\n",
       "      <td>0</td>\n",
       "      <td>0</td>\n",
       "      <td>0</td>\n",
       "      <td>0</td>\n",
       "      <td>0</td>\n",
       "    </tr>\n",
       "    <tr>\n",
       "      <th>3</th>\n",
       "      <td>T00245</td>\n",
       "      <td>5</td>\n",
       "      <td>2</td>\n",
       "      <td>4000</td>\n",
       "      <td>Desconectado</td>\n",
       "      <td>303</td>\n",
       "      <td>0</td>\n",
       "      <td>0</td>\n",
       "      <td>0</td>\n",
       "      <td>0</td>\n",
       "      <td>0</td>\n",
       "      <td>0</td>\n",
       "      <td>0</td>\n",
       "      <td>0</td>\n",
       "    </tr>\n",
       "    <tr>\n",
       "      <th>4</th>\n",
       "      <td>T00255</td>\n",
       "      <td>516</td>\n",
       "      <td>3</td>\n",
       "      <td>0</td>\n",
       "      <td>Desconectado</td>\n",
       "      <td>1261</td>\n",
       "      <td>2</td>\n",
       "      <td>2</td>\n",
       "      <td>2</td>\n",
       "      <td>2</td>\n",
       "      <td>2</td>\n",
       "      <td>1</td>\n",
       "      <td>1</td>\n",
       "      <td>1</td>\n",
       "    </tr>\n",
       "    <tr>\n",
       "      <th>...</th>\n",
       "      <td>...</td>\n",
       "      <td>...</td>\n",
       "      <td>...</td>\n",
       "      <td>...</td>\n",
       "      <td>...</td>\n",
       "      <td>...</td>\n",
       "      <td>...</td>\n",
       "      <td>...</td>\n",
       "      <td>...</td>\n",
       "      <td>...</td>\n",
       "      <td>...</td>\n",
       "      <td>...</td>\n",
       "      <td>...</td>\n",
       "      <td>...</td>\n",
       "    </tr>\n",
       "    <tr>\n",
       "      <th>4460</th>\n",
       "      <td>TFEE30</td>\n",
       "      <td>9</td>\n",
       "      <td>2</td>\n",
       "      <td>4134</td>\n",
       "      <td>NaN</td>\n",
       "      <td>4</td>\n",
       "      <td>0</td>\n",
       "      <td>0</td>\n",
       "      <td>4</td>\n",
       "      <td>4</td>\n",
       "      <td>4</td>\n",
       "      <td>5</td>\n",
       "      <td>5</td>\n",
       "      <td>5</td>\n",
       "    </tr>\n",
       "    <tr>\n",
       "      <th>4461</th>\n",
       "      <td>TFEE44</td>\n",
       "      <td>22</td>\n",
       "      <td>2</td>\n",
       "      <td>4027</td>\n",
       "      <td>Desconectado</td>\n",
       "      <td>131</td>\n",
       "      <td>0</td>\n",
       "      <td>0</td>\n",
       "      <td>0</td>\n",
       "      <td>0</td>\n",
       "      <td>0</td>\n",
       "      <td>0</td>\n",
       "      <td>0</td>\n",
       "      <td>0</td>\n",
       "    </tr>\n",
       "    <tr>\n",
       "      <th>4462</th>\n",
       "      <td>TFEE47</td>\n",
       "      <td>534</td>\n",
       "      <td>3</td>\n",
       "      <td>4001</td>\n",
       "      <td>Desconectado</td>\n",
       "      <td>10376</td>\n",
       "      <td>0</td>\n",
       "      <td>0</td>\n",
       "      <td>0</td>\n",
       "      <td>0</td>\n",
       "      <td>0</td>\n",
       "      <td>0</td>\n",
       "      <td>0</td>\n",
       "      <td>0</td>\n",
       "    </tr>\n",
       "    <tr>\n",
       "      <th>4463</th>\n",
       "      <td>TFEEAA</td>\n",
       "      <td>99</td>\n",
       "      <td>2</td>\n",
       "      <td>0</td>\n",
       "      <td>Desconectado</td>\n",
       "      <td>8</td>\n",
       "      <td>2</td>\n",
       "      <td>2</td>\n",
       "      <td>2</td>\n",
       "      <td>2</td>\n",
       "      <td>2</td>\n",
       "      <td>1</td>\n",
       "      <td>1</td>\n",
       "      <td>1</td>\n",
       "    </tr>\n",
       "    <tr>\n",
       "      <th>4464</th>\n",
       "      <td>TFEEEH</td>\n",
       "      <td>6</td>\n",
       "      <td>2</td>\n",
       "      <td>4022</td>\n",
       "      <td>Desconectado</td>\n",
       "      <td>16</td>\n",
       "      <td>0</td>\n",
       "      <td>0</td>\n",
       "      <td>0</td>\n",
       "      <td>0</td>\n",
       "      <td>0</td>\n",
       "      <td>0</td>\n",
       "      <td>0</td>\n",
       "      <td>0</td>\n",
       "    </tr>\n",
       "  </tbody>\n",
       "</table>\n",
       "<p>4465 rows × 14 columns</p>\n",
       "</div>"
      ],
      "text/plain": [
       "     clienteid  moduloid_moda  productlineid_moda  slotid_moda  \\\n",
       "0       T00053           5553                   6         4000   \n",
       "1       T00082           5629                   6         4004   \n",
       "2       T00145              5                   2         4000   \n",
       "3       T00245              5                   2         4000   \n",
       "4       T00255            516                   3            0   \n",
       "...        ...            ...                 ...          ...   \n",
       "4460    TFEE30              9                   2         4134   \n",
       "4461    TFEE44             22                   2         4027   \n",
       "4462    TFEE47            534                   3         4001   \n",
       "4463    TFEEAA             99                   2            0   \n",
       "4464    TFEEEH              6                   2         4022   \n",
       "\n",
       "     statuslicenca_moda  contagem  cluster_3  cluster_4  cluster_5  cluster_6  \\\n",
       "0          Desconectado      4400          0          3          3          5   \n",
       "1          Desconectado      3103          0          3          3          5   \n",
       "2          Desconectado      1022          0          0          0          0   \n",
       "3          Desconectado       303          0          0          0          0   \n",
       "4          Desconectado      1261          2          2          2          2   \n",
       "...                 ...       ...        ...        ...        ...        ...   \n",
       "4460                NaN         4          0          0          4          4   \n",
       "4461       Desconectado       131          0          0          0          0   \n",
       "4462       Desconectado     10376          0          0          0          0   \n",
       "4463       Desconectado         8          2          2          2          2   \n",
       "4464       Desconectado        16          0          0          0          0   \n",
       "\n",
       "      cluster_7  cluster_8  cluster_9  cluster_10  \n",
       "0             5          2          2           2  \n",
       "1             5          2          2           2  \n",
       "2             0          0          0           0  \n",
       "3             0          0          0           0  \n",
       "4             2          1          1           1  \n",
       "...         ...        ...        ...         ...  \n",
       "4460          4          5          5           5  \n",
       "4461          0          0          0           0  \n",
       "4462          0          0          0           0  \n",
       "4463          2          1          1           1  \n",
       "4464          0          0          0           0  \n",
       "\n",
       "[4465 rows x 14 columns]"
      ]
     },
     "execution_count": 54,
     "metadata": {},
     "output_type": "execute_result"
    }
   ],
   "source": [
    "df_agrupado_2"
   ]
  },
  {
   "cell_type": "code",
   "execution_count": 55,
   "id": "c72179d8",
   "metadata": {},
   "outputs": [
    {
     "name": "stdout",
     "output_type": "stream",
     "text": [
      "cluster_3  clienteid\n",
      "0          2693         1\n",
      "1          717          1\n",
      "2          1055         1\n",
      "Name: count, dtype: int64\n",
      "cluster_4  clienteid\n",
      "0          2252         1\n",
      "1          716          1\n",
      "2          1055         1\n",
      "3          442          1\n",
      "Name: count, dtype: int64\n",
      "cluster_5  clienteid\n",
      "0          2177         1\n",
      "1          714          1\n",
      "2          1055         1\n",
      "3          428          1\n",
      "4          91           1\n",
      "Name: count, dtype: int64\n",
      "cluster_6  clienteid\n",
      "0          2177         1\n",
      "1          714          1\n",
      "2          1055         1\n",
      "3          134          1\n",
      "4          91           1\n",
      "5          294          1\n",
      "Name: count, dtype: int64\n",
      "cluster_7  clienteid\n",
      "0          2177         1\n",
      "1          714          1\n",
      "2          957          1\n",
      "3          134          1\n",
      "4          91           1\n",
      "5          294          1\n",
      "6          98           1\n",
      "Name: count, dtype: int64\n",
      "cluster_8  clienteid\n",
      "0          2086         1\n",
      "1          957          1\n",
      "2          428          1\n",
      "3          714          1\n",
      "4          34           1\n",
      "5          91           1\n",
      "6          91           1\n",
      "7          64           1\n",
      "Name: count, dtype: int64\n",
      "cluster_9  clienteid\n",
      "0          2086         1\n",
      "1          957          1\n",
      "2          294          1\n",
      "3          714          1\n",
      "4          34           1\n",
      "5          91           1\n",
      "6          91           1\n",
      "7          64           1\n",
      "8          134          1\n",
      "Name: count, dtype: int64\n",
      "cluster_10  clienteid\n",
      "0           2086         1\n",
      "1           957          1\n",
      "2           294          1\n",
      "3           714          1\n",
      "4           34           1\n",
      "5           77           1\n",
      "6           91           1\n",
      "7           64           1\n",
      "8           134          1\n",
      "9           14           1\n",
      "Name: count, dtype: int64\n"
     ]
    }
   ],
   "source": [
    "for k in range (3, k_max+1):\n",
    "    print(df_agrupado_2.groupby(f'cluster_{k}').agg({'clienteid': 'count'}).reset_index().value_counts())"
   ]
  },
  {
   "cell_type": "markdown",
   "id": "4a75e354",
   "metadata": {},
   "source": [
    "Levando tudo em consideração, o número ideal de clusters é de k=5"
   ]
  },
  {
   "cell_type": "markdown",
   "id": "eb1a0fa6",
   "metadata": {},
   "source": [
    "# Exportando dados de telemetria clusterizados"
   ]
  },
  {
   "cell_type": "code",
   "execution_count": 56,
   "id": "93ea3262",
   "metadata": {},
   "outputs": [
    {
     "data": {
      "text/plain": [
       "Index(['clienteid', 'moduloid_moda', 'productlineid_moda', 'slotid_moda',\n",
       "       'statuslicenca_moda', 'contagem', 'cluster_3', 'cluster_4', 'cluster_5',\n",
       "       'cluster_6', 'cluster_7', 'cluster_8', 'cluster_9', 'cluster_10'],\n",
       "      dtype='object')"
      ]
     },
     "execution_count": 56,
     "metadata": {},
     "output_type": "execute_result"
    }
   ],
   "source": [
    "df_agrupado_2.columns"
   ]
  },
  {
   "cell_type": "code",
   "execution_count": 57,
   "id": "59bd507e",
   "metadata": {},
   "outputs": [],
   "source": [
    "df_agrupado_2_tratado = df_agrupado_2.drop(['cluster_3', 'cluster_4', 'cluster_5',\n",
    "       'cluster_6', 'cluster_7', 'cluster_8', 'cluster_9', 'cluster_10'], axis=1)"
   ]
  },
  {
   "cell_type": "code",
   "execution_count": 59,
   "id": "75cab8e8",
   "metadata": {},
   "outputs": [],
   "source": [
    "df_agrupado_2_tratado = df_agrupado_2_tratado.rename(columns={'clienteid': 'CD_CLIENTE'})"
   ]
  },
  {
   "cell_type": "code",
   "execution_count": 60,
   "id": "1bf3aa70",
   "metadata": {},
   "outputs": [
    {
     "data": {
      "application/vnd.microsoft.datawrangler.viewer.v0+json": {
       "columns": [
        {
         "name": "index",
         "rawType": "int64",
         "type": "integer"
        },
        {
         "name": "CD_CLIENTE",
         "rawType": "object",
         "type": "string"
        },
        {
         "name": "moduloid_moda",
         "rawType": "int64",
         "type": "integer"
        },
        {
         "name": "productlineid_moda",
         "rawType": "int64",
         "type": "integer"
        },
        {
         "name": "slotid_moda",
         "rawType": "int64",
         "type": "integer"
        },
        {
         "name": "statuslicenca_moda",
         "rawType": "object",
         "type": "unknown"
        },
        {
         "name": "contagem",
         "rawType": "int64",
         "type": "integer"
        }
       ],
       "ref": "ff96d111-fbad-446f-a3f3-eca82eabec36",
       "rows": [
        [
         "0",
         "T00053",
         "5553",
         "6",
         "4000",
         "Desconectado",
         "4400"
        ],
        [
         "1",
         "T00082",
         "5629",
         "6",
         "4004",
         "Desconectado",
         "3103"
        ],
        [
         "2",
         "T00145",
         "5",
         "2",
         "4000",
         "Desconectado",
         "1022"
        ],
        [
         "3",
         "T00245",
         "5",
         "2",
         "4000",
         "Desconectado",
         "303"
        ],
        [
         "4",
         "T00255",
         "516",
         "3",
         "0",
         "Desconectado",
         "1261"
        ],
        [
         "5",
         "T00336",
         "5",
         "2",
         "4000",
         "Desconectado",
         "11197"
        ],
        [
         "6",
         "T00390",
         "2",
         "2",
         "4000",
         "Desconectado",
         "1761"
        ],
        [
         "7",
         "T00538",
         "520",
         "3",
         "0",
         "Desconectado",
         "14385"
        ],
        [
         "8",
         "T00546",
         "523",
         "3",
         "0",
         "Desconectado",
         "490"
        ],
        [
         "9",
         "T00631",
         "9",
         "2",
         "4134",
         null,
         "6"
        ],
        [
         "10",
         "T00673",
         "6",
         "2",
         "4000",
         "Desconectado",
         "3707"
        ],
        [
         "11",
         "T00686",
         "5553",
         "6",
         "4000",
         "Desconectado",
         "147"
        ],
        [
         "12",
         "T00737",
         "2",
         "2",
         "4000",
         "Desconectado",
         "1923"
        ],
        [
         "13",
         "T00788",
         "520",
         "3",
         "0",
         "Desconectado",
         "8930"
        ],
        [
         "14",
         "T00971",
         "6",
         "2",
         "4024",
         "Desconectado",
         "1156"
        ],
        [
         "15",
         "T01008",
         "5",
         "2",
         "4016",
         "Desconectado",
         "1566"
        ],
        [
         "16",
         "T01060",
         "2",
         "2",
         "0",
         "Desconectado",
         "1821"
        ],
        [
         "17",
         "T01085",
         "200",
         "2",
         "0",
         "Desconectado",
         "992"
        ],
        [
         "18",
         "T01104",
         "33",
         "2",
         "0",
         "Desconectado",
         "5547"
        ],
        [
         "19",
         "T01127",
         "5",
         "2",
         "4000",
         "Desconectado",
         "542"
        ],
        [
         "20",
         "T01134",
         "520",
         "3",
         "0",
         "Desconectado",
         "6182"
        ],
        [
         "21",
         "T01173",
         "2",
         "2",
         "4000",
         "Desconectado",
         "5380"
        ],
        [
         "22",
         "T01205",
         "5",
         "2",
         "4000",
         "Desconectado",
         "5216"
        ],
        [
         "23",
         "T01254",
         "5629",
         "6",
         "4000",
         "Desconectado",
         "1471"
        ],
        [
         "24",
         "T01259",
         "738",
         "9",
         "3502",
         "Desconectado",
         "9926"
        ],
        [
         "25",
         "T01351",
         "2",
         "2",
         "4024",
         "Desconectado",
         "473"
        ],
        [
         "26",
         "T01356",
         "84",
         "2",
         "4000",
         "Desconectado",
         "247"
        ],
        [
         "27",
         "T01384",
         "43",
         "2",
         "4171",
         "Desconectado",
         "7422"
        ],
        [
         "28",
         "T01436",
         "6",
         "2",
         "4000",
         "Desconectado",
         "1683"
        ],
        [
         "29",
         "T01487",
         "6",
         "2",
         "4000",
         "Desconectado",
         "1359"
        ],
        [
         "30",
         "T01502",
         "5209",
         "6",
         "0",
         "Desconectado",
         "79897"
        ],
        [
         "31",
         "T01526",
         "7",
         "2",
         "4000",
         "Desconectado",
         "26"
        ],
        [
         "32",
         "T01567",
         "7",
         "2",
         "4000",
         "Desconectado",
         "723"
        ],
        [
         "33",
         "T01667",
         "4007",
         "6",
         "4000",
         "Desconectado",
         "2258"
        ],
        [
         "34",
         "T01670",
         "5",
         "2",
         "4000",
         "Desconectado",
         "4925"
        ],
        [
         "35",
         "T01690",
         "520",
         "3",
         "0",
         "Desconectado",
         "10111"
        ],
        [
         "36",
         "T01695",
         "2",
         "2",
         "4000",
         "Desconectado",
         "54"
        ],
        [
         "37",
         "T01702",
         "6",
         "2",
         "4000",
         "Desconectado",
         "1715"
        ],
        [
         "38",
         "T01724",
         "84",
         "2",
         "4000",
         "Desconectado",
         "477"
        ],
        [
         "39",
         "T01726",
         "6",
         "2",
         "0",
         "Desconectado",
         "819"
        ],
        [
         "40",
         "T01743",
         "6",
         "2",
         "4000",
         "Desconectado",
         "807"
        ],
        [
         "41",
         "T01759",
         "5",
         "2",
         "4000",
         "Desconectado",
         "481"
        ],
        [
         "42",
         "T01777",
         "5",
         "2",
         "4000",
         "Desconectado",
         "594"
        ],
        [
         "43",
         "T01846",
         "4",
         "2",
         "4000",
         "Desconectado",
         "2871"
        ],
        [
         "44",
         "T01872",
         "6",
         "2",
         "4000",
         "Desconectado",
         "739"
        ],
        [
         "45",
         "T01877",
         "5",
         "2",
         "4000",
         "Desconectado",
         "5143"
        ],
        [
         "46",
         "T01899",
         "5",
         "2",
         "4000",
         "Desconectado",
         "2091"
        ],
        [
         "47",
         "T01901",
         "5",
         "2",
         "4000",
         "Desconectado",
         "3536"
        ],
        [
         "48",
         "T02069",
         "6",
         "2",
         "4000",
         "Desconectado",
         "3747"
        ],
        [
         "49",
         "T02072",
         "4093",
         "2",
         "4000",
         "Desconectado",
         "2164"
        ]
       ],
       "shape": {
        "columns": 6,
        "rows": 4465
       }
      },
      "text/html": [
       "<div>\n",
       "<style scoped>\n",
       "    .dataframe tbody tr th:only-of-type {\n",
       "        vertical-align: middle;\n",
       "    }\n",
       "\n",
       "    .dataframe tbody tr th {\n",
       "        vertical-align: top;\n",
       "    }\n",
       "\n",
       "    .dataframe thead th {\n",
       "        text-align: right;\n",
       "    }\n",
       "</style>\n",
       "<table border=\"1\" class=\"dataframe\">\n",
       "  <thead>\n",
       "    <tr style=\"text-align: right;\">\n",
       "      <th></th>\n",
       "      <th>CD_CLIENTE</th>\n",
       "      <th>moduloid_moda</th>\n",
       "      <th>productlineid_moda</th>\n",
       "      <th>slotid_moda</th>\n",
       "      <th>statuslicenca_moda</th>\n",
       "      <th>contagem</th>\n",
       "    </tr>\n",
       "  </thead>\n",
       "  <tbody>\n",
       "    <tr>\n",
       "      <th>0</th>\n",
       "      <td>T00053</td>\n",
       "      <td>5553</td>\n",
       "      <td>6</td>\n",
       "      <td>4000</td>\n",
       "      <td>Desconectado</td>\n",
       "      <td>4400</td>\n",
       "    </tr>\n",
       "    <tr>\n",
       "      <th>1</th>\n",
       "      <td>T00082</td>\n",
       "      <td>5629</td>\n",
       "      <td>6</td>\n",
       "      <td>4004</td>\n",
       "      <td>Desconectado</td>\n",
       "      <td>3103</td>\n",
       "    </tr>\n",
       "    <tr>\n",
       "      <th>2</th>\n",
       "      <td>T00145</td>\n",
       "      <td>5</td>\n",
       "      <td>2</td>\n",
       "      <td>4000</td>\n",
       "      <td>Desconectado</td>\n",
       "      <td>1022</td>\n",
       "    </tr>\n",
       "    <tr>\n",
       "      <th>3</th>\n",
       "      <td>T00245</td>\n",
       "      <td>5</td>\n",
       "      <td>2</td>\n",
       "      <td>4000</td>\n",
       "      <td>Desconectado</td>\n",
       "      <td>303</td>\n",
       "    </tr>\n",
       "    <tr>\n",
       "      <th>4</th>\n",
       "      <td>T00255</td>\n",
       "      <td>516</td>\n",
       "      <td>3</td>\n",
       "      <td>0</td>\n",
       "      <td>Desconectado</td>\n",
       "      <td>1261</td>\n",
       "    </tr>\n",
       "    <tr>\n",
       "      <th>...</th>\n",
       "      <td>...</td>\n",
       "      <td>...</td>\n",
       "      <td>...</td>\n",
       "      <td>...</td>\n",
       "      <td>...</td>\n",
       "      <td>...</td>\n",
       "    </tr>\n",
       "    <tr>\n",
       "      <th>4460</th>\n",
       "      <td>TFEE30</td>\n",
       "      <td>9</td>\n",
       "      <td>2</td>\n",
       "      <td>4134</td>\n",
       "      <td>NaN</td>\n",
       "      <td>4</td>\n",
       "    </tr>\n",
       "    <tr>\n",
       "      <th>4461</th>\n",
       "      <td>TFEE44</td>\n",
       "      <td>22</td>\n",
       "      <td>2</td>\n",
       "      <td>4027</td>\n",
       "      <td>Desconectado</td>\n",
       "      <td>131</td>\n",
       "    </tr>\n",
       "    <tr>\n",
       "      <th>4462</th>\n",
       "      <td>TFEE47</td>\n",
       "      <td>534</td>\n",
       "      <td>3</td>\n",
       "      <td>4001</td>\n",
       "      <td>Desconectado</td>\n",
       "      <td>10376</td>\n",
       "    </tr>\n",
       "    <tr>\n",
       "      <th>4463</th>\n",
       "      <td>TFEEAA</td>\n",
       "      <td>99</td>\n",
       "      <td>2</td>\n",
       "      <td>0</td>\n",
       "      <td>Desconectado</td>\n",
       "      <td>8</td>\n",
       "    </tr>\n",
       "    <tr>\n",
       "      <th>4464</th>\n",
       "      <td>TFEEEH</td>\n",
       "      <td>6</td>\n",
       "      <td>2</td>\n",
       "      <td>4022</td>\n",
       "      <td>Desconectado</td>\n",
       "      <td>16</td>\n",
       "    </tr>\n",
       "  </tbody>\n",
       "</table>\n",
       "<p>4465 rows × 6 columns</p>\n",
       "</div>"
      ],
      "text/plain": [
       "     CD_CLIENTE  moduloid_moda  productlineid_moda  slotid_moda  \\\n",
       "0        T00053           5553                   6         4000   \n",
       "1        T00082           5629                   6         4004   \n",
       "2        T00145              5                   2         4000   \n",
       "3        T00245              5                   2         4000   \n",
       "4        T00255            516                   3            0   \n",
       "...         ...            ...                 ...          ...   \n",
       "4460     TFEE30              9                   2         4134   \n",
       "4461     TFEE44             22                   2         4027   \n",
       "4462     TFEE47            534                   3         4001   \n",
       "4463     TFEEAA             99                   2            0   \n",
       "4464     TFEEEH              6                   2         4022   \n",
       "\n",
       "     statuslicenca_moda  contagem  \n",
       "0          Desconectado      4400  \n",
       "1          Desconectado      3103  \n",
       "2          Desconectado      1022  \n",
       "3          Desconectado       303  \n",
       "4          Desconectado      1261  \n",
       "...                 ...       ...  \n",
       "4460                NaN         4  \n",
       "4461       Desconectado       131  \n",
       "4462       Desconectado     10376  \n",
       "4463       Desconectado         8  \n",
       "4464       Desconectado        16  \n",
       "\n",
       "[4465 rows x 6 columns]"
      ]
     },
     "execution_count": 60,
     "metadata": {},
     "output_type": "execute_result"
    }
   ],
   "source": [
    "df_agrupado_2_tratado"
   ]
  },
  {
   "cell_type": "code",
   "execution_count": null,
   "id": "5c2b9066",
   "metadata": {},
   "outputs": [],
   "source": [
    "df_agrupado_2 = df_agrupado_2[['clienteid','cluster_5']]"
   ]
  },
  {
   "cell_type": "code",
   "execution_count": 84,
   "id": "96264a08",
   "metadata": {},
   "outputs": [],
   "source": [
    "df_agrupado_2.columns = ['CD_CLIENTE', 'CLUSTER_TELEMETRIA']"
   ]
  },
  {
   "cell_type": "code",
   "execution_count": 86,
   "id": "ebe35362",
   "metadata": {},
   "outputs": [],
   "source": [
    "df_agrupado_2.to_csv(\"telemetria_clusterizado.csv\", index=False, sep=';')"
   ]
  }
 ],
 "metadata": {
  "kernelspec": {
   "display_name": ".venv (3.11.7)",
   "language": "python",
   "name": "python3"
  },
  "language_info": {
   "codemirror_mode": {
    "name": "ipython",
    "version": 3
   },
   "file_extension": ".py",
   "mimetype": "text/x-python",
   "name": "python",
   "nbconvert_exporter": "python",
   "pygments_lexer": "ipython3",
   "version": "3.11.7"
  }
 },
 "nbformat": 4,
 "nbformat_minor": 5
}
